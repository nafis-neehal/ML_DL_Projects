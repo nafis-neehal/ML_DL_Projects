{
  "nbformat": 4,
  "nbformat_minor": 0,
  "metadata": {
    "colab": {
      "name": "HW1.ipynb",
      "provenance": [],
      "collapsed_sections": [],
      "toc_visible": true,
      "authorship_tag": "ABX9TyOLac/kq95L3+uP0hD1Vv1L",
      "include_colab_link": true
    },
    "kernelspec": {
      "name": "python3",
      "display_name": "Python 3"
    },
    "language_info": {
      "name": "python"
    }
  },
  "cells": [
    {
      "cell_type": "markdown",
      "metadata": {
        "id": "view-in-github",
        "colab_type": "text"
      },
      "source": [
        "<a href=\"https://colab.research.google.com/github/nafis-neehal/ML_PROJ_RPI/blob/main/HW1.ipynb\" target=\"_parent\"><img src=\"https://colab.research.google.com/assets/colab-badge.svg\" alt=\"Open In Colab\"/></a>"
      ]
    },
    {
      "cell_type": "markdown",
      "metadata": {
        "id": "QvmoNM3bzi9D"
      },
      "source": [
        "# **Author**\n",
        "Nafis Neehal (661990881) \\\\\n",
        "Graduate Student, Department of CS, RPI"
      ]
    },
    {
      "cell_type": "markdown",
      "metadata": {
        "id": "-ROt7LZOUbJ0"
      },
      "source": [
        "#**Imports**"
      ]
    },
    {
      "cell_type": "code",
      "metadata": {
        "id": "fQAq_xT71LYI"
      },
      "source": [
        "# from google.colab import drive\n",
        "# drive.mount('/content/drive')"
      ],
      "execution_count": null,
      "outputs": []
    },
    {
      "cell_type": "code",
      "metadata": {
        "id": "YKjM26zhvza-"
      },
      "source": [
        "import numpy as np\n",
        "import pandas as pd\n",
        "import matplotlib.pyplot as plt"
      ],
      "execution_count": null,
      "outputs": []
    },
    {
      "cell_type": "code",
      "metadata": {
        "id": "PhOv_Bs_0uoj"
      },
      "source": [
        "data = pd.read_csv(\"./drive/MyDrive/ML Project Course/HW1/data.csv\")"
      ],
      "execution_count": null,
      "outputs": []
    },
    {
      "cell_type": "code",
      "metadata": {
        "colab": {
          "base_uri": "https://localhost:8080/",
          "height": 204
        },
        "id": "Yok0Vxdm1AkP",
        "outputId": "943370a7-0468-4529-b028-5468c0fec08d"
      },
      "source": [
        "data.head()"
      ],
      "execution_count": null,
      "outputs": [
        {
          "output_type": "execute_result",
          "data": {
            "text/html": [
              "<div>\n",
              "<style scoped>\n",
              "    .dataframe tbody tr th:only-of-type {\n",
              "        vertical-align: middle;\n",
              "    }\n",
              "\n",
              "    .dataframe tbody tr th {\n",
              "        vertical-align: top;\n",
              "    }\n",
              "\n",
              "    .dataframe thead th {\n",
              "        text-align: right;\n",
              "    }\n",
              "</style>\n",
              "<table border=\"1\" class=\"dataframe\">\n",
              "  <thead>\n",
              "    <tr style=\"text-align: right;\">\n",
              "      <th></th>\n",
              "      <th>id</th>\n",
              "      <th>gender</th>\n",
              "      <th>age</th>\n",
              "      <th>hypertension</th>\n",
              "      <th>heart_disease</th>\n",
              "      <th>ever_married</th>\n",
              "      <th>work_type</th>\n",
              "      <th>Residence_type</th>\n",
              "      <th>avg_glucose_level</th>\n",
              "      <th>bmi</th>\n",
              "      <th>smoking_status</th>\n",
              "      <th>stroke</th>\n",
              "    </tr>\n",
              "  </thead>\n",
              "  <tbody>\n",
              "    <tr>\n",
              "      <th>0</th>\n",
              "      <td>9046</td>\n",
              "      <td>Male</td>\n",
              "      <td>67.0</td>\n",
              "      <td>0</td>\n",
              "      <td>1</td>\n",
              "      <td>Yes</td>\n",
              "      <td>Private</td>\n",
              "      <td>Urban</td>\n",
              "      <td>228.69</td>\n",
              "      <td>36.6</td>\n",
              "      <td>formerly smoked</td>\n",
              "      <td>1</td>\n",
              "    </tr>\n",
              "    <tr>\n",
              "      <th>1</th>\n",
              "      <td>51676</td>\n",
              "      <td>Female</td>\n",
              "      <td>61.0</td>\n",
              "      <td>0</td>\n",
              "      <td>0</td>\n",
              "      <td>Yes</td>\n",
              "      <td>Self-employed</td>\n",
              "      <td>Rural</td>\n",
              "      <td>202.21</td>\n",
              "      <td>NaN</td>\n",
              "      <td>never smoked</td>\n",
              "      <td>1</td>\n",
              "    </tr>\n",
              "    <tr>\n",
              "      <th>2</th>\n",
              "      <td>31112</td>\n",
              "      <td>Male</td>\n",
              "      <td>80.0</td>\n",
              "      <td>0</td>\n",
              "      <td>1</td>\n",
              "      <td>Yes</td>\n",
              "      <td>Private</td>\n",
              "      <td>Rural</td>\n",
              "      <td>105.92</td>\n",
              "      <td>32.5</td>\n",
              "      <td>never smoked</td>\n",
              "      <td>1</td>\n",
              "    </tr>\n",
              "    <tr>\n",
              "      <th>3</th>\n",
              "      <td>60182</td>\n",
              "      <td>Female</td>\n",
              "      <td>49.0</td>\n",
              "      <td>0</td>\n",
              "      <td>0</td>\n",
              "      <td>Yes</td>\n",
              "      <td>Private</td>\n",
              "      <td>Urban</td>\n",
              "      <td>171.23</td>\n",
              "      <td>34.4</td>\n",
              "      <td>smokes</td>\n",
              "      <td>1</td>\n",
              "    </tr>\n",
              "    <tr>\n",
              "      <th>4</th>\n",
              "      <td>1665</td>\n",
              "      <td>Female</td>\n",
              "      <td>79.0</td>\n",
              "      <td>1</td>\n",
              "      <td>0</td>\n",
              "      <td>Yes</td>\n",
              "      <td>Self-employed</td>\n",
              "      <td>Rural</td>\n",
              "      <td>174.12</td>\n",
              "      <td>24.0</td>\n",
              "      <td>never smoked</td>\n",
              "      <td>1</td>\n",
              "    </tr>\n",
              "  </tbody>\n",
              "</table>\n",
              "</div>"
            ],
            "text/plain": [
              "      id  gender   age  ...   bmi   smoking_status stroke\n",
              "0   9046    Male  67.0  ...  36.6  formerly smoked      1\n",
              "1  51676  Female  61.0  ...   NaN     never smoked      1\n",
              "2  31112    Male  80.0  ...  32.5     never smoked      1\n",
              "3  60182  Female  49.0  ...  34.4           smokes      1\n",
              "4   1665  Female  79.0  ...  24.0     never smoked      1\n",
              "\n",
              "[5 rows x 12 columns]"
            ]
          },
          "metadata": {},
          "execution_count": 4
        }
      ]
    },
    {
      "cell_type": "markdown",
      "metadata": {
        "id": "U1fA53slTaQJ"
      },
      "source": [
        "#**Data Analysls**"
      ]
    },
    {
      "cell_type": "markdown",
      "metadata": {
        "id": "xRbAS7_3i60N"
      },
      "source": [
        "Observations:\n",
        "\n",
        "\n",
        "*   Data has a mix of categorical, continuous and binary data\n",
        "*   Data in highly disruptive different scales for - Age, Avg Glucose Level and BMI\n",
        "* BMI has sufficient amount of missing values, discarding all will result in significant information loss\n",
        "\n"
      ]
    },
    {
      "cell_type": "code",
      "metadata": {
        "colab": {
          "base_uri": "https://localhost:8080/"
        },
        "id": "x1C6-3m7U5DB",
        "outputId": "99c5948b-41cd-432b-95e3-e8dcd144bba3"
      },
      "source": [
        "data.work_type.unique(), data.Residence_type.unique(), data.smoking_status.unique()"
      ],
      "execution_count": null,
      "outputs": [
        {
          "output_type": "execute_result",
          "data": {
            "text/plain": [
              "(array(['Private', 'Self-employed', 'Govt_job', 'children', 'Never_worked'],\n",
              "       dtype=object),\n",
              " array(['Urban', 'Rural'], dtype=object),\n",
              " array(['formerly smoked', 'never smoked', 'smokes', 'Unknown'],\n",
              "       dtype=object))"
            ]
          },
          "metadata": {},
          "execution_count": 5
        }
      ]
    },
    {
      "cell_type": "markdown",
      "metadata": {
        "id": "bS4JZ1Xwj0Pl"
      },
      "source": [
        "Missing BMI value counts"
      ]
    },
    {
      "cell_type": "code",
      "metadata": {
        "colab": {
          "base_uri": "https://localhost:8080/"
        },
        "id": "-uHnTsGBTZCz",
        "outputId": "d3e2de57-27e9-434c-80fd-6f870646ea54"
      },
      "source": [
        "data.isna().any()"
      ],
      "execution_count": null,
      "outputs": [
        {
          "output_type": "execute_result",
          "data": {
            "text/plain": [
              "id                   False\n",
              "gender               False\n",
              "age                  False\n",
              "hypertension         False\n",
              "heart_disease        False\n",
              "ever_married         False\n",
              "work_type            False\n",
              "Residence_type       False\n",
              "avg_glucose_level    False\n",
              "bmi                   True\n",
              "smoking_status       False\n",
              "stroke               False\n",
              "dtype: bool"
            ]
          },
          "metadata": {},
          "execution_count": 6
        }
      ]
    },
    {
      "cell_type": "code",
      "metadata": {
        "colab": {
          "base_uri": "https://localhost:8080/"
        },
        "id": "eBZty4s9fSuP",
        "outputId": "7f72c17c-4b46-4c46-81f4-ab048f135708"
      },
      "source": [
        "data.bmi.isna().sum()"
      ],
      "execution_count": null,
      "outputs": [
        {
          "output_type": "execute_result",
          "data": {
            "text/plain": [
              "201"
            ]
          },
          "metadata": {},
          "execution_count": 7
        }
      ]
    },
    {
      "cell_type": "code",
      "metadata": {
        "colab": {
          "base_uri": "https://localhost:8080/",
          "height": 282
        },
        "id": "vDFEbeD0e5FD",
        "outputId": "04b72fe0-14a6-487b-938e-7dfc9d75a050"
      },
      "source": [
        "data.bmi.plot(kind='hist')"
      ],
      "execution_count": null,
      "outputs": [
        {
          "output_type": "execute_result",
          "data": {
            "text/plain": [
              "<matplotlib.axes._subplots.AxesSubplot at 0x7f332f993110>"
            ]
          },
          "metadata": {},
          "execution_count": 8
        },
        {
          "output_type": "display_data",
          "data": {
            "image/png": "[encoded data removed]",
            "text/plain": [
              "<Figure size 432x288 with 1 Axes>"
            ]
          },
          "metadata": {
            "needs_background": "light"
          }
        }
      ]
    },
    {
      "cell_type": "markdown",
      "metadata": {
        "id": "m9H9JXqSWt24"
      },
      "source": [
        "#**Data Transformation**"
      ]
    },
    {
      "cell_type": "markdown",
      "metadata": {
        "id": "7AV7O61Aj8G7"
      },
      "source": [
        "Convert Categorical Data into numeric representations via mapping"
      ]
    },
    {
      "cell_type": "code",
      "metadata": {
        "id": "OaKUW6LkZKhh"
      },
      "source": [
        "data.gender = data.gender.replace([\"Male\",\"Female\", \"Other\"],[1,0,2])"
      ],
      "execution_count": null,
      "outputs": []
    },
    {
      "cell_type": "code",
      "metadata": {
        "id": "C5p5zMX-VJy8"
      },
      "source": [
        "data.ever_married = data.ever_married.replace([\"Yes\",\"No\"],[1,0])"
      ],
      "execution_count": null,
      "outputs": []
    },
    {
      "cell_type": "code",
      "metadata": {
        "id": "fx8Gl1osYd45"
      },
      "source": [
        "data.Residence_type = data.Residence_type.replace([\"Urban\",\"Rural\"],[1,0])"
      ],
      "execution_count": null,
      "outputs": []
    },
    {
      "cell_type": "markdown",
      "metadata": {
        "id": "cGiNtfHHbxIa"
      },
      "source": [
        "Mapping for work_type feature: \\\\\n",
        "0=Govt_Job, 1=Never_Worked , 2=Private, 3=Self Employed,  4=Children, "
      ]
    },
    {
      "cell_type": "code",
      "metadata": {
        "id": "-73fiEmEYVHY"
      },
      "source": [
        "data.work_type = data.work_type.astype('category').cat.codes"
      ],
      "execution_count": null,
      "outputs": []
    },
    {
      "cell_type": "markdown",
      "metadata": {
        "id": "6OppEf55cDkB"
      },
      "source": [
        "Mapping for smoking_status feature: \\\\\n",
        "0= 'Unknown', 1= 'formerly smoked', 2= 'never smoked', 3='smokes'"
      ]
    },
    {
      "cell_type": "code",
      "metadata": {
        "id": "uIJiFiuFZR5E"
      },
      "source": [
        "data.smoking_status = data.smoking_status.astype('category').cat.codes"
      ],
      "execution_count": null,
      "outputs": []
    },
    {
      "cell_type": "markdown",
      "metadata": {
        "id": "w0US4h0Zxuet"
      },
      "source": [
        "Replacing missing BMIs with its nearest neighbor's BMI value based on all features except BMI. ID is not a feature.\n",
        "\n",
        "*   Divide data into two sets, one with where all BMI values are present (A) and other with all BMI values as Nans (B)\n",
        "*   For each sample x in B, find the nearest neighbor x_n in A, and then replace x's BMI value with x_n's BMI value. It would be more robust though if we would have taken multiple neighbors and then take the average. But for this simple non-sophisticated problem, this simpler design choice performed just as well.\n",
        "\n"
      ]
    },
    {
      "cell_type": "code",
      "metadata": {
        "id": "S8ghwSDVf_0y"
      },
      "source": [
        "nan_ids = data[data.bmi.isna()].index.values\n",
        "non_nan_ids = np.setdiff1d(data.index.values, nan_ids)"
      ],
      "execution_count": null,
      "outputs": []
    },
    {
      "cell_type": "code",
      "metadata": {
        "id": "UvPfXFX2iwSe"
      },
      "source": [
        "from sklearn.neighbors import NearestNeighbors\n",
        "NB = NearestNeighbors(n_neighbors=1, radius=0.2)\n",
        "query_db = data[data.index.isin(non_nan_ids)].loc[:,'gender':'smoking_status'].drop(columns=['bmi'])\n",
        "NB.fit(query_db.values)\n",
        "for id in nan_ids:\n",
        "  nan_sample = data.loc[id,'gender':'smoking_status'].drop(labels=['bmi'])\n",
        "  nb_index_val = NB.kneighbors(nan_sample.values.reshape(1,-1), n_neighbors=1, return_distance=False)\n",
        "  nb_sample = data.loc[nb_index_val[-1],:]\n",
        "  data.loc[id,'bmi'] = nb_sample.bmi.values[-1]"
      ],
      "execution_count": null,
      "outputs": []
    },
    {
      "cell_type": "markdown",
      "metadata": {
        "id": "VOS_z_irlZiH"
      },
      "source": [
        " Really make sure that somehow no more NaNs remain in data"
      ]
    },
    {
      "cell_type": "code",
      "metadata": {
        "id": "TP9MfyP946JS"
      },
      "source": [
        "\n",
        "data = data.dropna()"
      ],
      "execution_count": null,
      "outputs": []
    },
    {
      "cell_type": "markdown",
      "metadata": {
        "id": "GbzisYNWlvZ_"
      },
      "source": [
        "Standardize three features that have disruptively different scale - age, avg_glucose_level and bmi."
      ]
    },
    {
      "cell_type": "code",
      "metadata": {
        "id": "IWzf0PkMZbHJ"
      },
      "source": [
        "from sklearn.preprocessing import StandardScaler, MinMaxScaler\n",
        "scaler = StandardScaler()\n",
        "data[['age','avg_glucose_level', 'bmi']] = scaler.fit_transform(data[['age','avg_glucose_level', 'bmi']])\n",
        "X = data.loc[:,'gender':'smoking_status'].values\n",
        "Y = data.stroke.values.reshape(X.shape[0], 1)"
      ],
      "execution_count": null,
      "outputs": []
    },
    {
      "cell_type": "markdown",
      "metadata": {
        "id": "eWeCsztGl-71"
      },
      "source": [
        "Final Data is in far better shape now."
      ]
    },
    {
      "cell_type": "code",
      "metadata": {
        "colab": {
          "base_uri": "https://localhost:8080/",
          "height": 419
        },
        "id": "GkN_lmpzf-ZC",
        "outputId": "7937a411-fcd3-49eb-ec22-e89ee60e4450"
      },
      "source": [
        "data"
      ],
      "execution_count": null,
      "outputs": [
        {
          "output_type": "execute_result",
          "data": {
            "text/html": [
              "<div>\n",
              "<style scoped>\n",
              "    .dataframe tbody tr th:only-of-type {\n",
              "        vertical-align: middle;\n",
              "    }\n",
              "\n",
              "    .dataframe tbody tr th {\n",
              "        vertical-align: top;\n",
              "    }\n",
              "\n",
              "    .dataframe thead th {\n",
              "        text-align: right;\n",
              "    }\n",
              "</style>\n",
              "<table border=\"1\" class=\"dataframe\">\n",
              "  <thead>\n",
              "    <tr style=\"text-align: right;\">\n",
              "      <th></th>\n",
              "      <th>id</th>\n",
              "      <th>gender</th>\n",
              "      <th>age</th>\n",
              "      <th>hypertension</th>\n",
              "      <th>heart_disease</th>\n",
              "      <th>ever_married</th>\n",
              "      <th>work_type</th>\n",
              "      <th>Residence_type</th>\n",
              "      <th>avg_glucose_level</th>\n",
              "      <th>bmi</th>\n",
              "      <th>smoking_status</th>\n",
              "      <th>stroke</th>\n",
              "    </tr>\n",
              "  </thead>\n",
              "  <tbody>\n",
              "    <tr>\n",
              "      <th>0</th>\n",
              "      <td>9046</td>\n",
              "      <td>1</td>\n",
              "      <td>1.052152</td>\n",
              "      <td>0</td>\n",
              "      <td>1</td>\n",
              "      <td>1</td>\n",
              "      <td>2</td>\n",
              "      <td>1</td>\n",
              "      <td>2.706635</td>\n",
              "      <td>0.991383</td>\n",
              "      <td>1</td>\n",
              "      <td>1</td>\n",
              "    </tr>\n",
              "    <tr>\n",
              "      <th>1</th>\n",
              "      <td>51676</td>\n",
              "      <td>0</td>\n",
              "      <td>0.786764</td>\n",
              "      <td>0</td>\n",
              "      <td>0</td>\n",
              "      <td>1</td>\n",
              "      <td>3</td>\n",
              "      <td>0</td>\n",
              "      <td>2.121798</td>\n",
              "      <td>0.786539</td>\n",
              "      <td>2</td>\n",
              "      <td>1</td>\n",
              "    </tr>\n",
              "    <tr>\n",
              "      <th>2</th>\n",
              "      <td>31112</td>\n",
              "      <td>1</td>\n",
              "      <td>1.627157</td>\n",
              "      <td>0</td>\n",
              "      <td>1</td>\n",
              "      <td>1</td>\n",
              "      <td>2</td>\n",
              "      <td>0</td>\n",
              "      <td>-0.004861</td>\n",
              "      <td>0.466471</td>\n",
              "      <td>2</td>\n",
              "      <td>1</td>\n",
              "    </tr>\n",
              "    <tr>\n",
              "      <th>3</th>\n",
              "      <td>60182</td>\n",
              "      <td>0</td>\n",
              "      <td>0.255990</td>\n",
              "      <td>0</td>\n",
              "      <td>0</td>\n",
              "      <td>1</td>\n",
              "      <td>2</td>\n",
              "      <td>1</td>\n",
              "      <td>1.437575</td>\n",
              "      <td>0.709723</td>\n",
              "      <td>3</td>\n",
              "      <td>1</td>\n",
              "    </tr>\n",
              "    <tr>\n",
              "      <th>4</th>\n",
              "      <td>1665</td>\n",
              "      <td>0</td>\n",
              "      <td>1.582926</td>\n",
              "      <td>1</td>\n",
              "      <td>0</td>\n",
              "      <td>1</td>\n",
              "      <td>3</td>\n",
              "      <td>0</td>\n",
              "      <td>1.501403</td>\n",
              "      <td>-0.621761</td>\n",
              "      <td>2</td>\n",
              "      <td>1</td>\n",
              "    </tr>\n",
              "    <tr>\n",
              "      <th>...</th>\n",
              "      <td>...</td>\n",
              "      <td>...</td>\n",
              "      <td>...</td>\n",
              "      <td>...</td>\n",
              "      <td>...</td>\n",
              "      <td>...</td>\n",
              "      <td>...</td>\n",
              "      <td>...</td>\n",
              "      <td>...</td>\n",
              "      <td>...</td>\n",
              "      <td>...</td>\n",
              "      <td>...</td>\n",
              "    </tr>\n",
              "    <tr>\n",
              "      <th>5105</th>\n",
              "      <td>18234</td>\n",
              "      <td>0</td>\n",
              "      <td>1.627157</td>\n",
              "      <td>1</td>\n",
              "      <td>0</td>\n",
              "      <td>1</td>\n",
              "      <td>2</td>\n",
              "      <td>1</td>\n",
              "      <td>-0.494507</td>\n",
              "      <td>0.709723</td>\n",
              "      <td>2</td>\n",
              "      <td>0</td>\n",
              "    </tr>\n",
              "    <tr>\n",
              "      <th>5106</th>\n",
              "      <td>44873</td>\n",
              "      <td>0</td>\n",
              "      <td>1.671388</td>\n",
              "      <td>0</td>\n",
              "      <td>0</td>\n",
              "      <td>1</td>\n",
              "      <td>3</td>\n",
              "      <td>1</td>\n",
              "      <td>0.420957</td>\n",
              "      <td>1.426675</td>\n",
              "      <td>2</td>\n",
              "      <td>0</td>\n",
              "    </tr>\n",
              "    <tr>\n",
              "      <th>5107</th>\n",
              "      <td>19723</td>\n",
              "      <td>0</td>\n",
              "      <td>-0.363247</td>\n",
              "      <td>0</td>\n",
              "      <td>0</td>\n",
              "      <td>1</td>\n",
              "      <td>3</td>\n",
              "      <td>0</td>\n",
              "      <td>-0.511292</td>\n",
              "      <td>0.223219</td>\n",
              "      <td>2</td>\n",
              "      <td>0</td>\n",
              "    </tr>\n",
              "    <tr>\n",
              "      <th>5108</th>\n",
              "      <td>37544</td>\n",
              "      <td>1</td>\n",
              "      <td>0.344452</td>\n",
              "      <td>0</td>\n",
              "      <td>0</td>\n",
              "      <td>1</td>\n",
              "      <td>2</td>\n",
              "      <td>0</td>\n",
              "      <td>1.328470</td>\n",
              "      <td>-0.416917</td>\n",
              "      <td>1</td>\n",
              "      <td>0</td>\n",
              "    </tr>\n",
              "    <tr>\n",
              "      <th>5109</th>\n",
              "      <td>44679</td>\n",
              "      <td>0</td>\n",
              "      <td>0.034834</td>\n",
              "      <td>0</td>\n",
              "      <td>0</td>\n",
              "      <td>1</td>\n",
              "      <td>0</td>\n",
              "      <td>1</td>\n",
              "      <td>-0.460715</td>\n",
              "      <td>-0.340101</td>\n",
              "      <td>0</td>\n",
              "      <td>0</td>\n",
              "    </tr>\n",
              "  </tbody>\n",
              "</table>\n",
              "<p>5107 rows × 12 columns</p>\n",
              "</div>"
            ],
            "text/plain": [
              "         id  gender       age  ...       bmi  smoking_status  stroke\n",
              "0      9046       1  1.052152  ...  0.991383               1       1\n",
              "1     51676       0  0.786764  ...  0.786539               2       1\n",
              "2     31112       1  1.627157  ...  0.466471               2       1\n",
              "3     60182       0  0.255990  ...  0.709723               3       1\n",
              "4      1665       0  1.582926  ... -0.621761               2       1\n",
              "...     ...     ...       ...  ...       ...             ...     ...\n",
              "5105  18234       0  1.627157  ...  0.709723               2       0\n",
              "5106  44873       0  1.671388  ...  1.426675               2       0\n",
              "5107  19723       0 -0.363247  ...  0.223219               2       0\n",
              "5108  37544       1  0.344452  ... -0.416917               1       0\n",
              "5109  44679       0  0.034834  ... -0.340101               0       0\n",
              "\n",
              "[5107 rows x 12 columns]"
            ]
          },
          "metadata": {},
          "execution_count": 18
        }
      ]
    },
    {
      "cell_type": "markdown",
      "metadata": {
        "id": "JNHjwwpCyIJj"
      },
      "source": [
        "#**Scikit Learn Logistic Regression as Baseline**\n",
        "This is just for test purpose - to check how our implementations perform compare to off the shelf implementation of logistic regression in Scikit Learn."
      ]
    },
    {
      "cell_type": "code",
      "metadata": {
        "id": "gi-qovQbyG5W"
      },
      "source": [
        "from sklearn.linear_model import LogisticRegression\n",
        "from sklearn.model_selection import train_test_split"
      ],
      "execution_count": null,
      "outputs": []
    },
    {
      "cell_type": "code",
      "metadata": {
        "id": "pifCCh7t4XNN"
      },
      "source": [
        "X_train, X_test, y_train, y_test = train_test_split(X, Y, test_size=0.20, random_state=42)"
      ],
      "execution_count": null,
      "outputs": []
    },
    {
      "cell_type": "code",
      "metadata": {
        "colab": {
          "base_uri": "https://localhost:8080/"
        },
        "id": "0YqvNkUN4u9p",
        "outputId": "88753256-d8cb-41f2-9d61-4de1aca83c39"
      },
      "source": [
        "%%time\n",
        "from sklearn.metrics import accuracy_score\n",
        "clf = LogisticRegression(random_state=0, max_iter=500).fit(X_train, y_train)\n",
        "y_train_pred = clf.predict(X_train)\n",
        "y_test_pred = clf.predict(X_test)\n",
        "\n",
        "tr_base = accuracy_score(y_train, y_train_pred)*100\n",
        "te_base = accuracy_score(y_test, y_test_pred)*100\n",
        "print(tr_base, te_base)"
      ],
      "execution_count": null,
      "outputs": [
        {
          "output_type": "stream",
          "name": "stdout",
          "text": [
            "95.42227662178703 93.9334637964775\n",
            "CPU times: user 24.3 ms, sys: 15.6 ms, total: 39.9 ms\n",
            "Wall time: 41.8 ms\n"
          ]
        },
        {
          "output_type": "stream",
          "name": "stderr",
          "text": [
            "/usr/local/lib/python3.7/dist-packages/sklearn/utils/validation.py:760: DataConversionWarning: A column-vector y was passed when a 1d array was expected. Please change the shape of y to (n_samples, ), for example using ravel().\n",
            "  y = column_or_1d(y, warn=True)\n"
          ]
        }
      ]
    },
    {
      "cell_type": "markdown",
      "metadata": {
        "id": "EDWuJToTnMN0"
      },
      "source": [
        "#**Functions**"
      ]
    },
    {
      "cell_type": "code",
      "metadata": {
        "id": "CWBvFPdOwUhX"
      },
      "source": [
        "n = X_train.shape[0]\n",
        "d = X_train.shape[1]"
      ],
      "execution_count": null,
      "outputs": []
    },
    {
      "cell_type": "code",
      "metadata": {
        "id": "9v1PFWo7v3uN"
      },
      "source": [
        "\"\"\"\n",
        "This function will calculate sigmoid function for given input.\n",
        "\"\"\"\n",
        "\n",
        "def sigmoid(a):\n",
        "  return 1/(1+np.exp(-a))"
      ],
      "execution_count": null,
      "outputs": []
    },
    {
      "cell_type": "code",
      "metadata": {
        "id": "HZVBG2o-aW31"
      },
      "source": [
        "\"\"\"\n",
        "This is the loss function. This will calculate the loss between the true and predicted labels. The original predicted values are clipped to a range so that we don't run into log(0)=undefined issue.\n",
        "\"\"\"\n",
        "def loss_function(Y,A,eps=1e-6):\n",
        "    A = np.clip(A, eps, 1-eps)\n",
        "    return -np.mean(Y * np.log(A) + (1-Y) * (np.log(1-A)))"
      ],
      "execution_count": null,
      "outputs": []
    },
    {
      "cell_type": "code",
      "metadata": {
        "id": "7p0sQWZ1a6Mj"
      },
      "source": [
        "\"\"\"\n",
        "This function will calculates the gradients\n",
        "\"\"\"\n",
        "def gradients(X,Y,A):\n",
        "    dw = np.dot(X.T, A-Y)/X.shape[0]\n",
        "    db = np.mean(A-Y)\n",
        "    return dw, db"
      ],
      "execution_count": null,
      "outputs": []
    },
    {
      "cell_type": "code",
      "metadata": {
        "id": "mZuDzsTfbh1y"
      },
      "source": [
        "\"\"\"\n",
        "This function will returns the logistic model prediction given the input X and the model parameters (w,b).\n",
        "\"\"\"\n",
        "def predict(X, w, b):\n",
        "  A = sigmoid(np.dot(X, w)+b)\n",
        "  return A "
      ],
      "execution_count": null,
      "outputs": []
    },
    {
      "cell_type": "code",
      "metadata": {
        "id": "ZHfmKI_unMUs"
      },
      "source": [
        "\"\"\"\n",
        "This function will create batches given X, Y and required batch size. We can use this function to return the whole batch or mini-batches.\n",
        "\"\"\"\n",
        "def create_batch_for_GD(X, Y, batch_size):\n",
        "  \n",
        "  num_samples = X.shape[0]\n",
        "  num_of_batches = num_samples//batch_size\n",
        "  batches = []\n",
        "\n",
        "  data = np.concatenate((X,Y), axis=1)\n",
        "  np.random.shuffle(data)\n",
        "  \n",
        "  for i in range(num_of_batches):\n",
        "    batch = data[i*batch_size:(i+1)*batch_size]\n",
        "    batches.append(batch)\n",
        "\n",
        "  remaining_samples = num_samples%batch_size\n",
        "  if remaining_samples>0:\n",
        "    num_of_batches += 1\n",
        "    batch = data[(i+1)*batch_size:]\n",
        "    batches.append(batch)\n",
        "\n",
        "  return batches\n"
      ],
      "execution_count": null,
      "outputs": []
    },
    {
      "cell_type": "code",
      "metadata": {
        "id": "Yaeag-qeIzop"
      },
      "source": [
        "\"\"\"\n",
        "This function will runs the Gradient Descent algorithm in it's vanilla form - without any gradient optimization algorithm.\n",
        "Here, we can just vary the batch size between n(number of training samples) and mini-batch-size and alter between Batch Gradient Descent and Mini-Batch Gradient Descent.\n",
        "\"\"\"\n",
        "def run_GD(epoch, lr, X, y, batch_size):\n",
        "  epochs = epoch\n",
        "  learning_rate = lr\n",
        "  cost_history = []\n",
        "\n",
        "  np.random.seed(0)\n",
        "  w = np.zeros((d,1))\n",
        "  b = np.zeros((1,1))\n",
        "\n",
        "  for i in range(epochs):\n",
        "    batches = create_batch_for_GD(X, y, batch_size= batch_size)\n",
        "    \n",
        "    for batch in batches:\n",
        "      Xb, yb = batch[:,:-1], batch[:,-1]\n",
        "      yb = yb.reshape(yb.shape[0],1)\n",
        "\n",
        "      A = predict(Xb, w, b)\n",
        "\n",
        "      cost = loss_function(yb, A)\n",
        "      cost_history.append(cost)\n",
        "\n",
        "      dw, db = gradients(Xb, yb, A)\n",
        "\n",
        "      w = w - learning_rate * dw\n",
        "      b = b - learning_rate * db\n",
        "\n",
        "  return w, b, cost_history, len(batches) \n"
      ],
      "execution_count": null,
      "outputs": []
    },
    {
      "cell_type": "code",
      "metadata": {
        "id": "A2FR7IMxnsnQ"
      },
      "source": [
        "\"\"\"\n",
        "This function will runs the optimized Gradient Descent algorithm. \n",
        "Here, we can just vary the 'optimizer' parameter to any Tensorflow gradient optimizer. We have shown optimization for RMSProp and Adam. But we can see results for others too. \n",
        "You can also vary the batch_size to alter between mini-batch and batch GD. For optimized versions of GD, we optimized mini-batch gradient descent.\n",
        "\"\"\"\n",
        "import tensorflow as tf\n",
        "def run_OPTIM_GD(optimizer, epochs, X, y, batch_size):\n",
        "  W_t = tf.Variable(np.zeros((d,1)))\n",
        "  b_t = tf.Variable(np.zeros((1,1)))\n",
        "  \n",
        "  W = W_t.numpy()\n",
        "  b = b_t.numpy()\n",
        "\n",
        "  losses = []\n",
        "  optim = optimizer\n",
        "\n",
        "  for i in range(epochs):\n",
        "    batches = create_batch_for_GD(X, y, batch_size=batch_size)\n",
        "    num_of_batches = len(batches)\n",
        "\n",
        "    for batch in batches:\n",
        "      Xb, yb = batch[:,:-1], batch[:,-1]\n",
        "      yb = yb.reshape(yb.shape[0],1)\n",
        "      A = predict(Xb, W, b)\n",
        "\n",
        "      cost = loss_function(yb, A)\n",
        "      losses.append(cost)\n",
        "      \n",
        "      dw, db = gradients(Xb, yb, A)\n",
        "      optim.apply_gradients([(dw, W_t), (db.reshape(b_t.shape), b_t)])\n",
        "      \n",
        "      W = W_t.numpy()\n",
        "      b = b_t.numpy()\n",
        "\n",
        "  \n",
        "  return W, b, losses, num_of_batches"
      ],
      "execution_count": null,
      "outputs": []
    },
    {
      "cell_type": "code",
      "metadata": {
        "id": "yLL0k9rYJjkK"
      },
      "source": [
        "\"\"\"\n",
        "This function runs performance analysis. It calculates the accuracy of the logistic model, as well as plots the infamous loss-VS-epoch curve.\n",
        "\"\"\"\n",
        "def performance_analysis(w, b, loss_history, epoch, num_of_batches, fig_title):\n",
        "  \n",
        "  iters = np.arange(epoch*num_of_batches)\n",
        "\n",
        "  plt.xlabel(\"Total Updates\")\n",
        "  plt.ylabel(\"Loss Value\")\n",
        "  plt.title(fig_title)\n",
        "  plt.plot(iters, loss_history)\n",
        "\n",
        "  y_train_pred_gd = np.round(predict(X_train, w, b))\n",
        "  y_test_pred_gd = np.round(predict(X_test, w, b))\n",
        "\n",
        "  print(f\"Training Accuracy: {accuracy_score(y_train, y_train_pred_gd)*100:0.5f} %, Test Accuracy: {accuracy_score(y_test, y_test_pred_gd)*100:0.5f} %\")\n",
        "\n",
        "  return accuracy_score(y_train, y_train_pred_gd)*100, accuracy_score(y_test, y_test_pred_gd)*100"
      ],
      "execution_count": null,
      "outputs": []
    },
    {
      "cell_type": "markdown",
      "metadata": {
        "id": "yRwMzIqjoPsT"
      },
      "source": [
        "# **Vanilla Gradient Descent Implementations (Batch, Mini-Batch)**"
      ]
    },
    {
      "cell_type": "markdown",
      "metadata": {
        "id": "2gR9YFY2oXf7"
      },
      "source": [
        "### Batch Gradient Descent"
      ]
    },
    {
      "cell_type": "code",
      "metadata": {
        "colab": {
          "base_uri": "https://localhost:8080/",
          "height": 346
        },
        "id": "AXs4NjhHvjs2",
        "outputId": "04d7edfe-e9f0-4606-e7f1-542d897721e1"
      },
      "source": [
        "%%time\n",
        "#Batch Gradient Descent\n",
        "NUM_EPOCH = 1600\n",
        "w_bgd, b_bgd, loss_bgd, num_of_batches = run_GD(epoch=NUM_EPOCH, lr=0.001, X=X_train, y=y_train, batch_size=n)\n",
        "tr_bgd, te_bgd = performance_analysis(w_bgd, b_bgd, loss_bgd, epoch=NUM_EPOCH, num_of_batches=num_of_batches, fig_title=\"Batch Gradient Descent Update VS Loss\")"
      ],
      "execution_count": null,
      "outputs": [
        {
          "output_type": "stream",
          "name": "stdout",
          "text": [
            "Training Accuracy: 95.42228 %, Test Accuracy: 93.93346 %\n",
            "CPU times: user 14.4 s, sys: 11.5 s, total: 25.8 s\n",
            "Wall time: 13.2 s\n"
          ]
        },
        {
          "output_type": "display_data",
          "data": {
            "image/png": "[encoded data removed]",
            "text/plain": [
              "<Figure size 432x288 with 1 Axes>"
            ]
          },
          "metadata": {
            "needs_background": "light"
          }
        }
      ]
    },
    {
      "cell_type": "markdown",
      "metadata": {
        "id": "HhOdUI_uoaNM"
      },
      "source": [
        "### Mini-Batch Gradient Descent"
      ]
    },
    {
      "cell_type": "code",
      "metadata": {
        "colab": {
          "base_uri": "https://localhost:8080/",
          "height": 346
        },
        "id": "8mK9WXuPMS3I",
        "outputId": "430031d0-c0ee-4a2c-c31a-2ff99b9ed578"
      },
      "source": [
        "%%time\n",
        "#Mini-Batch Gradient Descent\n",
        "NUM_EPOCH = 100\n",
        "w_mgd, b_mgd, loss_mgd, num_of_batches = run_GD(epoch=NUM_EPOCH, lr=0.001, X=X_train, y=y_train, batch_size=256)\n",
        "tr_mgd, te_mgd =performance_analysis(w_mgd, b_mgd, loss_mgd, epoch=NUM_EPOCH, num_of_batches=num_of_batches, fig_title=\"Mini-Batch Gradient Descent Update VS Loss\")"
      ],
      "execution_count": null,
      "outputs": [
        {
          "output_type": "stream",
          "name": "stdout",
          "text": [
            "Training Accuracy: 95.42228 %, Test Accuracy: 93.93346 %\n",
            "CPU times: user 691 ms, sys: 12.7 ms, total: 704 ms\n",
            "Wall time: 710 ms\n"
          ]
        },
        {
          "output_type": "display_data",
          "data": {
            "image/png": "[encoded data removed]",
            "text/plain": [
              "<Figure size 432x288 with 1 Axes>"
            ]
          },
          "metadata": {
            "needs_background": "light"
          }
        }
      ]
    },
    {
      "cell_type": "markdown",
      "metadata": {
        "id": "kd8CeTvqF4bF"
      },
      "source": [
        "# **Optimized Gradient Descent with Tensorflow**"
      ]
    },
    {
      "cell_type": "markdown",
      "metadata": {
        "id": "gNbI8gc-ohso"
      },
      "source": [
        "### RMSProp"
      ]
    },
    {
      "cell_type": "code",
      "metadata": {
        "id": "lIGj7nZXKD2T",
        "colab": {
          "base_uri": "https://localhost:8080/",
          "height": 346
        },
        "outputId": "dc80e731-652b-407f-f13b-ea5b82e636a8"
      },
      "source": [
        "%%time\n",
        "NUM_EPOCH = 100\n",
        "optim = tf.keras.optimizers.RMSprop(learning_rate=0.001)\n",
        "W_rms, b_rms, loss_rms, num_of_batches = run_OPTIM_GD(optim, epochs=NUM_EPOCH, X=X_train, y=y_train, batch_size=256)\n",
        "tr_rms, te_rms =performance_analysis(W_rms, b_rms, loss_rms, epoch=NUM_EPOCH, num_of_batches=num_of_batches, fig_title=\"RMSProp Gradient Descent Update VS Loss\")"
      ],
      "execution_count": null,
      "outputs": [
        {
          "output_type": "stream",
          "name": "stdout",
          "text": [
            "Training Accuracy: 95.44676 %, Test Accuracy: 93.93346 %\n",
            "CPU times: user 4.23 s, sys: 44.4 ms, total: 4.28 s\n",
            "Wall time: 4.29 s\n"
          ]
        },
        {
          "output_type": "display_data",
          "data": {
            "image/png": "[encoded data removed]",
            "text/plain": [
              "<Figure size 432x288 with 1 Axes>"
            ]
          },
          "metadata": {
            "needs_background": "light"
          }
        }
      ]
    },
    {
      "cell_type": "markdown",
      "metadata": {
        "id": "N7q5v2U5oj3z"
      },
      "source": [
        "### ADAM"
      ]
    },
    {
      "cell_type": "code",
      "metadata": {
        "colab": {
          "base_uri": "https://localhost:8080/",
          "height": 346
        },
        "id": "2LxpxIqQVOdF",
        "outputId": "af98fe03-dfbd-4865-e31d-8fc650dd4dc2"
      },
      "source": [
        "%%time\n",
        "NUM_EPOCH = 100\n",
        "optim = tf.keras.optimizers.Adam(learning_rate=0.001)\n",
        "W_adam, b_adam, loss_adam, num_of_batches = run_OPTIM_GD(optim, epochs=NUM_EPOCH, X=X_train, y=y_train, batch_size=256)\n",
        "tr_adam, te_adam =performance_analysis(W_adam, b_adam, loss_adam, epoch=NUM_EPOCH, num_of_batches=num_of_batches, fig_title=\"Adam Gradient Descent Update VS Loss\")"
      ],
      "execution_count": null,
      "outputs": [
        {
          "output_type": "stream",
          "name": "stdout",
          "text": [
            "Training Accuracy: 95.37332 %, Test Accuracy: 93.73777 %\n",
            "CPU times: user 2.9 s, sys: 13.4 ms, total: 2.91 s\n",
            "Wall time: 2.92 s\n"
          ]
        },
        {
          "output_type": "display_data",
          "data": {
            "image/png": "[encoded data removed]",
            "text/plain": [
              "<Figure size 432x288 with 1 Axes>"
            ]
          },
          "metadata": {
            "needs_background": "light"
          }
        }
      ]
    },
    {
      "cell_type": "markdown",
      "metadata": {
        "id": "hheGA7lHpEvK"
      },
      "source": [
        "# **Result Summary and Discussion**"
      ]
    },
    {
      "cell_type": "markdown",
      "metadata": {
        "id": "ieb1Ju1owAwZ"
      },
      "source": [
        "### Performance"
      ]
    },
    {
      "cell_type": "code",
      "metadata": {
        "colab": {
          "base_uri": "https://localhost:8080/",
          "height": 204
        },
        "id": "B0L9mKBoqTPY",
        "outputId": "aacf8947-fa73-44f0-9aeb-3e4d6b660267"
      },
      "source": [
        "training_accuracy = [tr_base, tr_bgd, tr_mgd, tr_rms, tr_adam]\n",
        "test_accuracy = [te_base, te_bgd, te_mgd, te_rms, te_adam]\n",
        "models = ['Scikit Learn (Baseline)', 'Batch GD', 'Mini-Batch GD', 'RMSProp', 'ADAM']\n",
        "time = ['41.8ms', '13.2s', '']\n",
        "columns = [\"Model Name\", \"Training Accuracy\", \"Test Accuracy\"]\n",
        "Results = pd.DataFrame({columns[0]:models,\n",
        "                        columns[1]:training_accuracy,\n",
        "                        columns[2]:test_accuracy})\n",
        "Results"
      ],
      "execution_count": null,
      "outputs": [
        {
          "output_type": "execute_result",
          "data": {
            "text/html": [
              "<div>\n",
              "<style scoped>\n",
              "    .dataframe tbody tr th:only-of-type {\n",
              "        vertical-align: middle;\n",
              "    }\n",
              "\n",
              "    .dataframe tbody tr th {\n",
              "        vertical-align: top;\n",
              "    }\n",
              "\n",
              "    .dataframe thead th {\n",
              "        text-align: right;\n",
              "    }\n",
              "</style>\n",
              "<table border=\"1\" class=\"dataframe\">\n",
              "  <thead>\n",
              "    <tr style=\"text-align: right;\">\n",
              "      <th></th>\n",
              "      <th>Model Name</th>\n",
              "      <th>Training Accuracy</th>\n",
              "      <th>Test Accuracy</th>\n",
              "    </tr>\n",
              "  </thead>\n",
              "  <tbody>\n",
              "    <tr>\n",
              "      <th>0</th>\n",
              "      <td>Scikit Learn (Baseline)</td>\n",
              "      <td>95.422277</td>\n",
              "      <td>93.933464</td>\n",
              "    </tr>\n",
              "    <tr>\n",
              "      <th>1</th>\n",
              "      <td>Batch GD</td>\n",
              "      <td>95.422277</td>\n",
              "      <td>93.933464</td>\n",
              "    </tr>\n",
              "    <tr>\n",
              "      <th>2</th>\n",
              "      <td>Mini-Batch GD</td>\n",
              "      <td>95.422277</td>\n",
              "      <td>93.933464</td>\n",
              "    </tr>\n",
              "    <tr>\n",
              "      <th>3</th>\n",
              "      <td>RMSProp</td>\n",
              "      <td>95.446756</td>\n",
              "      <td>93.933464</td>\n",
              "    </tr>\n",
              "    <tr>\n",
              "      <th>4</th>\n",
              "      <td>ADAM</td>\n",
              "      <td>95.373317</td>\n",
              "      <td>93.737769</td>\n",
              "    </tr>\n",
              "  </tbody>\n",
              "</table>\n",
              "</div>"
            ],
            "text/plain": [
              "                Model Name  Training Accuracy  Test Accuracy\n",
              "0  Scikit Learn (Baseline)          95.422277      93.933464\n",
              "1                 Batch GD          95.422277      93.933464\n",
              "2            Mini-Batch GD          95.422277      93.933464\n",
              "3                  RMSProp          95.446756      93.933464\n",
              "4                     ADAM          95.373317      93.737769"
            ]
          },
          "metadata": {},
          "execution_count": 44
        }
      ]
    },
    {
      "cell_type": "markdown",
      "metadata": {
        "id": "RXr_s2Lusy-J"
      },
      "source": [
        "**Performance:** RMSProp seems to be outperforming all the versions of Gradient Descent including the baseline implementation in Scikit Learn, albeit by a very slight margin in training accuracy. For test accuracy, all were more or less same or at least very close (ADAM). In terms of performance\n",
        " \n",
        "\n",
        "\n"
      ]
    },
    {
      "cell_type": "markdown",
      "metadata": {
        "id": "N8orU9cMwnw8"
      },
      "source": [
        "**Explaination for Spikes in Loss-VS-Epoch Graph:** As it can be seen, there are spikes in the loss-vs-epoch curves for vanilla mini-batch GD and for both RMSProp and ADAM. This is actually expected that there will be some form of variance because of the smaller mini-batch being used for training - so in every iteration we are training and updating on different smaller training sets. The more the batch_size increases, lesser the updates with smaller datasets, lesser variance till convergance and hence smoother the graph becomes. The Course Lecture by Professor Andrew Ng from Stanford actually explains this phenomenon - https://www.coursera.org/lecture/deep-neural-network/understanding-mini-batch-gradient-descent-lBXu8"
      ]
    },
    {
      "cell_type": "markdown",
      "metadata": {
        "id": "9lKKpk_eyXlQ"
      },
      "source": [
        "**batch_size** = 64"
      ]
    },
    {
      "cell_type": "code",
      "metadata": {
        "colab": {
          "base_uri": "https://localhost:8080/",
          "height": 346
        },
        "id": "hHFfxGz8wv2T",
        "outputId": "41eae101-3eb5-4831-d3df-a8b2d21d1362"
      },
      "source": [
        "%%time\n",
        "NUM_EPOCH = 100\n",
        "optim = tf.keras.optimizers.Adam(learning_rate=0.001)\n",
        "W_adam, b_adam, loss_adam, num_of_batches = run_OPTIM_GD(optim, epochs=NUM_EPOCH, X=X_train, y=y_train, batch_size=64)\n",
        "tr_adam, te_adam =performance_analysis(W_adam, b_adam, loss_adam, epoch=NUM_EPOCH, num_of_batches=num_of_batches, fig_title=\"Adam Gradient Descent Update VS Loss\")"
      ],
      "execution_count": null,
      "outputs": [
        {
          "output_type": "stream",
          "name": "stdout",
          "text": [
            "Training Accuracy: 95.39780 %, Test Accuracy: 93.83562 %\n",
            "CPU times: user 9.69 s, sys: 34 ms, total: 9.72 s\n",
            "Wall time: 9.73 s\n"
          ]
        },
        {
          "output_type": "display_data",
          "data": {
            "image/png": "[encoded data removed]",
            "text/plain": [
              "<Figure size 432x288 with 1 Axes>"
            ]
          },
          "metadata": {
            "needs_background": "light"
          }
        }
      ]
    },
    {
      "cell_type": "markdown",
      "metadata": {
        "id": "isMqnP0uyZCR"
      },
      "source": [
        "**batch_size** = 256"
      ]
    },
    {
      "cell_type": "code",
      "metadata": {
        "colab": {
          "base_uri": "https://localhost:8080/",
          "height": 346
        },
        "id": "NEwfwm2hwzI0",
        "outputId": "78f8ce9d-650f-4302-d695-eec1b4f274f2"
      },
      "source": [
        "%%time\n",
        "NUM_EPOCH = 100\n",
        "optim = tf.keras.optimizers.Adam(learning_rate=0.001)\n",
        "W_adam, b_adam, loss_adam, num_of_batches = run_OPTIM_GD(optim, epochs=NUM_EPOCH, X=X_train, y=y_train, batch_size=256)\n",
        "tr_adam, te_adam =performance_analysis(W_adam, b_adam, loss_adam, epoch=NUM_EPOCH, num_of_batches=num_of_batches, fig_title=\"Adam Gradient Descent Update VS Loss\")"
      ],
      "execution_count": null,
      "outputs": [
        {
          "output_type": "stream",
          "name": "stdout",
          "text": [
            "Training Accuracy: 95.37332 %, Test Accuracy: 93.73777 %\n",
            "CPU times: user 2.86 s, sys: 11.9 ms, total: 2.87 s\n",
            "Wall time: 2.87 s\n"
          ]
        },
        {
          "output_type": "display_data",
          "data": {
            "image/png": "[encoded data removed]",
            "text/plain": [
              "<Figure size 432x288 with 1 Axes>"
            ]
          },
          "metadata": {
            "needs_background": "light"
          }
        }
      ]
    },
    {
      "cell_type": "markdown",
      "metadata": {
        "id": "XGDLGdwFya6U"
      },
      "source": [
        "**batch_size** = 1024"
      ]
    },
    {
      "cell_type": "code",
      "metadata": {
        "colab": {
          "base_uri": "https://localhost:8080/",
          "height": 346
        },
        "id": "sqVOzsd9wz-Z",
        "outputId": "7be08daa-3d7b-4067-faaa-c264cdd49405"
      },
      "source": [
        "%%time\n",
        "NUM_EPOCH = 100\n",
        "optim = tf.keras.optimizers.Adam(learning_rate=0.001)\n",
        "W_adam, b_adam, loss_adam, num_of_batches = run_OPTIM_GD(optim, epochs=NUM_EPOCH, X=X_train, y=y_train, batch_size=1024)\n",
        "tr_adam, te_adam =performance_analysis(W_adam, b_adam, loss_adam, epoch=NUM_EPOCH, num_of_batches=num_of_batches, fig_title=\"Adam Gradient Descent Update VS Loss\")"
      ],
      "execution_count": null,
      "outputs": [
        {
          "output_type": "stream",
          "name": "stdout",
          "text": [
            "Training Accuracy: 95.42228 %, Test Accuracy: 93.93346 %\n",
            "CPU times: user 2.01 s, sys: 1.56 s, total: 3.57 s\n",
            "Wall time: 1.87 s\n"
          ]
        },
        {
          "output_type": "display_data",
          "data": {
            "image/png": "[encoded data removed]",
            "text/plain": [
              "<Figure size 432x288 with 1 Axes>"
            ]
          },
          "metadata": {
            "needs_background": "light"
          }
        }
      ]
    },
    {
      "cell_type": "markdown",
      "metadata": {
        "id": "uOdafQJiwCzj"
      },
      "source": [
        "### Time"
      ]
    },
    {
      "cell_type": "code",
      "metadata": {
        "colab": {
          "base_uri": "https://localhost:8080/",
          "height": 405
        },
        "id": "yMlpC5kevlNb",
        "outputId": "be5b7ed2-9e6e-4255-f00c-f3d064d9cd5e"
      },
      "source": [
        "time = [41.8, 13.2*1000, 710, 4.29*1000, 2.92*1000]\n",
        "plt.figure(figsize=[12,6])\n",
        "plt.bar(models, time, log=True)\n",
        "plt.xlabel(\"Models\")\n",
        "plt.ylabel(\"Time in millisecond but log-scale\")"
      ],
      "execution_count": null,
      "outputs": [
        {
          "output_type": "execute_result",
          "data": {
            "text/plain": [
              "Text(0, 0.5, 'Time in millisecond but log-scale')"
            ]
          },
          "metadata": {},
          "execution_count": 58
        },
        {
          "output_type": "display_data",
          "data": {
            "image/png": "[encoded data removed]",
            "text/plain": [
              "<Figure size 864x432 with 1 Axes>"
            ]
          },
          "metadata": {
            "needs_background": "light"
          }
        }
      ]
    },
    {
      "cell_type": "markdown",
      "metadata": {
        "id": "vZJHFj6SxWZ3"
      },
      "source": [
        "**Time:** In terms of time, obviously the industrial grade optimized implementation of Scikit Learn takes the lowest amount of time. And among our implentations, Vanilla Mini-Batch GD takes the lowest amount of time. RMSProp and ADAM still takes lower amount of time than the Batch GD becuase of considering the number of samples to calculate in each epoch for gradient update. But RMSProp and ADAM takes a little bit higher time than Mini-Batch GD because of the momentum and other extra calculations for the purpose of optimization."
      ]
    },
    {
      "cell_type": "markdown",
      "metadata": {
        "id": "ecmKcDz0zz2-"
      },
      "source": [
        "# Comment on which Algorithm to use and Why \n",
        "The dataset we worked with in this problem is quite small in size (5k samples). So performance analysis showing that all the algorithms are performing in almost a similar manner. The difference will become very prominent when dataset becomes very large (in Millions). Only then the true performance of these optimizers can be understood. But for this problem, any of the optimization algorithm, even the vanilla forms too will work fine."
      ]
    }
  ]
}