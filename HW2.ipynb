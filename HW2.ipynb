{
  "nbformat": 4,
  "nbformat_minor": 0,
  "metadata": {
    "colab": {
      "name": "HW2.ipynb",
      "provenance": [],
      "collapsed_sections": [],
      "authorship_tag": "ABX9TyOQ0rdwFVmsvebCFSuPeDBC",
      "include_colab_link": true
    },
    "kernelspec": {
      "name": "python3",
      "display_name": "Python 3"
    },
    "language_info": {
      "name": "python"
    },
    "widgets": {
      "application/vnd.jupyter.widget-state+json": {
        "2146df1c1ac742ce95c8898d50d344e6": {
          "model_module": "@jupyter-widgets/controls",
          "model_name": "VBoxModel",
          "model_module_version": "1.5.0",
          "state": {
            "_view_name": "VBoxView",
            "_dom_classes": [
              "widget-interact"
            ],
            "_model_name": "VBoxModel",
            "_view_module": "@jupyter-widgets/controls",
            "_model_module_version": "1.5.0",
            "_view_count": null,
            "_view_module_version": "1.5.0",
            "box_style": "",
            "layout": "IPY_MODEL_1e6b378512784acc808c04f1897c078f",
            "_model_module": "@jupyter-widgets/controls",
            "children": [
              "IPY_MODEL_a84b841353624724b84a500e9b616cc5",
              "IPY_MODEL_05b33a3a75874e31ba84c47a5e0a5e03",
              "IPY_MODEL_282731d45b90455b87c6afe04258fd93",
              "IPY_MODEL_6faf6b3dbaff4a829b50fc0ab590d3df",
              "IPY_MODEL_949c439700334551becf62c110aab945",
              "IPY_MODEL_f8f1c26b3c7f46b4a3c8a1f55959748d"
            ]
          }
        },
        "1e6b378512784acc808c04f1897c078f": {
          "model_module": "@jupyter-widgets/base",
          "model_name": "LayoutModel",
          "model_module_version": "1.2.0",
          "state": {
            "_view_name": "LayoutView",
            "grid_template_rows": null,
            "right": null,
            "justify_content": null,
            "_view_module": "@jupyter-widgets/base",
            "overflow": null,
            "_model_module_version": "1.2.0",
            "_view_count": null,
            "flex_flow": null,
            "width": null,
            "min_width": null,
            "border": null,
            "align_items": null,
            "bottom": null,
            "_model_module": "@jupyter-widgets/base",
            "top": null,
            "grid_column": null,
            "overflow_y": null,
            "overflow_x": null,
            "grid_auto_flow": null,
            "grid_area": null,
            "grid_template_columns": null,
            "flex": null,
            "_model_name": "LayoutModel",
            "justify_items": null,
            "grid_row": null,
            "max_height": null,
            "align_content": null,
            "visibility": null,
            "align_self": null,
            "height": null,
            "min_height": null,
            "padding": null,
            "grid_auto_rows": null,
            "grid_gap": null,
            "max_width": null,
            "order": null,
            "_view_module_version": "1.2.0",
            "grid_template_areas": null,
            "object_position": null,
            "object_fit": null,
            "grid_auto_columns": null,
            "margin": null,
            "display": null,
            "left": null
          }
        },
        "a84b841353624724b84a500e9b616cc5": {
          "model_module": "@jupyter-widgets/controls",
          "model_name": "DropdownModel",
          "model_module_version": "1.5.0",
          "state": {
            "_options_labels": [
              "gini",
              "entropy"
            ],
            "_view_name": "DropdownView",
            "style": "IPY_MODEL_8c5fb8a5305b4f31863842f9717b96fe",
            "_dom_classes": [],
            "description": "crit",
            "_model_name": "DropdownModel",
            "index": 0,
            "_view_module": "@jupyter-widgets/controls",
            "_model_module_version": "1.5.0",
            "_view_count": null,
            "disabled": false,
            "_view_module_version": "1.5.0",
            "description_tooltip": null,
            "_model_module": "@jupyter-widgets/controls",
            "layout": "IPY_MODEL_b26e06dd26ad47069c8e10c9afc7b5c4"
          }
        },
        "05b33a3a75874e31ba84c47a5e0a5e03": {
          "model_module": "@jupyter-widgets/controls",
          "model_name": "DropdownModel",
          "model_module_version": "1.5.0",
          "state": {
            "_options_labels": [
              "best",
              "random"
            ],
            "_view_name": "DropdownView",
            "style": "IPY_MODEL_d22460e11aee42adb8a21d6241433739",
            "_dom_classes": [],
            "description": "split",
            "_model_name": "DropdownModel",
            "index": 0,
            "_view_module": "@jupyter-widgets/controls",
            "_model_module_version": "1.5.0",
            "_view_count": null,
            "disabled": false,
            "_view_module_version": "1.5.0",
            "description_tooltip": null,
            "_model_module": "@jupyter-widgets/controls",
            "layout": "IPY_MODEL_6fe3f1fe225542bea190c53137e7f76d"
          }
        },
        "282731d45b90455b87c6afe04258fd93": {
          "model_module": "@jupyter-widgets/controls",
          "model_name": "DropdownModel",
          "model_module_version": "1.5.0",
          "state": {
            "_options_labels": [
              "2",
              "3",
              "5",
              "10",
              "20",
              "50",
              "60",
              "100"
            ],
            "_view_name": "DropdownView",
            "style": "IPY_MODEL_32d4398999824e4a9e3901902d88ab31",
            "_dom_classes": [],
            "description": "depth",
            "_model_name": "DropdownModel",
            "index": 0,
            "_view_module": "@jupyter-widgets/controls",
            "_model_module_version": "1.5.0",
            "_view_count": null,
            "disabled": false,
            "_view_module_version": "1.5.0",
            "description_tooltip": null,
            "_model_module": "@jupyter-widgets/controls",
            "layout": "IPY_MODEL_b29b5e7261d842bb9972e2338cfddafb"
          }
        },
        "6faf6b3dbaff4a829b50fc0ab590d3df": {
          "model_module": "@jupyter-widgets/controls",
          "model_name": "DropdownModel",
          "model_module_version": "1.5.0",
          "state": {
            "_options_labels": [
              "2"
            ],
            "_view_name": "DropdownView",
            "style": "IPY_MODEL_47963043b492412099f5ea07377ff733",
            "_dom_classes": [],
            "description": "min_split",
            "_model_name": "DropdownModel",
            "index": 0,
            "_view_module": "@jupyter-widgets/controls",
            "_model_module_version": "1.5.0",
            "_view_count": null,
            "disabled": false,
            "_view_module_version": "1.5.0",
            "description_tooltip": null,
            "_model_module": "@jupyter-widgets/controls",
            "layout": "IPY_MODEL_8295197876634a1288e7cf56a59257f9"
          }
        },
        "949c439700334551becf62c110aab945": {
          "model_module": "@jupyter-widgets/controls",
          "model_name": "DropdownModel",
          "model_module_version": "1.5.0",
          "state": {
            "_options_labels": [
              "0.1",
              "0.5",
              "1"
            ],
            "_view_name": "DropdownView",
            "style": "IPY_MODEL_3412b6a8904d48349d771f637be26d7f",
            "_dom_classes": [],
            "description": "min_leaf",
            "_model_name": "DropdownModel",
            "index": 0,
            "_view_module": "@jupyter-widgets/controls",
            "_model_module_version": "1.5.0",
            "_view_count": null,
            "disabled": false,
            "_view_module_version": "1.5.0",
            "description_tooltip": null,
            "_model_module": "@jupyter-widgets/controls",
            "layout": "IPY_MODEL_e432fe00feae4e6f8f943d4603d26bf9"
          }
        },
        "f8f1c26b3c7f46b4a3c8a1f55959748d": {
          "model_module": "@jupyter-widgets/output",
          "model_name": "OutputModel",
          "model_module_version": "1.0.0",
          "state": {
            "_view_name": "OutputView",
            "msg_id": "",
            "_dom_classes": [],
            "_model_name": "OutputModel",
            "outputs": [
              {
                "output_type": "display_data",
                "data": {
                  "text/plain": "<IPython.core.display.SVG object>",
                  "image/svg+xml": "<svg height=\"314pt\" viewBox=\"0.00 0.00 587.00 314.00\" width=\"587pt\" xmlns=\"http://www.w3.org/2000/svg\" xmlns:xlink=\"http://www.w3.org/1999/xlink\">\n<g class=\"graph\" id=\"graph0\" transform=\"scale(1 1) rotate(0) translate(4 310)\">\n<title>Tree</title>\n<polygon fill=\"#ffffff\" points=\"-4,4 -4,-310 583,-310 583,4 -4,4\" stroke=\"transparent\"/>\n<!-- 0 -->\n<g class=\"node\" id=\"node1\">\n<title>0</title>\n<polygon fill=\"#ffffff\" points=\"358,-306 218,-306 218,-223 358,-223 358,-306\" stroke=\"#000000\"/>\n<text fill=\"#000000\" font-family=\"Times,serif\" font-size=\"14.00\" text-anchor=\"middle\" x=\"288\" y=\"-290.8\">age &lt;= 0.433</text>\n<text fill=\"#000000\" font-family=\"Times,serif\" font-size=\"14.00\" text-anchor=\"middle\" x=\"288\" y=\"-275.8\">gini = 0.5</text>\n<text fill=\"#000000\" font-family=\"Times,serif\" font-size=\"14.00\" text-anchor=\"middle\" x=\"288\" y=\"-260.8\">samples = 9716</text>\n<text fill=\"#000000\" font-family=\"Times,serif\" font-size=\"14.00\" text-anchor=\"middle\" x=\"288\" y=\"-245.8\">value = [4858, 4858]</text>\n<text fill=\"#000000\" font-family=\"Times,serif\" font-size=\"14.00\" text-anchor=\"middle\" x=\"288\" y=\"-230.8\">class = 0</text>\n</g>\n<!-- 1 -->\n<g class=\"node\" id=\"node2\">\n<title>1</title>\n<polygon fill=\"#e99559\" points=\"277,-187 145,-187 145,-104 277,-104 277,-187\" stroke=\"#000000\"/>\n<text fill=\"#000000\" font-family=\"Times,serif\" font-size=\"14.00\" text-anchor=\"middle\" x=\"211\" y=\"-171.8\">age &lt;= 0.08</text>\n<text fill=\"#000000\" font-family=\"Times,serif\" font-size=\"14.00\" text-anchor=\"middle\" x=\"211\" y=\"-156.8\">gini = 0.239</text>\n<text fill=\"#000000\" font-family=\"Times,serif\" font-size=\"14.00\" text-anchor=\"middle\" x=\"211\" y=\"-141.8\">samples = 3730</text>\n<text fill=\"#000000\" font-family=\"Times,serif\" font-size=\"14.00\" text-anchor=\"middle\" x=\"211\" y=\"-126.8\">value = [3213, 517]</text>\n<text fill=\"#000000\" font-family=\"Times,serif\" font-size=\"14.00\" text-anchor=\"middle\" x=\"211\" y=\"-111.8\">class = 0</text>\n</g>\n<!-- 0&#45;&gt;1 -->\n<g class=\"edge\" id=\"edge1\">\n<title>0-&gt;1</title>\n<path d=\"M261.0691,-222.8796C255.4163,-214.1434 249.3967,-204.8404 243.5634,-195.8253\" fill=\"none\" stroke=\"#000000\"/>\n<polygon fill=\"#000000\" points=\"246.4169,-193.7924 238.0458,-187.2981 240.5399,-197.5952 246.4169,-193.7924\" stroke=\"#000000\"/>\n<text fill=\"#000000\" font-family=\"Times,serif\" font-size=\"14.00\" text-anchor=\"middle\" x=\"232.8076\" y=\"-208.0431\">True</text>\n</g>\n<!-- 4 -->\n<g class=\"node\" id=\"node5\">\n<title>4</title>\n<polygon fill=\"#84c2ef\" points=\"435,-187 295,-187 295,-104 435,-104 435,-187\" stroke=\"#000000\"/>\n<text fill=\"#000000\" font-family=\"Times,serif\" font-size=\"14.00\" text-anchor=\"middle\" x=\"365\" y=\"-171.8\">age &lt;= 1.052</text>\n<text fill=\"#000000\" font-family=\"Times,serif\" font-size=\"14.00\" text-anchor=\"middle\" x=\"365\" y=\"-156.8\">gini = 0.399</text>\n<text fill=\"#000000\" font-family=\"Times,serif\" font-size=\"14.00\" text-anchor=\"middle\" x=\"365\" y=\"-141.8\">samples = 5986</text>\n<text fill=\"#000000\" font-family=\"Times,serif\" font-size=\"14.00\" text-anchor=\"middle\" x=\"365\" y=\"-126.8\">value = [1645, 4341]</text>\n<text fill=\"#000000\" font-family=\"Times,serif\" font-size=\"14.00\" text-anchor=\"middle\" x=\"365\" y=\"-111.8\">class = 1</text>\n</g>\n<!-- 0&#45;&gt;4 -->\n<g class=\"edge\" id=\"edge4\">\n<title>0-&gt;4</title>\n<path d=\"M314.9309,-222.8796C320.5837,-214.1434 326.6033,-204.8404 332.4366,-195.8253\" fill=\"none\" stroke=\"#000000\"/>\n<polygon fill=\"#000000\" points=\"335.4601,-197.5952 337.9542,-187.2981 329.5831,-193.7924 335.4601,-197.5952\" stroke=\"#000000\"/>\n<text fill=\"#000000\" font-family=\"Times,serif\" font-size=\"14.00\" text-anchor=\"middle\" x=\"343.1924\" y=\"-208.0431\">False</text>\n</g>\n<!-- 2 -->\n<g class=\"node\" id=\"node3\">\n<title>2</title>\n<polygon fill=\"#e78845\" points=\"132,-68 0,-68 0,0 132,0 132,-68\" stroke=\"#000000\"/>\n<text fill=\"#000000\" font-family=\"Times,serif\" font-size=\"14.00\" text-anchor=\"middle\" x=\"66\" y=\"-52.8\">gini = 0.104</text>\n<text fill=\"#000000\" font-family=\"Times,serif\" font-size=\"14.00\" text-anchor=\"middle\" x=\"66\" y=\"-37.8\">samples = 2757</text>\n<text fill=\"#000000\" font-family=\"Times,serif\" font-size=\"14.00\" text-anchor=\"middle\" x=\"66\" y=\"-22.8\">value = [2605, 152]</text>\n<text fill=\"#000000\" font-family=\"Times,serif\" font-size=\"14.00\" text-anchor=\"middle\" x=\"66\" y=\"-7.8\">class = 0</text>\n</g>\n<!-- 1&#45;&gt;2 -->\n<g class=\"edge\" id=\"edge2\">\n<title>1-&gt;2</title>\n<path d=\"M157.0074,-103.9815C144.4578,-94.3313 131.1153,-84.0714 118.6256,-74.4673\" fill=\"none\" stroke=\"#000000\"/>\n<polygon fill=\"#000000\" points=\"120.619,-71.585 110.5581,-68.2637 116.3519,-77.134 120.619,-71.585\" stroke=\"#000000\"/>\n</g>\n<!-- 3 -->\n<g class=\"node\" id=\"node4\">\n<title>3</title>\n<polygon fill=\"#f5cdb0\" points=\"275.5,-68 150.5,-68 150.5,0 275.5,0 275.5,-68\" stroke=\"#000000\"/>\n<text fill=\"#000000\" font-family=\"Times,serif\" font-size=\"14.00\" text-anchor=\"middle\" x=\"213\" y=\"-52.8\">gini = 0.469</text>\n<text fill=\"#000000\" font-family=\"Times,serif\" font-size=\"14.00\" text-anchor=\"middle\" x=\"213\" y=\"-37.8\">samples = 973</text>\n<text fill=\"#000000\" font-family=\"Times,serif\" font-size=\"14.00\" text-anchor=\"middle\" x=\"213\" y=\"-22.8\">value = [608, 365]</text>\n<text fill=\"#000000\" font-family=\"Times,serif\" font-size=\"14.00\" text-anchor=\"middle\" x=\"213\" y=\"-7.8\">class = 0</text>\n</g>\n<!-- 1&#45;&gt;3 -->\n<g class=\"edge\" id=\"edge3\">\n<title>1-&gt;3</title>\n<path d=\"M211.7447,-103.9815C211.8947,-95.618 212.053,-86.7965 212.2046,-78.3409\" fill=\"none\" stroke=\"#000000\"/>\n<polygon fill=\"#000000\" points=\"215.7054,-78.3249 212.3854,-68.2637 208.7065,-78.1993 215.7054,-78.3249\" stroke=\"#000000\"/>\n</g>\n<!-- 5 -->\n<g class=\"node\" id=\"node6\">\n<title>5</title>\n<polygon fill=\"#bddef6\" points=\"429,-68 297,-68 297,0 429,0 429,-68\" stroke=\"#000000\"/>\n<text fill=\"#000000\" font-family=\"Times,serif\" font-size=\"14.00\" text-anchor=\"middle\" x=\"363\" y=\"-52.8\">gini = 0.48</text>\n<text fill=\"#000000\" font-family=\"Times,serif\" font-size=\"14.00\" text-anchor=\"middle\" x=\"363\" y=\"-37.8\">samples = 2351</text>\n<text fill=\"#000000\" font-family=\"Times,serif\" font-size=\"14.00\" text-anchor=\"middle\" x=\"363\" y=\"-22.8\">value = [939, 1412]</text>\n<text fill=\"#000000\" font-family=\"Times,serif\" font-size=\"14.00\" text-anchor=\"middle\" x=\"363\" y=\"-7.8\">class = 1</text>\n</g>\n<!-- 4&#45;&gt;5 -->\n<g class=\"edge\" id=\"edge5\">\n<title>4-&gt;5</title>\n<path d=\"M364.2553,-103.9815C364.1053,-95.618 363.947,-86.7965 363.7954,-78.3409\" fill=\"none\" stroke=\"#000000\"/>\n<polygon fill=\"#000000\" points=\"367.2935,-78.1993 363.6146,-68.2637 360.2946,-78.3249 367.2935,-78.1993\" stroke=\"#000000\"/>\n</g>\n<!-- 6 -->\n<g class=\"node\" id=\"node7\">\n<title>6</title>\n<polygon fill=\"#69b5eb\" points=\"579,-68 447,-68 447,0 579,0 579,-68\" stroke=\"#000000\"/>\n<text fill=\"#000000\" font-family=\"Times,serif\" font-size=\"14.00\" text-anchor=\"middle\" x=\"513\" y=\"-52.8\">gini = 0.313</text>\n<text fill=\"#000000\" font-family=\"Times,serif\" font-size=\"14.00\" text-anchor=\"middle\" x=\"513\" y=\"-37.8\">samples = 3635</text>\n<text fill=\"#000000\" font-family=\"Times,serif\" font-size=\"14.00\" text-anchor=\"middle\" x=\"513\" y=\"-22.8\">value = [706, 2929]</text>\n<text fill=\"#000000\" font-family=\"Times,serif\" font-size=\"14.00\" text-anchor=\"middle\" x=\"513\" y=\"-7.8\">class = 1</text>\n</g>\n<!-- 4&#45;&gt;6 -->\n<g class=\"edge\" id=\"edge6\">\n<title>4-&gt;6</title>\n<path d=\"M420.1097,-103.9815C432.919,-94.3313 446.5375,-84.0714 459.2856,-74.4673\" fill=\"none\" stroke=\"#000000\"/>\n<polygon fill=\"#000000\" points=\"461.639,-77.0764 467.52,-68.2637 457.4269,-71.4855 461.639,-77.0764\" stroke=\"#000000\"/>\n</g>\n</g>\n</svg>"
                },
                "metadata": {}
              }
            ],
            "_view_module": "@jupyter-widgets/output",
            "_model_module_version": "1.0.0",
            "_view_count": null,
            "_view_module_version": "1.0.0",
            "layout": "IPY_MODEL_dde4cc4cae6e4edfaa179d29ab8fa3d9",
            "_model_module": "@jupyter-widgets/output"
          }
        },
        "8c5fb8a5305b4f31863842f9717b96fe": {
          "model_module": "@jupyter-widgets/controls",
          "model_name": "DescriptionStyleModel",
          "model_module_version": "1.5.0",
          "state": {
            "_view_name": "StyleView",
            "_model_name": "DescriptionStyleModel",
            "description_width": "",
            "_view_module": "@jupyter-widgets/base",
            "_model_module_version": "1.5.0",
            "_view_count": null,
            "_view_module_version": "1.2.0",
            "_model_module": "@jupyter-widgets/controls"
          }
        },
        "b26e06dd26ad47069c8e10c9afc7b5c4": {
          "model_module": "@jupyter-widgets/base",
          "model_name": "LayoutModel",
          "model_module_version": "1.2.0",
          "state": {
            "_view_name": "LayoutView",
            "grid_template_rows": null,
            "right": null,
            "justify_content": null,
            "_view_module": "@jupyter-widgets/base",
            "overflow": null,
            "_model_module_version": "1.2.0",
            "_view_count": null,
            "flex_flow": null,
            "width": null,
            "min_width": null,
            "border": null,
            "align_items": null,
            "bottom": null,
            "_model_module": "@jupyter-widgets/base",
            "top": null,
            "grid_column": null,
            "overflow_y": null,
            "overflow_x": null,
            "grid_auto_flow": null,
            "grid_area": null,
            "grid_template_columns": null,
            "flex": null,
            "_model_name": "LayoutModel",
            "justify_items": null,
            "grid_row": null,
            "max_height": null,
            "align_content": null,
            "visibility": null,
            "align_self": null,
            "height": null,
            "min_height": null,
            "padding": null,
            "grid_auto_rows": null,
            "grid_gap": null,
            "max_width": null,
            "order": null,
            "_view_module_version": "1.2.0",
            "grid_template_areas": null,
            "object_position": null,
            "object_fit": null,
            "grid_auto_columns": null,
            "margin": null,
            "display": null,
            "left": null
          }
        },
        "d22460e11aee42adb8a21d6241433739": {
          "model_module": "@jupyter-widgets/controls",
          "model_name": "DescriptionStyleModel",
          "model_module_version": "1.5.0",
          "state": {
            "_view_name": "StyleView",
            "_model_name": "DescriptionStyleModel",
            "description_width": "",
            "_view_module": "@jupyter-widgets/base",
            "_model_module_version": "1.5.0",
            "_view_count": null,
            "_view_module_version": "1.2.0",
            "_model_module": "@jupyter-widgets/controls"
          }
        },
        "6fe3f1fe225542bea190c53137e7f76d": {
          "model_module": "@jupyter-widgets/base",
          "model_name": "LayoutModel",
          "model_module_version": "1.2.0",
          "state": {
            "_view_name": "LayoutView",
            "grid_template_rows": null,
            "right": null,
            "justify_content": null,
            "_view_module": "@jupyter-widgets/base",
            "overflow": null,
            "_model_module_version": "1.2.0",
            "_view_count": null,
            "flex_flow": null,
            "width": null,
            "min_width": null,
            "border": null,
            "align_items": null,
            "bottom": null,
            "_model_module": "@jupyter-widgets/base",
            "top": null,
            "grid_column": null,
            "overflow_y": null,
            "overflow_x": null,
            "grid_auto_flow": null,
            "grid_area": null,
            "grid_template_columns": null,
            "flex": null,
            "_model_name": "LayoutModel",
            "justify_items": null,
            "grid_row": null,
            "max_height": null,
            "align_content": null,
            "visibility": null,
            "align_self": null,
            "height": null,
            "min_height": null,
            "padding": null,
            "grid_auto_rows": null,
            "grid_gap": null,
            "max_width": null,
            "order": null,
            "_view_module_version": "1.2.0",
            "grid_template_areas": null,
            "object_position": null,
            "object_fit": null,
            "grid_auto_columns": null,
            "margin": null,
            "display": null,
            "left": null
          }
        },
        "32d4398999824e4a9e3901902d88ab31": {
          "model_module": "@jupyter-widgets/controls",
          "model_name": "DescriptionStyleModel",
          "model_module_version": "1.5.0",
          "state": {
            "_view_name": "StyleView",
            "_model_name": "DescriptionStyleModel",
            "description_width": "",
            "_view_module": "@jupyter-widgets/base",
            "_model_module_version": "1.5.0",
            "_view_count": null,
            "_view_module_version": "1.2.0",
            "_model_module": "@jupyter-widgets/controls"
          }
        },
        "b29b5e7261d842bb9972e2338cfddafb": {
          "model_module": "@jupyter-widgets/base",
          "model_name": "LayoutModel",
          "model_module_version": "1.2.0",
          "state": {
            "_view_name": "LayoutView",
            "grid_template_rows": null,
            "right": null,
            "justify_content": null,
            "_view_module": "@jupyter-widgets/base",
            "overflow": null,
            "_model_module_version": "1.2.0",
            "_view_count": null,
            "flex_flow": null,
            "width": null,
            "min_width": null,
            "border": null,
            "align_items": null,
            "bottom": null,
            "_model_module": "@jupyter-widgets/base",
            "top": null,
            "grid_column": null,
            "overflow_y": null,
            "overflow_x": null,
            "grid_auto_flow": null,
            "grid_area": null,
            "grid_template_columns": null,
            "flex": null,
            "_model_name": "LayoutModel",
            "justify_items": null,
            "grid_row": null,
            "max_height": null,
            "align_content": null,
            "visibility": null,
            "align_self": null,
            "height": null,
            "min_height": null,
            "padding": null,
            "grid_auto_rows": null,
            "grid_gap": null,
            "max_width": null,
            "order": null,
            "_view_module_version": "1.2.0",
            "grid_template_areas": null,
            "object_position": null,
            "object_fit": null,
            "grid_auto_columns": null,
            "margin": null,
            "display": null,
            "left": null
          }
        },
        "47963043b492412099f5ea07377ff733": {
          "model_module": "@jupyter-widgets/controls",
          "model_name": "DescriptionStyleModel",
          "model_module_version": "1.5.0",
          "state": {
            "_view_name": "StyleView",
            "_model_name": "DescriptionStyleModel",
            "description_width": "",
            "_view_module": "@jupyter-widgets/base",
            "_model_module_version": "1.5.0",
            "_view_count": null,
            "_view_module_version": "1.2.0",
            "_model_module": "@jupyter-widgets/controls"
          }
        },
        "8295197876634a1288e7cf56a59257f9": {
          "model_module": "@jupyter-widgets/base",
          "model_name": "LayoutModel",
          "model_module_version": "1.2.0",
          "state": {
            "_view_name": "LayoutView",
            "grid_template_rows": null,
            "right": null,
            "justify_content": null,
            "_view_module": "@jupyter-widgets/base",
            "overflow": null,
            "_model_module_version": "1.2.0",
            "_view_count": null,
            "flex_flow": null,
            "width": null,
            "min_width": null,
            "border": null,
            "align_items": null,
            "bottom": null,
            "_model_module": "@jupyter-widgets/base",
            "top": null,
            "grid_column": null,
            "overflow_y": null,
            "overflow_x": null,
            "grid_auto_flow": null,
            "grid_area": null,
            "grid_template_columns": null,
            "flex": null,
            "_model_name": "LayoutModel",
            "justify_items": null,
            "grid_row": null,
            "max_height": null,
            "align_content": null,
            "visibility": null,
            "align_self": null,
            "height": null,
            "min_height": null,
            "padding": null,
            "grid_auto_rows": null,
            "grid_gap": null,
            "max_width": null,
            "order": null,
            "_view_module_version": "1.2.0",
            "grid_template_areas": null,
            "object_position": null,
            "object_fit": null,
            "grid_auto_columns": null,
            "margin": null,
            "display": null,
            "left": null
          }
        },
        "3412b6a8904d48349d771f637be26d7f": {
          "model_module": "@jupyter-widgets/controls",
          "model_name": "DescriptionStyleModel",
          "model_module_version": "1.5.0",
          "state": {
            "_view_name": "StyleView",
            "_model_name": "DescriptionStyleModel",
            "description_width": "",
            "_view_module": "@jupyter-widgets/base",
            "_model_module_version": "1.5.0",
            "_view_count": null,
            "_view_module_version": "1.2.0",
            "_model_module": "@jupyter-widgets/controls"
          }
        },
        "e432fe00feae4e6f8f943d4603d26bf9": {
          "model_module": "@jupyter-widgets/base",
          "model_name": "LayoutModel",
          "model_module_version": "1.2.0",
          "state": {
            "_view_name": "LayoutView",
            "grid_template_rows": null,
            "right": null,
            "justify_content": null,
            "_view_module": "@jupyter-widgets/base",
            "overflow": null,
            "_model_module_version": "1.2.0",
            "_view_count": null,
            "flex_flow": null,
            "width": null,
            "min_width": null,
            "border": null,
            "align_items": null,
            "bottom": null,
            "_model_module": "@jupyter-widgets/base",
            "top": null,
            "grid_column": null,
            "overflow_y": null,
            "overflow_x": null,
            "grid_auto_flow": null,
            "grid_area": null,
            "grid_template_columns": null,
            "flex": null,
            "_model_name": "LayoutModel",
            "justify_items": null,
            "grid_row": null,
            "max_height": null,
            "align_content": null,
            "visibility": null,
            "align_self": null,
            "height": null,
            "min_height": null,
            "padding": null,
            "grid_auto_rows": null,
            "grid_gap": null,
            "max_width": null,
            "order": null,
            "_view_module_version": "1.2.0",
            "grid_template_areas": null,
            "object_position": null,
            "object_fit": null,
            "grid_auto_columns": null,
            "margin": null,
            "display": null,
            "left": null
          }
        },
        "dde4cc4cae6e4edfaa179d29ab8fa3d9": {
          "model_module": "@jupyter-widgets/base",
          "model_name": "LayoutModel",
          "model_module_version": "1.2.0",
          "state": {
            "_view_name": "LayoutView",
            "grid_template_rows": null,
            "right": null,
            "justify_content": null,
            "_view_module": "@jupyter-widgets/base",
            "overflow": null,
            "_model_module_version": "1.2.0",
            "_view_count": null,
            "flex_flow": null,
            "width": null,
            "min_width": null,
            "border": null,
            "align_items": null,
            "bottom": null,
            "_model_module": "@jupyter-widgets/base",
            "top": null,
            "grid_column": null,
            "overflow_y": null,
            "overflow_x": null,
            "grid_auto_flow": null,
            "grid_area": null,
            "grid_template_columns": null,
            "flex": null,
            "_model_name": "LayoutModel",
            "justify_items": null,
            "grid_row": null,
            "max_height": null,
            "align_content": null,
            "visibility": null,
            "align_self": null,
            "height": null,
            "min_height": null,
            "padding": null,
            "grid_auto_rows": null,
            "grid_gap": null,
            "max_width": null,
            "order": null,
            "_view_module_version": "1.2.0",
            "grid_template_areas": null,
            "object_position": null,
            "object_fit": null,
            "grid_auto_columns": null,
            "margin": null,
            "display": null,
            "left": null
          }
        }
      }
    }
  },
  "cells": [
    {
      "cell_type": "markdown",
      "metadata": {
        "id": "view-in-github",
        "colab_type": "text"
      },
      "source": [
        "<a href=\"https://colab.research.google.com/github/nafis-neehal/ML_PROJ_RPI/blob/main/HW2.ipynb\" target=\"_parent\"><img src=\"https://colab.research.google.com/assets/colab-badge.svg\" alt=\"Open In Colab\"/></a>"
      ]
    },
    {
      "cell_type": "markdown",
      "metadata": {
        "id": "QvmoNM3bzi9D"
      },
      "source": [
        "# **Author**\n",
        "Nafis Neehal (661990881) \\\\\n",
        "Graduate Student, Department of CS, RPI"
      ]
    },
    {
      "cell_type": "markdown",
      "metadata": {
        "id": "-ROt7LZOUbJ0"
      },
      "source": [
        "#**Imports**"
      ]
    },
    {
      "cell_type": "code",
      "metadata": {
        "id": "fQAq_xT71LYI"
      },
      "source": [
        "# from google.colab import drive\n",
        "# drive.mount('/content/drive')"
      ],
      "execution_count": 1,
      "outputs": []
    },
    {
      "cell_type": "code",
      "metadata": {
        "id": "YKjM26zhvza-"
      },
      "source": [
        "import numpy as np\n",
        "import pandas as pd\n",
        "import matplotlib.pyplot as plt\n",
        "\n",
        "from sklearn.tree import DecisionTreeClassifier, export_graphviz\n",
        "from sklearn import tree\n",
        "from sklearn.datasets import load_wine\n",
        "from IPython.display import SVG\n",
        "from graphviz import Source\n",
        "from IPython.display import display                               \n",
        "from ipywidgets import interactive\n",
        "from sklearn.metrics import accuracy_score\n",
        "from sklearn.model_selection import GridSearchCV, cross_val_score \n",
        "\n",
        "from sklearn.ensemble import BaggingClassifier\n",
        "from sklearn.model_selection import KFold\n",
        "from sklearn.ensemble import AdaBoostClassifier, GradientBoostingClassifier"
      ],
      "execution_count": 2,
      "outputs": []
    },
    {
      "cell_type": "code",
      "metadata": {
        "id": "PhOv_Bs_0uoj"
      },
      "source": [
        "data = pd.read_csv(\"./drive/MyDrive/ML Project Course/HW2/data.csv\")"
      ],
      "execution_count": 3,
      "outputs": []
    },
    {
      "cell_type": "code",
      "metadata": {
        "colab": {
          "base_uri": "https://localhost:8080/",
          "height": 204
        },
        "id": "Yok0Vxdm1AkP",
        "outputId": "33924b25-8211-462b-e4c8-ad421bc48494"
      },
      "source": [
        "data.head()"
      ],
      "execution_count": 4,
      "outputs": [
        {
          "output_type": "execute_result",
          "data": {
            "text/html": [
              "<div>\n",
              "<style scoped>\n",
              "    .dataframe tbody tr th:only-of-type {\n",
              "        vertical-align: middle;\n",
              "    }\n",
              "\n",
              "    .dataframe tbody tr th {\n",
              "        vertical-align: top;\n",
              "    }\n",
              "\n",
              "    .dataframe thead th {\n",
              "        text-align: right;\n",
              "    }\n",
              "</style>\n",
              "<table border=\"1\" class=\"dataframe\">\n",
              "  <thead>\n",
              "    <tr style=\"text-align: right;\">\n",
              "      <th></th>\n",
              "      <th>id</th>\n",
              "      <th>gender</th>\n",
              "      <th>age</th>\n",
              "      <th>hypertension</th>\n",
              "      <th>heart_disease</th>\n",
              "      <th>ever_married</th>\n",
              "      <th>work_type</th>\n",
              "      <th>Residence_type</th>\n",
              "      <th>avg_glucose_level</th>\n",
              "      <th>bmi</th>\n",
              "      <th>smoking_status</th>\n",
              "      <th>stroke</th>\n",
              "    </tr>\n",
              "  </thead>\n",
              "  <tbody>\n",
              "    <tr>\n",
              "      <th>0</th>\n",
              "      <td>9046</td>\n",
              "      <td>Male</td>\n",
              "      <td>67.0</td>\n",
              "      <td>0</td>\n",
              "      <td>1</td>\n",
              "      <td>Yes</td>\n",
              "      <td>Private</td>\n",
              "      <td>Urban</td>\n",
              "      <td>228.69</td>\n",
              "      <td>36.6</td>\n",
              "      <td>formerly smoked</td>\n",
              "      <td>1</td>\n",
              "    </tr>\n",
              "    <tr>\n",
              "      <th>1</th>\n",
              "      <td>51676</td>\n",
              "      <td>Female</td>\n",
              "      <td>61.0</td>\n",
              "      <td>0</td>\n",
              "      <td>0</td>\n",
              "      <td>Yes</td>\n",
              "      <td>Self-employed</td>\n",
              "      <td>Rural</td>\n",
              "      <td>202.21</td>\n",
              "      <td>NaN</td>\n",
              "      <td>never smoked</td>\n",
              "      <td>1</td>\n",
              "    </tr>\n",
              "    <tr>\n",
              "      <th>2</th>\n",
              "      <td>31112</td>\n",
              "      <td>Male</td>\n",
              "      <td>80.0</td>\n",
              "      <td>0</td>\n",
              "      <td>1</td>\n",
              "      <td>Yes</td>\n",
              "      <td>Private</td>\n",
              "      <td>Rural</td>\n",
              "      <td>105.92</td>\n",
              "      <td>32.5</td>\n",
              "      <td>never smoked</td>\n",
              "      <td>1</td>\n",
              "    </tr>\n",
              "    <tr>\n",
              "      <th>3</th>\n",
              "      <td>60182</td>\n",
              "      <td>Female</td>\n",
              "      <td>49.0</td>\n",
              "      <td>0</td>\n",
              "      <td>0</td>\n",
              "      <td>Yes</td>\n",
              "      <td>Private</td>\n",
              "      <td>Urban</td>\n",
              "      <td>171.23</td>\n",
              "      <td>34.4</td>\n",
              "      <td>smokes</td>\n",
              "      <td>1</td>\n",
              "    </tr>\n",
              "    <tr>\n",
              "      <th>4</th>\n",
              "      <td>1665</td>\n",
              "      <td>Female</td>\n",
              "      <td>79.0</td>\n",
              "      <td>1</td>\n",
              "      <td>0</td>\n",
              "      <td>Yes</td>\n",
              "      <td>Self-employed</td>\n",
              "      <td>Rural</td>\n",
              "      <td>174.12</td>\n",
              "      <td>24.0</td>\n",
              "      <td>never smoked</td>\n",
              "      <td>1</td>\n",
              "    </tr>\n",
              "  </tbody>\n",
              "</table>\n",
              "</div>"
            ],
            "text/plain": [
              "      id  gender   age  ...   bmi   smoking_status stroke\n",
              "0   9046    Male  67.0  ...  36.6  formerly smoked      1\n",
              "1  51676  Female  61.0  ...   NaN     never smoked      1\n",
              "2  31112    Male  80.0  ...  32.5     never smoked      1\n",
              "3  60182  Female  49.0  ...  34.4           smokes      1\n",
              "4   1665  Female  79.0  ...  24.0     never smoked      1\n",
              "\n",
              "[5 rows x 12 columns]"
            ]
          },
          "metadata": {},
          "execution_count": 4
        }
      ]
    },
    {
      "cell_type": "markdown",
      "metadata": {
        "id": "U1fA53slTaQJ"
      },
      "source": [
        "#**Data Analysls**"
      ]
    },
    {
      "cell_type": "markdown",
      "metadata": {
        "id": "xRbAS7_3i60N"
      },
      "source": [
        "Observations:\n",
        "\n",
        "\n",
        "*   Data has a mix of categorical, continuous and binary data\n",
        "*   Data in highly disruptive different scales for - Age, Avg Glucose Level and BMI\n",
        "* BMI has sufficient amount of missing values, discarding all will result in significant information loss\n",
        "* The Target Variable is \"Stroke\" - which is highly imbalanced.\n",
        "\n"
      ]
    },
    {
      "cell_type": "code",
      "metadata": {
        "colab": {
          "base_uri": "https://localhost:8080/"
        },
        "id": "x1C6-3m7U5DB",
        "outputId": "10187ed0-8e84-4cea-bdab-12881d06decc"
      },
      "source": [
        "data.work_type.unique(), data.Residence_type.unique(), data.smoking_status.unique()"
      ],
      "execution_count": 5,
      "outputs": [
        {
          "output_type": "execute_result",
          "data": {
            "text/plain": [
              "(array(['Private', 'Self-employed', 'Govt_job', 'children', 'Never_worked'],\n",
              "       dtype=object),\n",
              " array(['Urban', 'Rural'], dtype=object),\n",
              " array(['formerly smoked', 'never smoked', 'smokes', 'Unknown'],\n",
              "       dtype=object))"
            ]
          },
          "metadata": {},
          "execution_count": 5
        }
      ]
    },
    {
      "cell_type": "markdown",
      "metadata": {
        "id": "bS4JZ1Xwj0Pl"
      },
      "source": [
        "Missing BMI value counts"
      ]
    },
    {
      "cell_type": "code",
      "metadata": {
        "colab": {
          "base_uri": "https://localhost:8080/"
        },
        "id": "-uHnTsGBTZCz",
        "outputId": "2d4c7c43-10b6-4dc0-a6df-0aac9fe8fb84"
      },
      "source": [
        "data.isna().any()"
      ],
      "execution_count": 6,
      "outputs": [
        {
          "output_type": "execute_result",
          "data": {
            "text/plain": [
              "id                   False\n",
              "gender               False\n",
              "age                  False\n",
              "hypertension         False\n",
              "heart_disease        False\n",
              "ever_married         False\n",
              "work_type            False\n",
              "Residence_type       False\n",
              "avg_glucose_level    False\n",
              "bmi                   True\n",
              "smoking_status       False\n",
              "stroke               False\n",
              "dtype: bool"
            ]
          },
          "metadata": {},
          "execution_count": 6
        }
      ]
    },
    {
      "cell_type": "code",
      "metadata": {
        "colab": {
          "base_uri": "https://localhost:8080/"
        },
        "id": "eBZty4s9fSuP",
        "outputId": "569d641f-3350-4491-f349-620379187f34"
      },
      "source": [
        "data.bmi.isna().sum()"
      ],
      "execution_count": 7,
      "outputs": [
        {
          "output_type": "execute_result",
          "data": {
            "text/plain": [
              "201"
            ]
          },
          "metadata": {},
          "execution_count": 7
        }
      ]
    },
    {
      "cell_type": "code",
      "metadata": {
        "colab": {
          "base_uri": "https://localhost:8080/",
          "height": 282
        },
        "id": "vDFEbeD0e5FD",
        "outputId": "aefab421-96f7-49bc-fee5-c55e954cac8c"
      },
      "source": [
        "data.bmi.plot(kind='hist')"
      ],
      "execution_count": 8,
      "outputs": [
        {
          "output_type": "execute_result",
          "data": {
            "text/plain": [
              "<matplotlib.axes._subplots.AxesSubplot at 0x7fd4812a9110>"
            ]
          },
          "metadata": {},
          "execution_count": 8
        },
        {
          "output_type": "display_data",
          "data": {
            "image/png": "[encoded data removed]",
            "text/plain": [
              "<Figure size 432x288 with 1 Axes>"
            ]
          },
          "metadata": {
            "needs_background": "light"
          }
        }
      ]
    },
    {
      "cell_type": "markdown",
      "metadata": {
        "id": "4YBUdjRjCf6r"
      },
      "source": [
        "Class Imbalance:\n",
        "* negative samples: 4861\n",
        "* postive samples: 249\n"
      ]
    },
    {
      "cell_type": "code",
      "metadata": {
        "colab": {
          "base_uri": "https://localhost:8080/"
        },
        "id": "ClM3X320CZSz",
        "outputId": "b848c367-1938-4356-b9aa-f0b9a865be6f"
      },
      "source": [
        "data.stroke.value_counts()"
      ],
      "execution_count": 9,
      "outputs": [
        {
          "output_type": "execute_result",
          "data": {
            "text/plain": [
              "0    4861\n",
              "1     249\n",
              "Name: stroke, dtype: int64"
            ]
          },
          "metadata": {},
          "execution_count": 9
        }
      ]
    },
    {
      "cell_type": "markdown",
      "metadata": {
        "id": "m9H9JXqSWt24"
      },
      "source": [
        "#**Data Transformation**"
      ]
    },
    {
      "cell_type": "markdown",
      "metadata": {
        "id": "7AV7O61Aj8G7"
      },
      "source": [
        "Convert Categorical Data into numeric representations via mapping"
      ]
    },
    {
      "cell_type": "code",
      "metadata": {
        "id": "OaKUW6LkZKhh"
      },
      "source": [
        "data.gender = data.gender.replace([\"Male\",\"Female\", \"Other\"],[1,0,2])"
      ],
      "execution_count": 10,
      "outputs": []
    },
    {
      "cell_type": "code",
      "metadata": {
        "id": "C5p5zMX-VJy8"
      },
      "source": [
        "data.ever_married = data.ever_married.replace([\"Yes\",\"No\"],[1,0])"
      ],
      "execution_count": 11,
      "outputs": []
    },
    {
      "cell_type": "code",
      "metadata": {
        "id": "fx8Gl1osYd45"
      },
      "source": [
        "data.Residence_type = data.Residence_type.replace([\"Urban\",\"Rural\"],[1,0])"
      ],
      "execution_count": 12,
      "outputs": []
    },
    {
      "cell_type": "markdown",
      "metadata": {
        "id": "cGiNtfHHbxIa"
      },
      "source": [
        "Mapping for work_type feature: \\\\\n",
        "0=Govt_Job, 1=Never_Worked , 2=Private, 3=Self Employed,  4=Children, "
      ]
    },
    {
      "cell_type": "code",
      "metadata": {
        "id": "-73fiEmEYVHY"
      },
      "source": [
        "data.work_type = data.work_type.astype('category').cat.codes"
      ],
      "execution_count": 13,
      "outputs": []
    },
    {
      "cell_type": "markdown",
      "metadata": {
        "id": "6OppEf55cDkB"
      },
      "source": [
        "Mapping for smoking_status feature: \\\\\n",
        "0= 'Unknown', 1= 'formerly smoked', 2= 'never smoked', 3='smokes'"
      ]
    },
    {
      "cell_type": "code",
      "metadata": {
        "id": "uIJiFiuFZR5E"
      },
      "source": [
        "data.smoking_status = data.smoking_status.astype('category').cat.codes"
      ],
      "execution_count": 14,
      "outputs": []
    },
    {
      "cell_type": "markdown",
      "metadata": {
        "id": "w0US4h0Zxuet"
      },
      "source": [
        "Replacing missing BMIs with its nearest neighbor's BMI value based on all features except BMI. ID is not a feature.\n",
        "\n",
        "*   Divide data into two sets, one with where all BMI values are present (A) and other with all BMI values as Nans (B)\n",
        "*   For each sample x in B, find the nearest neighbor x_n in A, and then replace x's BMI value with x_n's BMI value. It would be more robust though if we would have taken multiple neighbors and then take the average. But for this simple non-sophisticated problem, this simpler design choice performed just as well.\n",
        "\n"
      ]
    },
    {
      "cell_type": "code",
      "metadata": {
        "id": "S8ghwSDVf_0y"
      },
      "source": [
        "nan_ids = data[data.bmi.isna()].index.values\n",
        "non_nan_ids = np.setdiff1d(data.index.values, nan_ids)"
      ],
      "execution_count": 15,
      "outputs": []
    },
    {
      "cell_type": "code",
      "metadata": {
        "id": "UvPfXFX2iwSe"
      },
      "source": [
        "from sklearn.neighbors import NearestNeighbors\n",
        "NB = NearestNeighbors(n_neighbors=1, radius=0.2)\n",
        "query_db = data[data.index.isin(non_nan_ids)].loc[:,'gender':'smoking_status'].drop(columns=['bmi'])\n",
        "NB.fit(query_db.values)\n",
        "for id in nan_ids:\n",
        "  nan_sample = data.loc[id,'gender':'smoking_status'].drop(labels=['bmi'])\n",
        "  nb_index_val = NB.kneighbors(nan_sample.values.reshape(1,-1), n_neighbors=1, return_distance=False)\n",
        "  nb_sample = data.loc[nb_index_val[-1],:]\n",
        "  data.loc[id,'bmi'] = nb_sample.bmi.values[-1]"
      ],
      "execution_count": 16,
      "outputs": []
    },
    {
      "cell_type": "markdown",
      "metadata": {
        "id": "VOS_z_irlZiH"
      },
      "source": [
        " Really make sure that somehow no more NaNs remain in data"
      ]
    },
    {
      "cell_type": "code",
      "metadata": {
        "id": "TP9MfyP946JS"
      },
      "source": [
        "data = data.dropna()"
      ],
      "execution_count": 17,
      "outputs": []
    },
    {
      "cell_type": "markdown",
      "metadata": {
        "id": "GbzisYNWlvZ_"
      },
      "source": [
        "Standardize three features that have disruptively different scale - age, avg_glucose_level and bmi."
      ]
    },
    {
      "cell_type": "code",
      "metadata": {
        "id": "IWzf0PkMZbHJ"
      },
      "source": [
        "from sklearn.preprocessing import StandardScaler, MinMaxScaler\n",
        "scaler = StandardScaler()\n",
        "data[['age','avg_glucose_level', 'bmi']] = scaler.fit_transform(data[['age','avg_glucose_level', 'bmi']])"
      ],
      "execution_count": 18,
      "outputs": []
    },
    {
      "cell_type": "code",
      "metadata": {
        "id": "sMHFU-29L618"
      },
      "source": [
        "features = data.loc[:,'gender':'smoking_status'].columns.to_list()\n",
        "labels = ['0', '1']\n",
        "X = data.loc[:,'gender':'smoking_status'].values\n",
        "Y = data.stroke.values.reshape(X.shape[0], 1)"
      ],
      "execution_count": 19,
      "outputs": []
    },
    {
      "cell_type": "markdown",
      "metadata": {
        "id": "J1IDiZVrDF_r"
      },
      "source": [
        "Handle the imbalance in class labels: One effective way would be to do oversampling the minority class. \n",
        "Using SMOTE algorithm for oversampling: https://imbalanced-learn.org/stable/over_sampling.html"
      ]
    },
    {
      "cell_type": "code",
      "metadata": {
        "colab": {
          "base_uri": "https://localhost:8080/"
        },
        "id": "HMXbFZi3DxdS",
        "outputId": "6c497a82-e432-4a3a-896b-4bc20faace16"
      },
      "source": [
        "from imblearn.over_sampling import SMOTE\n",
        "X_smote, Y_smote = SMOTE().fit_resample(X, Y)"
      ],
      "execution_count": 20,
      "outputs": [
        {
          "output_type": "stream",
          "name": "stderr",
          "text": [
            "/usr/local/lib/python3.7/dist-packages/sklearn/externals/six.py:31: FutureWarning: The module is deprecated in version 0.21 and will be removed in version 0.23 since we've dropped support for Python 2.7. Please rely on the official version of six (https://pypi.org/project/six/).\n",
            "  \"(https://pypi.org/project/six/).\", FutureWarning)\n",
            "/usr/local/lib/python3.7/dist-packages/sklearn/utils/deprecation.py:144: FutureWarning: The sklearn.neighbors.base module is  deprecated in version 0.22 and will be removed in version 0.24. The corresponding classes / functions should instead be imported from sklearn.neighbors. Anything that cannot be imported from sklearn.neighbors is now part of the private API.\n",
            "  warnings.warn(message, FutureWarning)\n",
            "/usr/local/lib/python3.7/dist-packages/sklearn/utils/validation.py:760: DataConversionWarning: A column-vector y was passed when a 1d array was expected. Please change the shape of y to (n_samples, ), for example using ravel().\n",
            "  y = column_or_1d(y, warn=True)\n",
            "/usr/local/lib/python3.7/dist-packages/sklearn/utils/deprecation.py:87: FutureWarning: Function safe_indexing is deprecated; safe_indexing is deprecated in version 0.22 and will be removed in version 0.24.\n",
            "  warnings.warn(msg, category=FutureWarning)\n"
          ]
        }
      ]
    },
    {
      "cell_type": "markdown",
      "metadata": {
        "id": "eWeCsztGl-71"
      },
      "source": [
        "Final Data is in far better shape now."
      ]
    },
    {
      "cell_type": "code",
      "metadata": {
        "colab": {
          "base_uri": "https://localhost:8080/"
        },
        "id": "GkN_lmpzf-ZC",
        "outputId": "af8f0b19-4c0a-48f7-df74-aa6d3d85c78f"
      },
      "source": [
        "np.unique(Y_smote, return_counts=True)"
      ],
      "execution_count": 21,
      "outputs": [
        {
          "output_type": "execute_result",
          "data": {
            "text/plain": [
              "(array([0, 1]), array([4858, 4858]))"
            ]
          },
          "metadata": {},
          "execution_count": 21
        }
      ]
    },
    {
      "cell_type": "markdown",
      "metadata": {
        "id": "hl0SDhYahszX"
      },
      "source": [
        "Data Split into Training and Test in 80:20 ratio"
      ]
    },
    {
      "cell_type": "code",
      "metadata": {
        "id": "Sgb5SCPPhsEN"
      },
      "source": [
        "from sklearn.model_selection import train_test_split\n",
        "X_train, X_test, y_train, y_test = train_test_split(X_smote, Y_smote, test_size=0.20, random_state=42)"
      ],
      "execution_count": 22,
      "outputs": []
    },
    {
      "cell_type": "code",
      "metadata": {
        "colab": {
          "base_uri": "https://localhost:8080/"
        },
        "id": "5RJJUt-XiFhk",
        "outputId": "4d3d43b3-9598-4c73-8d5b-797b7a00159b"
      },
      "source": [
        "X_train.shape, X_test.shape"
      ],
      "execution_count": 23,
      "outputs": [
        {
          "output_type": "execute_result",
          "data": {
            "text/plain": [
              "((7772, 10), (1944, 10))"
            ]
          },
          "metadata": {},
          "execution_count": 23
        }
      ]
    },
    {
      "cell_type": "markdown",
      "metadata": {
        "id": "5QgB_f2LniKi"
      },
      "source": [
        "# **FUNCTIONS**"
      ]
    },
    {
      "cell_type": "code",
      "metadata": {
        "id": "g4_LB1-YniRG"
      },
      "source": [
        "def plot_tree(crit, split, depth, min_split, min_leaf):\n",
        "  estimator = DecisionTreeClassifier(random_state = 0, \n",
        "                                     criterion = crit, \n",
        "                                     splitter = split, \n",
        "                                     max_depth = depth, \n",
        "                                     min_samples_split=min_split,\n",
        "                                     min_samples_leaf=min_leaf)\n",
        "  \n",
        "  estimator.fit(X_smote, Y_smote)\n",
        "\n",
        "  graph = Source(tree.export_graphviz(estimator\n",
        "        , out_file=None\n",
        "        , feature_names=features\n",
        "        , class_names=labels\n",
        "        , filled = True))\n",
        "   \n",
        "  display(SVG(graph.pipe(format='svg')))\n",
        "  return estimator\n"
      ],
      "execution_count": 24,
      "outputs": []
    },
    {
      "cell_type": "code",
      "metadata": {
        "id": "wbATXChHsrjg"
      },
      "source": [
        "def plot(X, Y, xlabel, ylabel, title):\n",
        "  plt.plot(X,Y)\n",
        "  plt.xlabel(xlabel)\n",
        "  plt.ylabel(ylabel)\n",
        "  plt.title(title)\n",
        "  plt.show()"
      ],
      "execution_count": 25,
      "outputs": []
    },
    {
      "cell_type": "code",
      "metadata": {
        "id": "r60rMb9XBODE"
      },
      "source": [
        "def performance(clf):\n",
        "  Training_Acc = clf.score(X_train, y_train)\n",
        "  Test_Acc = clf.score(X_test, y_test)\n",
        "\n",
        "  print(f\"Training Accuracy: {Training_Acc:0.5f}\")\n",
        "  print(f\"Test Accuracy: {Test_Acc: 0.5f}\")\n",
        "\n",
        "  return Training_Acc, Test_Acc"
      ],
      "execution_count": 26,
      "outputs": []
    },
    {
      "cell_type": "markdown",
      "metadata": {
        "id": "eA6VQXSEFCAw"
      },
      "source": [
        "# **1. Decision Tree using Scikit Learn**\n",
        "Here we have used Decision Tree Classifier implementation from Scikit-Learn. We have constructed an well defined parameter search space around the default values and have used GridSearchCV from Scikit-Learn for browsing this hyperspace and returning us the best estimator. As this is a binary classification problem, using \"Accuracy\" as metric is the obvious choice here."
      ]
    },
    {
      "cell_type": "code",
      "metadata": {
        "colab": {
          "base_uri": "https://localhost:8080/"
        },
        "id": "lGIOk-uYFBNj",
        "outputId": "0d2b35ad-3292-43ca-cd17-871e8e852d28"
      },
      "source": [
        "param_grid = {\n",
        "            'criterion':['gini', 'entropy'],\n",
        "            'max_depth':[2, 3, 5, 10, 20, 50, 60, 100],\n",
        "            'class_weight':['balanced'],\n",
        "            'min_impurity_decrease':[0.0, 0.0001, 0.001, 0.01]\n",
        "         }\n",
        "\n",
        "GSCV_clf = GridSearchCV(tree.DecisionTreeClassifier(random_state=0), param_grid=param_grid, scoring='accuracy')\n",
        "GSCV_clf.fit(X_train, y_train)"
      ],
      "execution_count": 27,
      "outputs": [
        {
          "output_type": "execute_result",
          "data": {
            "text/plain": [
              "GridSearchCV(cv=None, error_score=nan,\n",
              "             estimator=DecisionTreeClassifier(ccp_alpha=0.0, class_weight=None,\n",
              "                                              criterion='gini', max_depth=None,\n",
              "                                              max_features=None,\n",
              "                                              max_leaf_nodes=None,\n",
              "                                              min_impurity_decrease=0.0,\n",
              "                                              min_impurity_split=None,\n",
              "                                              min_samples_leaf=1,\n",
              "                                              min_samples_split=2,\n",
              "                                              min_weight_fraction_leaf=0.0,\n",
              "                                              presort='deprecated',\n",
              "                                              random_state=0, splitter='best'),\n",
              "             iid='deprecated', n_jobs=None,\n",
              "             param_grid={'class_weight': ['balanced'],\n",
              "                         'criterion': ['gini', 'entropy'],\n",
              "                         'max_depth': [2, 3, 5, 10, 20, 50, 60, 100],\n",
              "                         'min_impurity_decrease': [0.0, 0.0001, 0.001, 0.01]},\n",
              "             pre_dispatch='2*n_jobs', refit=True, return_train_score=False,\n",
              "             scoring='accuracy', verbose=0)"
            ]
          },
          "metadata": {},
          "execution_count": 27
        }
      ]
    },
    {
      "cell_type": "markdown",
      "metadata": {
        "id": "72W2E-ZRUNE0"
      },
      "source": [
        "Grid Search CV returns us the best estimator."
      ]
    },
    {
      "cell_type": "code",
      "metadata": {
        "colab": {
          "base_uri": "https://localhost:8080/"
        },
        "id": "dEkFEOCtJyEJ",
        "outputId": "76fcfcf0-1824-45d7-d19c-94641cc88cea"
      },
      "source": [
        "DT_clf = GSCV_clf.best_estimator_\n",
        "DT_clf"
      ],
      "execution_count": 28,
      "outputs": [
        {
          "output_type": "execute_result",
          "data": {
            "text/plain": [
              "DecisionTreeClassifier(ccp_alpha=0.0, class_weight='balanced',\n",
              "                       criterion='entropy', max_depth=50, max_features=None,\n",
              "                       max_leaf_nodes=None, min_impurity_decrease=0.0,\n",
              "                       min_impurity_split=None, min_samples_leaf=1,\n",
              "                       min_samples_split=2, min_weight_fraction_leaf=0.0,\n",
              "                       presort='deprecated', random_state=0, splitter='best')"
            ]
          },
          "metadata": {},
          "execution_count": 28
        }
      ]
    },
    {
      "cell_type": "markdown",
      "metadata": {
        "id": "YrxrP2dQUZZ6"
      },
      "source": [
        "Best Params returned from Grid Search CV."
      ]
    },
    {
      "cell_type": "code",
      "metadata": {
        "colab": {
          "base_uri": "https://localhost:8080/"
        },
        "id": "9kaGNGKWUWoJ",
        "outputId": "5392d00d-9733-4d2f-fd4a-78a6e5623fc8"
      },
      "source": [
        "GSCV_clf.best_params_"
      ],
      "execution_count": 48,
      "outputs": [
        {
          "output_type": "execute_result",
          "data": {
            "text/plain": [
              "{'class_weight': 'balanced',\n",
              " 'criterion': 'entropy',\n",
              " 'max_depth': 50,\n",
              " 'min_impurity_decrease': 0.0}"
            ]
          },
          "metadata": {},
          "execution_count": 48
        }
      ]
    },
    {
      "cell_type": "markdown",
      "metadata": {
        "id": "vkZgFXNbUdre"
      },
      "source": [
        "Performance of the Best Estimator. We can see that the model overfits the training data by a very slight margin. To improve this, Bagging Classifiers would definitely help."
      ]
    },
    {
      "cell_type": "code",
      "metadata": {
        "colab": {
          "base_uri": "https://localhost:8080/"
        },
        "id": "t3eskZmpjQ6g",
        "outputId": "42f0c782-ddfb-4b6b-8ab6-715a1f3c3aca"
      },
      "source": [
        "DT_Training_Acc, DT_Test_Acc = performance(DT_clf)"
      ],
      "execution_count": 29,
      "outputs": [
        {
          "output_type": "stream",
          "name": "stdout",
          "text": [
            "Training Accuracy: 1.00000\n",
            "Test Accuracy:  0.91718\n"
          ]
        }
      ]
    },
    {
      "cell_type": "markdown",
      "metadata": {
        "id": "l-TyW1uv-0pq"
      },
      "source": [
        "**Ddecision Tree Hyperparatemeter Tuning: Max_Depth**\n",
        "Here we observe the most crucial hyper-parameter of a Decision Tree algorithm, which highly influences the algorithm performance. As we can see below, increasing the max-depth increases the accuracy of the model both on training and test set upto a certain point, and then the curve gets flattened. This point should be chosen as the optimal cut-off point and the tree should be pruned beyond that level. If we don't control for this variable, and set max_depth too high, then the decision tree might simply overfit the training data without capturing useful patterns as we would like; this will cause testing error to increase. If we look closely, Max_Depth=50 is the optimal choice here, after which the curve completely flattens."
      ]
    },
    {
      "cell_type": "code",
      "metadata": {
        "colab": {
          "base_uri": "https://localhost:8080/"
        },
        "id": "Hze9_JD0-06P",
        "outputId": "2bc2095b-c4b1-406a-fd0d-1fd904b5e22b"
      },
      "source": [
        "max_depth = [2, 3, 5, 10, 20, 50, 60, 100]\n",
        "tr = []\n",
        "te = []\n",
        "for dpt in max_depth:\n",
        "  Base_DT_Clf = tree.DecisionTreeClassifier(max_depth=dpt, random_state=0).fit(X_train, y_train)\n",
        "  trd, ted = performance(Base_DT_Clf)\n",
        "  tr.append(trd)\n",
        "  te.append(ted)"
      ],
      "execution_count": 30,
      "outputs": [
        {
          "output_type": "stream",
          "name": "stdout",
          "text": [
            "Training Accuracy: 0.76711\n",
            "Test Accuracy:  0.76543\n",
            "Training Accuracy: 0.77342\n",
            "Test Accuracy:  0.76955\n",
            "Training Accuracy: 0.81922\n",
            "Test Accuracy:  0.80761\n",
            "Training Accuracy: 0.91109\n",
            "Test Accuracy:  0.88529\n",
            "Training Accuracy: 0.99331\n",
            "Test Accuracy:  0.92181\n",
            "Training Accuracy: 1.00000\n",
            "Test Accuracy:  0.92901\n",
            "Training Accuracy: 1.00000\n",
            "Test Accuracy:  0.92901\n",
            "Training Accuracy: 1.00000\n",
            "Test Accuracy:  0.92901\n"
          ]
        }
      ]
    },
    {
      "cell_type": "code",
      "metadata": {
        "colab": {
          "base_uri": "https://localhost:8080/",
          "height": 279
        },
        "id": "mT-0B13sN-Bj",
        "outputId": "4c93ac50-4904-49b4-a9ed-457b1dd4528b"
      },
      "source": [
        "plt.plot(max_depth, tr, color='r', label=\"Training Accuracy\")\n",
        "plt.plot(max_depth, te, color='g', label=\"Test Accuracy\")\n",
        "plt.xlabel(\"Max Depth\")\n",
        "plt.ylabel(\"Accuracy\")\n",
        "plt.legend()\n",
        "plt.show()"
      ],
      "execution_count": 31,
      "outputs": [
        {
          "output_type": "display_data",
          "data": {
            "image/png": "[encoded data removed]",
            "text/plain": [
              "<Figure size 432x288 with 1 Axes>"
            ]
          },
          "metadata": {
            "needs_background": "light"
          }
        }
      ]
    },
    {
      "cell_type": "markdown",
      "metadata": {
        "id": "liShSxZrLUB3"
      },
      "source": [
        "**Optional (Must RUN on COLAB) - Live Hyperpatameter Tuning: Visualize the best Esitmator and Decision Criteria**\n",
        "This is an optional visual representation of Decision Tree. We can tune the hyperparameters here, and visualize the decision tree LIVE. Here, I have shown a smaller pruned version of the final decision tree."
      ]
    },
    {
      "cell_type": "code",
      "metadata": {
        "colab": {
          "base_uri": "https://localhost:8080/",
          "height": 600,
          "referenced_widgets": [
            "2146df1c1ac742ce95c8898d50d344e6",
            "1e6b378512784acc808c04f1897c078f",
            "a84b841353624724b84a500e9b616cc5",
            "05b33a3a75874e31ba84c47a5e0a5e03",
            "282731d45b90455b87c6afe04258fd93",
            "6faf6b3dbaff4a829b50fc0ab590d3df",
            "949c439700334551becf62c110aab945",
            "f8f1c26b3c7f46b4a3c8a1f55959748d",
            "8c5fb8a5305b4f31863842f9717b96fe",
            "b26e06dd26ad47069c8e10c9afc7b5c4",
            "d22460e11aee42adb8a21d6241433739",
            "6fe3f1fe225542bea190c53137e7f76d",
            "32d4398999824e4a9e3901902d88ab31",
            "b29b5e7261d842bb9972e2338cfddafb",
            "47963043b492412099f5ea07377ff733",
            "8295197876634a1288e7cf56a59257f9",
            "3412b6a8904d48349d771f637be26d7f",
            "e432fe00feae4e6f8f943d4603d26bf9",
            "dde4cc4cae6e4edfaa179d29ab8fa3d9"
          ]
        },
        "id": "5BEEKLuNOyz5",
        "outputId": "ddf0e34d-790c-43cf-a97a-c0605eb2aee3"
      },
      "source": [
        "inter=interactive(plot_tree, \n",
        "                  crit = [\"gini\", \"entropy\"], \n",
        "                  split = [\"best\", \"random\"], \n",
        "                  depth=[2, 3, 5, 10, 20, 50, 60, 100],\n",
        "                  min_split=[2],\n",
        "                  min_leaf=[0.1, 0.5, 1])\n",
        "\n",
        "display(inter)"
      ],
      "execution_count": 32,
      "outputs": [
        {
          "output_type": "display_data",
          "data": {
            "application/vnd.jupyter.widget-view+json": {
              "model_id": "2146df1c1ac742ce95c8898d50d344e6",
              "version_minor": 0,
              "version_major": 2
            },
            "text/plain": [
              "interactive(children=(Dropdown(description='crit', options=('gini', 'entropy'), value='gini'), Dropdown(descri…"
            ]
          },
          "metadata": {}
        }
      ]
    },
    {
      "cell_type": "markdown",
      "metadata": {
        "id": "3fCVzNLnopg-"
      },
      "source": [
        "# **2. Bagging**\n",
        "We implement Bagging Classifier here with a hope that the marginally high variance due to overfitting effect we saw with the baseline model will be reduced. We implemenent Bagging classifier with K-Fold CV where we chose K=10 which has been historically proven to be a good choice for smaller problems. "
      ]
    },
    {
      "cell_type": "code",
      "metadata": {
        "id": "Q5fvu9tqopyl"
      },
      "source": [
        "cv_KFold = KFold(n_splits=10, shuffle=False)"
      ],
      "execution_count": 33,
      "outputs": []
    },
    {
      "cell_type": "code",
      "metadata": {
        "colab": {
          "base_uri": "https://localhost:8080/"
        },
        "id": "ALx4Fs3-rWbx",
        "outputId": "a99a3b88-f3ec-4b1d-f975-59f89605e64b"
      },
      "source": [
        "mean_acc = []\n",
        "no_estimators = []\n",
        "for i in range(10, 101, 10):\n",
        "  BAG_clf = BaggingClassifier(DT_clf, n_estimators=i, random_state=42).fit(X_train, y_train)\n",
        "  cv_clf = cross_val_score(BAG_clf, X_train, y_train, scoring='accuracy', cv=cv_KFold)\n",
        "  mean_acc.append(cv_clf.mean())\n",
        "  no_estimators.append(i)\n",
        "  print(f\"Aggregated (Mean) Training Accuracy for {i} Bagged estimators:{cv_clf.mean():0.05f}\")"
      ],
      "execution_count": 34,
      "outputs": [
        {
          "output_type": "stream",
          "name": "stdout",
          "text": [
            "Aggregated (Mean) Training Accuracy for 10 Bagged estimators:0.95291\n",
            "Aggregated (Mean) Training Accuracy for 20 Bagged estimators:0.95934\n",
            "Aggregated (Mean) Training Accuracy for 30 Bagged estimators:0.96140\n",
            "Aggregated (Mean) Training Accuracy for 40 Bagged estimators:0.96101\n",
            "Aggregated (Mean) Training Accuracy for 50 Bagged estimators:0.96076\n",
            "Aggregated (Mean) Training Accuracy for 60 Bagged estimators:0.96140\n",
            "Aggregated (Mean) Training Accuracy for 70 Bagged estimators:0.96179\n",
            "Aggregated (Mean) Training Accuracy for 80 Bagged estimators:0.96166\n",
            "Aggregated (Mean) Training Accuracy for 90 Bagged estimators:0.96191\n",
            "Aggregated (Mean) Training Accuracy for 100 Bagged estimators:0.96204\n"
          ]
        }
      ]
    },
    {
      "cell_type": "code",
      "metadata": {
        "colab": {
          "base_uri": "https://localhost:8080/",
          "height": 295
        },
        "id": "WFO34SUGs6bL",
        "outputId": "dfdc272e-ff27-4084-eb81-cedf77bf34bd"
      },
      "source": [
        "plot(no_estimators, mean_acc, \"No. Estimators\", \"Mean Training Accuracy\", \"No. Estimators VS Mean Training Accuracy\")"
      ],
      "execution_count": 35,
      "outputs": [
        {
          "output_type": "display_data",
          "data": {
            "image/png": "[encoded data removed]",
            "text/plain": [
              "<Figure size 432x288 with 1 Axes>"
            ]
          },
          "metadata": {
            "needs_background": "light"
          }
        }
      ]
    },
    {
      "cell_type": "markdown",
      "metadata": {
        "id": "o8pjwC-aWqk6"
      },
      "source": [
        "We choose n_estimators=40 because after that the improvement becomes very negligible."
      ]
    },
    {
      "cell_type": "code",
      "metadata": {
        "id": "mz_Dt5J0vfAA"
      },
      "source": [
        "Final_BAG_clf = BaggingClassifier(DT_clf, n_estimators=40, random_state=42).fit(X_train, y_train)"
      ],
      "execution_count": 36,
      "outputs": []
    },
    {
      "cell_type": "markdown",
      "metadata": {
        "id": "XkekhkNwWw01"
      },
      "source": [
        "We observe that after bagging 40 Decision Tree models together, we get much better accuracy on Test set, reducing the overfitting effect to a high extent."
      ]
    },
    {
      "cell_type": "code",
      "metadata": {
        "colab": {
          "base_uri": "https://localhost:8080/"
        },
        "id": "YD0kUi_ACaFP",
        "outputId": "6c8be7a1-72f1-460a-b556-0e8682fd822b"
      },
      "source": [
        "Bag_Training_Acc, Bag_Test_Acc = performance(Final_BAG_clf)"
      ],
      "execution_count": 37,
      "outputs": [
        {
          "output_type": "stream",
          "name": "stdout",
          "text": [
            "Training Accuracy: 1.00000\n",
            "Test Accuracy:  0.96708\n"
          ]
        }
      ]
    },
    {
      "cell_type": "markdown",
      "metadata": {
        "id": "XeUfT1e_o7r8"
      },
      "source": [
        "# **`3. Boosting`**"
      ]
    },
    {
      "cell_type": "code",
      "metadata": {
        "id": "0mZikkY4o8vZ"
      },
      "source": [
        "cv_KFold = KFold(n_splits=10, shuffle=False)"
      ],
      "execution_count": 38,
      "outputs": []
    },
    {
      "cell_type": "code",
      "metadata": {
        "colab": {
          "base_uri": "https://localhost:8080/"
        },
        "id": "CqxZXOfpwcrO",
        "outputId": "8bda2eff-83da-42b2-e94b-954a2fed58fd"
      },
      "source": [
        "mean_acc = []\n",
        "no_estimators = []\n",
        "for i in range(10, 51, 10):\n",
        "  BOO_clf = AdaBoostClassifier(DT_clf, n_estimators=i, learning_rate=0.01, random_state=42).fit(X_train, y_train)\n",
        "  cv_clf = cross_val_score(BOO_clf, X_train, y_train, scoring='accuracy', cv=cv_KFold)\n",
        "  mean = cv_clf.mean()\n",
        "  mean_acc.append(mean)\n",
        "  no_estimators.append(i)\n",
        "  print(f\"Aggregated (Mean) Training Accuracy for {i} Boosted estimators:{mean.item(0):0.05f}\")"
      ],
      "execution_count": 66,
      "outputs": [
        {
          "output_type": "stream",
          "name": "stdout",
          "text": [
            "Aggregated (Mean) Training Accuracy for 10 Boosted estimators:0.92087\n",
            "Aggregated (Mean) Training Accuracy for 20 Boosted estimators:0.92087\n",
            "Aggregated (Mean) Training Accuracy for 30 Boosted estimators:0.92087\n",
            "Aggregated (Mean) Training Accuracy for 40 Boosted estimators:0.92087\n",
            "Aggregated (Mean) Training Accuracy for 50 Boosted estimators:0.92087\n"
          ]
        }
      ]
    },
    {
      "cell_type": "markdown",
      "metadata": {
        "id": "TB0PHgG-XVVB"
      },
      "source": [
        "We observe that, as expected, Boosting algorithms are not performing very well in this case there is very negligible bias to remove. As a matter of fact, the best DT estimator that we pass in AdaBoost as base_estimator has already converged to its optimal result, hence there is absolutely no improvement visible in terms of accuracy. We therefore chose the lowest number of n_estimator hence in this case to reduce the model complexity."
      ]
    },
    {
      "cell_type": "code",
      "metadata": {
        "id": "_UnLup7u7ciA"
      },
      "source": [
        "Final_BOO_clf = AdaBoostClassifier(DT_clf, n_estimators=10, random_state=42).fit(X_train, y_train)"
      ],
      "execution_count": 67,
      "outputs": []
    },
    {
      "cell_type": "code",
      "metadata": {
        "colab": {
          "base_uri": "https://localhost:8080/"
        },
        "id": "CdzotX5mCcO_",
        "outputId": "31ad0389-c64b-4e0a-9b57-0c40f996f6b5"
      },
      "source": [
        "Boo_Training_Acc, Boo_Test_Acc = performance(Final_BOO_clf)"
      ],
      "execution_count": 68,
      "outputs": [
        {
          "output_type": "stream",
          "name": "stdout",
          "text": [
            "Training Accuracy: 1.00000\n",
            "Test Accuracy:  0.92438\n"
          ]
        }
      ]
    },
    {
      "cell_type": "markdown",
      "metadata": {
        "id": "I5wLnCAFY7SP"
      },
      "source": [
        "**Comment on Difference/Similarity in results of Bagging and Boosting**\n",
        "Bagging methods usually improves model by controlling for overfitting, so the model has to have non-negligible high-variance to see improvement. That's exactly what we saw in our Bagging Classifier Implementation. \\\\\n",
        "Whereas, Boosting methods usually improves model by controlling for underfitting, so the model has to have non-negligible high-bias to see improvement. We don't have significant amount of Bias here in this model. Hence, we don't see any sort of improvement using Boosting algorithms with the best DT Estimator as base_estimator. \\\\\n",
        "If we would have instead use just a random DT Estimator from scratch which hasn't converged yet, we definitely would have seen visible improvements. \\\\\n",
        "See the Simualtion below:"
      ]
    },
    {
      "cell_type": "code",
      "metadata": {
        "colab": {
          "base_uri": "https://localhost:8080/"
        },
        "id": "RQXxGB6SZ4jh",
        "outputId": "3da7fce2-0cf1-4b19-c0af-f31e99fe5543"
      },
      "source": [
        "mean_acc = []\n",
        "no_estimators = []\n",
        "for i in range(10, 101, 10):\n",
        "  BOO_clf = AdaBoostClassifier(n_estimators=i, learning_rate=0.01, random_state=42).fit(X_train, y_train)\n",
        "  cv_clf = cross_val_score(BOO_clf, X_train, y_train, scoring='accuracy', cv=cv_KFold)\n",
        "  mean = cv_clf.mean()\n",
        "  mean_acc.append(mean)\n",
        "  no_estimators.append(i)\n",
        "  print(f\"Aggregated (Mean) Training Accuracy for {i} Boosted estimators:{mean.item(0):0.05f}\")"
      ],
      "execution_count": 76,
      "outputs": [
        {
          "output_type": "stream",
          "name": "stdout",
          "text": [
            "Aggregated (Mean) Training Accuracy for 10 Boosted estimators:0.76699\n",
            "Aggregated (Mean) Training Accuracy for 20 Boosted estimators:0.76699\n",
            "Aggregated (Mean) Training Accuracy for 30 Boosted estimators:0.76686\n",
            "Aggregated (Mean) Training Accuracy for 40 Boosted estimators:0.76621\n",
            "Aggregated (Mean) Training Accuracy for 50 Boosted estimators:0.76660\n",
            "Aggregated (Mean) Training Accuracy for 60 Boosted estimators:0.76904\n",
            "Aggregated (Mean) Training Accuracy for 70 Boosted estimators:0.77007\n",
            "Aggregated (Mean) Training Accuracy for 80 Boosted estimators:0.77059\n",
            "Aggregated (Mean) Training Accuracy for 90 Boosted estimators:0.77187\n",
            "Aggregated (Mean) Training Accuracy for 100 Boosted estimators:0.77187\n"
          ]
        }
      ]
    },
    {
      "cell_type": "code",
      "metadata": {
        "colab": {
          "base_uri": "https://localhost:8080/",
          "height": 295
        },
        "id": "w_DBpEfpaa-v",
        "outputId": "c7613a86-e70b-45f9-a149-1b4ab466e332"
      },
      "source": [
        "plot(no_estimators, mean_acc, \"No. Estimators\", \"Mean Training Accuracy\", \"No. Estimators VS Mean Training Accuracy\")"
      ],
      "execution_count": 77,
      "outputs": [
        {
          "output_type": "display_data",
          "data": {
            "image/png": "[encoded data removed]",
            "text/plain": [
              "<Figure size 432x288 with 1 Axes>"
            ]
          },
          "metadata": {
            "needs_background": "light"
          }
        }
      ]
    },
    {
      "cell_type": "markdown",
      "metadata": {
        "id": "NbGa00znRahg"
      },
      "source": [
        "# **4. Result Compare on Chosen Metric: Accuracy**"
      ]
    },
    {
      "cell_type": "code",
      "metadata": {
        "id": "tnClVwKvRaqN"
      },
      "source": [
        "Model = [\"Decision Tree\", \"Bagging Classifier\", \"Boosting Classifier\"]\n",
        "Tr_acc = [DT_Training_Acc, Bag_Training_Acc, Boo_Training_Acc]\n",
        "Te_acc = [DT_Test_Acc, Bag_Test_Acc, Boo_Test_Acc]\n",
        "Res = pd.DataFrame({\"Model\":Model,\n",
        "                    \"Training Accuracy\": Tr_acc,\n",
        "                    \"Test Accuracy\": Te_acc})"
      ],
      "execution_count": 69,
      "outputs": []
    },
    {
      "cell_type": "code",
      "metadata": {
        "colab": {
          "base_uri": "https://localhost:8080/",
          "height": 142
        },
        "id": "ITbX26ZpSFU7",
        "outputId": "8ea0cb56-812a-441f-8277-f901cddddd04"
      },
      "source": [
        "Res"
      ],
      "execution_count": 70,
      "outputs": [
        {
          "output_type": "execute_result",
          "data": {
            "text/html": [
              "<div>\n",
              "<style scoped>\n",
              "    .dataframe tbody tr th:only-of-type {\n",
              "        vertical-align: middle;\n",
              "    }\n",
              "\n",
              "    .dataframe tbody tr th {\n",
              "        vertical-align: top;\n",
              "    }\n",
              "\n",
              "    .dataframe thead th {\n",
              "        text-align: right;\n",
              "    }\n",
              "</style>\n",
              "<table border=\"1\" class=\"dataframe\">\n",
              "  <thead>\n",
              "    <tr style=\"text-align: right;\">\n",
              "      <th></th>\n",
              "      <th>Model</th>\n",
              "      <th>Training Accuracy</th>\n",
              "      <th>Test Accuracy</th>\n",
              "    </tr>\n",
              "  </thead>\n",
              "  <tbody>\n",
              "    <tr>\n",
              "      <th>0</th>\n",
              "      <td>Decision Tree</td>\n",
              "      <td>1.0</td>\n",
              "      <td>0.917181</td>\n",
              "    </tr>\n",
              "    <tr>\n",
              "      <th>1</th>\n",
              "      <td>Bagging Classifier</td>\n",
              "      <td>1.0</td>\n",
              "      <td>0.967078</td>\n",
              "    </tr>\n",
              "    <tr>\n",
              "      <th>2</th>\n",
              "      <td>Boosting Classifier</td>\n",
              "      <td>1.0</td>\n",
              "      <td>0.924383</td>\n",
              "    </tr>\n",
              "  </tbody>\n",
              "</table>\n",
              "</div>"
            ],
            "text/plain": [
              "                 Model  Training Accuracy  Test Accuracy\n",
              "0        Decision Tree                1.0       0.917181\n",
              "1   Bagging Classifier                1.0       0.967078\n",
              "2  Boosting Classifier                1.0       0.924383"
            ]
          },
          "metadata": {},
          "execution_count": 70
        }
      ]
    },
    {
      "cell_type": "markdown",
      "metadata": {
        "id": "kmeVGgPZatZG"
      },
      "source": [
        "**Discussion:**\n",
        "\n",
        "\n",
        "1.   Performance Comparison: If we look at only test accuracy (all have the same training accuracy), then Bagging Classifier is the clear winner here. It also makes sense, because Bagging Classifiers usually improve the performance of models having high variance. Initially, we saw that a marginal overfitting exists for the base DT model. Bagging Classifier improves it to a great extent which is reflected by the performance on test data. \n",
        "2.   Why Accuracy is the best choice for Metric in this case: This is a binary classification problem. Also although at the beginning classes were imbalanced, but we then balanced it doing Oversampling using SMOTE. It is also easy and straightforward to interpret. Hence Accuracy is the obvious choice.\n",
        "\n"
      ]
    },
    {
      "cell_type": "markdown",
      "metadata": {
        "id": "E54DPPkyPFd-"
      },
      "source": [
        "# **5. Alternative Metric: Precision, Recall, F1 Score**\n",
        "Here we explore three alternative metrics - Precision, Recall and F1 Score."
      ]
    },
    {
      "cell_type": "code",
      "metadata": {
        "id": "8kv61Fh9PFtc"
      },
      "source": [
        "from sklearn.metrics import precision_recall_fscore_support"
      ],
      "execution_count": 71,
      "outputs": []
    },
    {
      "cell_type": "code",
      "metadata": {
        "id": "kE2bWZJIPnGJ"
      },
      "source": [
        "Metric = [\"Precision\", \"Recall\", \"F1 Measure\"]\n",
        "DT  = list(precision_recall_fscore_support(y_test, DT_clf.predict(X_test), average='macro'))[:3]\n",
        "BAG = list(precision_recall_fscore_support(y_test, Final_BAG_clf.predict(X_test), average='macro'))[:3]\n",
        "BOO = list(precision_recall_fscore_support(y_test, Final_BOO_clf.predict(X_test), average='macro'))[:3]\n",
        "Alt_Res = pd.DataFrame({\"Metric\":Metric,\n",
        "                    \"Decision Tree\":DT,\n",
        "                    \"Bagging Classifier\":BAG,\n",
        "                    \"Boosting Classifier\":BOO\n",
        "                    })"
      ],
      "execution_count": 72,
      "outputs": []
    },
    {
      "cell_type": "code",
      "metadata": {
        "colab": {
          "base_uri": "https://localhost:8080/",
          "height": 142
        },
        "id": "PTRujrPASHNS",
        "outputId": "f06afcda-6ec6-4848-c091-2baf1f9a44ef"
      },
      "source": [
        "Alt_Res"
      ],
      "execution_count": 73,
      "outputs": [
        {
          "output_type": "execute_result",
          "data": {
            "text/html": [
              "<div>\n",
              "<style scoped>\n",
              "    .dataframe tbody tr th:only-of-type {\n",
              "        vertical-align: middle;\n",
              "    }\n",
              "\n",
              "    .dataframe tbody tr th {\n",
              "        vertical-align: top;\n",
              "    }\n",
              "\n",
              "    .dataframe thead th {\n",
              "        text-align: right;\n",
              "    }\n",
              "</style>\n",
              "<table border=\"1\" class=\"dataframe\">\n",
              "  <thead>\n",
              "    <tr style=\"text-align: right;\">\n",
              "      <th></th>\n",
              "      <th>Metric</th>\n",
              "      <th>Decision Tree</th>\n",
              "      <th>Bagging Classifier</th>\n",
              "      <th>Boosting Classifier</th>\n",
              "    </tr>\n",
              "  </thead>\n",
              "  <tbody>\n",
              "    <tr>\n",
              "      <th>0</th>\n",
              "      <td>Precision</td>\n",
              "      <td>0.917448</td>\n",
              "      <td>0.967056</td>\n",
              "      <td>0.924752</td>\n",
              "    </tr>\n",
              "    <tr>\n",
              "      <th>1</th>\n",
              "      <td>Recall</td>\n",
              "      <td>0.917380</td>\n",
              "      <td>0.967100</td>\n",
              "      <td>0.924610</td>\n",
              "    </tr>\n",
              "    <tr>\n",
              "      <th>2</th>\n",
              "      <td>F1 Measure</td>\n",
              "      <td>0.917181</td>\n",
              "      <td>0.967074</td>\n",
              "      <td>0.924381</td>\n",
              "    </tr>\n",
              "  </tbody>\n",
              "</table>\n",
              "</div>"
            ],
            "text/plain": [
              "       Metric  Decision Tree  Bagging Classifier  Boosting Classifier\n",
              "0   Precision       0.917448            0.967056             0.924752\n",
              "1      Recall       0.917380            0.967100             0.924610\n",
              "2  F1 Measure       0.917181            0.967074             0.924381"
            ]
          },
          "metadata": {},
          "execution_count": 73
        }
      ]
    },
    {
      "cell_type": "markdown",
      "metadata": {
        "id": "b_NzKjZgcZD6"
      },
      "source": [
        "**Discussion:**\n",
        "\n",
        "* Precision: Precision talks about how precise/accurate our model is - out of the predicted positives, how many of them are actual positive. Precision is a good measure to determine, when the costs of False Positive is high. In our case, Precision is not that important, because False Negative would have highest cost in our case (If patient is diagnosed to have no stroke and than gets the stroke). But, anyway, in all case the higher the precision, the better. In our case we can see that Bagging classifier has the highest precision.\n",
        "\n",
        "* Recall: Recall actually calculates how many of the Actual Positives our model capture through labeling it as Positive (True Positive). In our case, higher the recall, the better, because lower the False Negatives. And this is very significant. We see that Bagging classifier again has the highest recall. \n",
        "\n",
        "* F1 Measure: This is a balanced representation of precision and recall. The higher the value of F1 measure, the better. We see in our case, Bagging Classifier has the highest F1 Measure.\n",
        "\n",
        "* *When would these metrics would be more useful:* If we would have kept our data labeles imbalanced, then accuracy would have always been very high, so our results would be misleading. But these three metrics would be helpful in that case because they would have captured the true performance of the model inspite of the imbalance in class labels.\n"
      ]
    }
  ]
}