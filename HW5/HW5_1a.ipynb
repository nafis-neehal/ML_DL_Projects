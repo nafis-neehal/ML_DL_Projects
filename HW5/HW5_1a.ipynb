{
  "nbformat": 4,
  "nbformat_minor": 0,
  "metadata": {
    "colab": {
      "name": "HW5_1a.ipynb",
      "provenance": [],
      "collapsed_sections": [],
      "authorship_tag": "ABX9TyNN7gPVyVl6+fMc10+WeAF8",
      "include_colab_link": true
    },
    "kernelspec": {
      "name": "python3",
      "display_name": "Python 3"
    },
    "language_info": {
      "name": "python"
    },
    "accelerator": "GPU",
    "widgets": {
      "application/vnd.jupyter.widget-state+json": {
        "5b73fa784a0a48dba404a7e7b9dbfda8": {
          "model_module": "@jupyter-widgets/controls",
          "model_name": "HBoxModel",
          "model_module_version": "1.5.0",
          "state": {
            "_view_name": "HBoxView",
            "_dom_classes": [],
            "_model_name": "HBoxModel",
            "_view_module": "@jupyter-widgets/controls",
            "_model_module_version": "1.5.0",
            "_view_count": null,
            "_view_module_version": "1.5.0",
            "box_style": "",
            "layout": "IPY_MODEL_e85d45a198864d1b960ca3a845eb755a",
            "_model_module": "@jupyter-widgets/controls",
            "children": [
              "IPY_MODEL_17a2fcce41ae4a8ba72b4bcec0b24a32",
              "IPY_MODEL_8e4ecf72bce24b94b21cbf58b84ca248",
              "IPY_MODEL_94ea8daa0cee4714b8f12aa03d1d245f"
            ]
          }
        },
        "e85d45a198864d1b960ca3a845eb755a": {
          "model_module": "@jupyter-widgets/base",
          "model_name": "LayoutModel",
          "model_module_version": "1.2.0",
          "state": {
            "_view_name": "LayoutView",
            "grid_template_rows": null,
            "right": null,
            "justify_content": null,
            "_view_module": "@jupyter-widgets/base",
            "overflow": null,
            "_model_module_version": "1.2.0",
            "_view_count": null,
            "flex_flow": null,
            "width": null,
            "min_width": null,
            "border": null,
            "align_items": null,
            "bottom": null,
            "_model_module": "@jupyter-widgets/base",
            "top": null,
            "grid_column": null,
            "overflow_y": null,
            "overflow_x": null,
            "grid_auto_flow": null,
            "grid_area": null,
            "grid_template_columns": null,
            "flex": null,
            "_model_name": "LayoutModel",
            "justify_items": null,
            "grid_row": null,
            "max_height": null,
            "align_content": null,
            "visibility": null,
            "align_self": null,
            "height": null,
            "min_height": null,
            "padding": null,
            "grid_auto_rows": null,
            "grid_gap": null,
            "max_width": null,
            "order": null,
            "_view_module_version": "1.2.0",
            "grid_template_areas": null,
            "object_position": null,
            "object_fit": null,
            "grid_auto_columns": null,
            "margin": null,
            "display": null,
            "left": null
          }
        },
        "17a2fcce41ae4a8ba72b4bcec0b24a32": {
          "model_module": "@jupyter-widgets/controls",
          "model_name": "HTMLModel",
          "model_module_version": "1.5.0",
          "state": {
            "_view_name": "HTMLView",
            "style": "IPY_MODEL_aa8745b3a5fe4e878bd082ea547a4d10",
            "_dom_classes": [],
            "description": "",
            "_model_name": "HTMLModel",
            "placeholder": "​",
            "_view_module": "@jupyter-widgets/controls",
            "_model_module_version": "1.5.0",
            "value": "",
            "_view_count": null,
            "_view_module_version": "1.5.0",
            "description_tooltip": null,
            "_model_module": "@jupyter-widgets/controls",
            "layout": "IPY_MODEL_438eb1aca7ae4d1cb578bbc57309ec48"
          }
        },
        "8e4ecf72bce24b94b21cbf58b84ca248": {
          "model_module": "@jupyter-widgets/controls",
          "model_name": "FloatProgressModel",
          "model_module_version": "1.5.0",
          "state": {
            "_view_name": "ProgressView",
            "style": "IPY_MODEL_33989deb17e74b77be95e418902d9aed",
            "_dom_classes": [],
            "description": "",
            "_model_name": "FloatProgressModel",
            "bar_style": "success",
            "max": 170498071,
            "_view_module": "@jupyter-widgets/controls",
            "_model_module_version": "1.5.0",
            "value": 170498071,
            "_view_count": null,
            "_view_module_version": "1.5.0",
            "orientation": "horizontal",
            "min": 0,
            "description_tooltip": null,
            "_model_module": "@jupyter-widgets/controls",
            "layout": "IPY_MODEL_572f0230befe4923ac1025f1cfe816d7"
          }
        },
        "94ea8daa0cee4714b8f12aa03d1d245f": {
          "model_module": "@jupyter-widgets/controls",
          "model_name": "HTMLModel",
          "model_module_version": "1.5.0",
          "state": {
            "_view_name": "HTMLView",
            "style": "IPY_MODEL_f6127e671a9642d69d1222f8039446a3",
            "_dom_classes": [],
            "description": "",
            "_model_name": "HTMLModel",
            "placeholder": "​",
            "_view_module": "@jupyter-widgets/controls",
            "_model_module_version": "1.5.0",
            "value": " 170499072/? [00:03&lt;00:00, 49674404.65it/s]",
            "_view_count": null,
            "_view_module_version": "1.5.0",
            "description_tooltip": null,
            "_model_module": "@jupyter-widgets/controls",
            "layout": "IPY_MODEL_1dff0981434f43ceb891f924aceb0ee0"
          }
        },
        "aa8745b3a5fe4e878bd082ea547a4d10": {
          "model_module": "@jupyter-widgets/controls",
          "model_name": "DescriptionStyleModel",
          "model_module_version": "1.5.0",
          "state": {
            "_view_name": "StyleView",
            "_model_name": "DescriptionStyleModel",
            "description_width": "",
            "_view_module": "@jupyter-widgets/base",
            "_model_module_version": "1.5.0",
            "_view_count": null,
            "_view_module_version": "1.2.0",
            "_model_module": "@jupyter-widgets/controls"
          }
        },
        "438eb1aca7ae4d1cb578bbc57309ec48": {
          "model_module": "@jupyter-widgets/base",
          "model_name": "LayoutModel",
          "model_module_version": "1.2.0",
          "state": {
            "_view_name": "LayoutView",
            "grid_template_rows": null,
            "right": null,
            "justify_content": null,
            "_view_module": "@jupyter-widgets/base",
            "overflow": null,
            "_model_module_version": "1.2.0",
            "_view_count": null,
            "flex_flow": null,
            "width": null,
            "min_width": null,
            "border": null,
            "align_items": null,
            "bottom": null,
            "_model_module": "@jupyter-widgets/base",
            "top": null,
            "grid_column": null,
            "overflow_y": null,
            "overflow_x": null,
            "grid_auto_flow": null,
            "grid_area": null,
            "grid_template_columns": null,
            "flex": null,
            "_model_name": "LayoutModel",
            "justify_items": null,
            "grid_row": null,
            "max_height": null,
            "align_content": null,
            "visibility": null,
            "align_self": null,
            "height": null,
            "min_height": null,
            "padding": null,
            "grid_auto_rows": null,
            "grid_gap": null,
            "max_width": null,
            "order": null,
            "_view_module_version": "1.2.0",
            "grid_template_areas": null,
            "object_position": null,
            "object_fit": null,
            "grid_auto_columns": null,
            "margin": null,
            "display": null,
            "left": null
          }
        },
        "33989deb17e74b77be95e418902d9aed": {
          "model_module": "@jupyter-widgets/controls",
          "model_name": "ProgressStyleModel",
          "model_module_version": "1.5.0",
          "state": {
            "_view_name": "StyleView",
            "_model_name": "ProgressStyleModel",
            "description_width": "",
            "_view_module": "@jupyter-widgets/base",
            "_model_module_version": "1.5.0",
            "_view_count": null,
            "_view_module_version": "1.2.0",
            "bar_color": null,
            "_model_module": "@jupyter-widgets/controls"
          }
        },
        "572f0230befe4923ac1025f1cfe816d7": {
          "model_module": "@jupyter-widgets/base",
          "model_name": "LayoutModel",
          "model_module_version": "1.2.0",
          "state": {
            "_view_name": "LayoutView",
            "grid_template_rows": null,
            "right": null,
            "justify_content": null,
            "_view_module": "@jupyter-widgets/base",
            "overflow": null,
            "_model_module_version": "1.2.0",
            "_view_count": null,
            "flex_flow": null,
            "width": null,
            "min_width": null,
            "border": null,
            "align_items": null,
            "bottom": null,
            "_model_module": "@jupyter-widgets/base",
            "top": null,
            "grid_column": null,
            "overflow_y": null,
            "overflow_x": null,
            "grid_auto_flow": null,
            "grid_area": null,
            "grid_template_columns": null,
            "flex": null,
            "_model_name": "LayoutModel",
            "justify_items": null,
            "grid_row": null,
            "max_height": null,
            "align_content": null,
            "visibility": null,
            "align_self": null,
            "height": null,
            "min_height": null,
            "padding": null,
            "grid_auto_rows": null,
            "grid_gap": null,
            "max_width": null,
            "order": null,
            "_view_module_version": "1.2.0",
            "grid_template_areas": null,
            "object_position": null,
            "object_fit": null,
            "grid_auto_columns": null,
            "margin": null,
            "display": null,
            "left": null
          }
        },
        "f6127e671a9642d69d1222f8039446a3": {
          "model_module": "@jupyter-widgets/controls",
          "model_name": "DescriptionStyleModel",
          "model_module_version": "1.5.0",
          "state": {
            "_view_name": "StyleView",
            "_model_name": "DescriptionStyleModel",
            "description_width": "",
            "_view_module": "@jupyter-widgets/base",
            "_model_module_version": "1.5.0",
            "_view_count": null,
            "_view_module_version": "1.2.0",
            "_model_module": "@jupyter-widgets/controls"
          }
        },
        "1dff0981434f43ceb891f924aceb0ee0": {
          "model_module": "@jupyter-widgets/base",
          "model_name": "LayoutModel",
          "model_module_version": "1.2.0",
          "state": {
            "_view_name": "LayoutView",
            "grid_template_rows": null,
            "right": null,
            "justify_content": null,
            "_view_module": "@jupyter-widgets/base",
            "overflow": null,
            "_model_module_version": "1.2.0",
            "_view_count": null,
            "flex_flow": null,
            "width": null,
            "min_width": null,
            "border": null,
            "align_items": null,
            "bottom": null,
            "_model_module": "@jupyter-widgets/base",
            "top": null,
            "grid_column": null,
            "overflow_y": null,
            "overflow_x": null,
            "grid_auto_flow": null,
            "grid_area": null,
            "grid_template_columns": null,
            "flex": null,
            "_model_name": "LayoutModel",
            "justify_items": null,
            "grid_row": null,
            "max_height": null,
            "align_content": null,
            "visibility": null,
            "align_self": null,
            "height": null,
            "min_height": null,
            "padding": null,
            "grid_auto_rows": null,
            "grid_gap": null,
            "max_width": null,
            "order": null,
            "_view_module_version": "1.2.0",
            "grid_template_areas": null,
            "object_position": null,
            "object_fit": null,
            "grid_auto_columns": null,
            "margin": null,
            "display": null,
            "left": null
          }
        }
      }
    }
  },
  "cells": [
    {
      "cell_type": "markdown",
      "metadata": {
        "id": "view-in-github",
        "colab_type": "text"
      },
      "source": [
        "<a href=\"https://colab.research.google.com/github/nafis-neehal/ML_PROJ_RPI/blob/main/HW5/HW5_1a.ipynb\" target=\"_parent\"><img src=\"https://colab.research.google.com/assets/colab-badge.svg\" alt=\"Open In Colab\"/></a>"
      ]
    },
    {
      "cell_type": "markdown",
      "metadata": {
        "id": "YUrA4g0J-39k"
      },
      "source": [
        "#Task 1a: CNN Model for CIFAR10 Dataset Classification\n",
        "In this task, I have built a CNN model from scratch for performing classification task on CIFAR10. "
      ]
    },
    {
      "cell_type": "markdown",
      "metadata": {
        "id": "lfTQvyCDwKi9"
      },
      "source": [
        "Dataset: Cifar10 https://pytorch.org/vision/stable/datasets.html \\\\\n",
        "References: \n",
        "- https://pytorch.org/tutorials/beginner/basics/buildmodel_tutorial.html \n",
        "- https://pytorch.org/tutorials/beginner/blitz/cifar10_tutorial.html\n",
        "- https://pytorch.org/tutorials/beginner/finetuning_torchvision_models_tutorial.html \n",
        "- https://pytorch.org/tutorials/beginner/deep_learning_60min_blitz.html \n",
        "- https://pytorch.org/tutorials/beginner/basics/optimization_tutorial.html "
      ]
    },
    {
      "cell_type": "markdown",
      "metadata": {
        "id": "kARIbqJG0pCV"
      },
      "source": [
        "# Imports"
      ]
    },
    {
      "cell_type": "code",
      "metadata": {
        "id": "pgz3Jkfbzce1",
        "colab": {
          "base_uri": "https://localhost:8080/"
        },
        "outputId": "bf9339f5-a73c-47bb-af14-6684a39c35f8"
      },
      "source": [
        "from google.colab import drive\n",
        "drive.mount('/content/drive')"
      ],
      "execution_count": 1,
      "outputs": [
        {
          "output_type": "stream",
          "name": "stdout",
          "text": [
            "Mounted at /content/drive\n"
          ]
        }
      ]
    },
    {
      "cell_type": "code",
      "metadata": {
        "id": "mmM3AvrGvwUc"
      },
      "source": [
        "import torch\n",
        "import torchvision\n",
        "import torchvision.transforms as transforms\n",
        "import torch.nn as nn\n",
        "import torch.nn.functional as F \n",
        "import torch.optim as optim \n",
        "\n",
        "import matplotlib.pyplot as plt \n",
        "import numpy as np\n",
        "import pandas as pd\n",
        "from tqdm import tqdm \n",
        "import time, copy\n",
        "import pickle\n",
        "import seaborn as sns\n",
        "\n",
        "import tensorflow as tf\n",
        "\n",
        "import warnings\n",
        "warnings.filterwarnings(\"ignore\")"
      ],
      "execution_count": 2,
      "outputs": []
    },
    {
      "cell_type": "code",
      "metadata": {
        "id": "MLwZUpHoF_v-"
      },
      "source": [
        "# Detect if we have a GPU available\n",
        "device = torch.device(\"cuda:0\" if torch.cuda.is_available() else \"cpu\")"
      ],
      "execution_count": 3,
      "outputs": []
    },
    {
      "cell_type": "markdown",
      "metadata": {
        "id": "3QoisGyk0tkk"
      },
      "source": [
        "# Data Preprocessing, Data Loader and sample display\n",
        "Here I have used simple transformations on the whole data, transformed them into tensor and then normalized the data so that i ranges between [-1,1]. \\\\\n",
        "I have then created three separate dataloaders for Train, Validation and Test batches with batch size 128. \\\\\n",
        "I have used CIFAR10 image dataset for this problem. The CIFAR-10 dataset consists of 60000 32x32 colour images in 10 classes, with 6000 images per class. There are 50000 training images and 10000 test images. We have used validation size of 10% of the training set."
      ]
    },
    {
      "cell_type": "code",
      "metadata": {
        "colab": {
          "base_uri": "https://localhost:8080/",
          "height": 101,
          "referenced_widgets": [
            "5b73fa784a0a48dba404a7e7b9dbfda8",
            "e85d45a198864d1b960ca3a845eb755a",
            "17a2fcce41ae4a8ba72b4bcec0b24a32",
            "8e4ecf72bce24b94b21cbf58b84ca248",
            "94ea8daa0cee4714b8f12aa03d1d245f",
            "aa8745b3a5fe4e878bd082ea547a4d10",
            "438eb1aca7ae4d1cb578bbc57309ec48",
            "33989deb17e74b77be95e418902d9aed",
            "572f0230befe4923ac1025f1cfe816d7",
            "f6127e671a9642d69d1222f8039446a3",
            "1dff0981434f43ceb891f924aceb0ee0"
          ]
        },
        "id": "hBLKlPfCwkIu",
        "outputId": "01ab1593-268b-4d0d-efc6-05fbb5c9a34d"
      },
      "source": [
        "transform = transforms.Compose(\n",
        "    [transforms.ToTensor(),\n",
        "     transforms.Normalize((0.5,0.5,0.5), (0.5,0.5,0.5))]\n",
        ")\n",
        "\n",
        "batch_size = 128\n",
        "\n",
        "train    = torchvision.datasets.CIFAR10(root='./data', train=True, download=True, transform=transform)\n",
        "\n",
        "validation_size = int(train.data.shape[0] * 0.10)\n",
        "train_size = int(train.data.shape[0] - validation_size)\n",
        "\n",
        "trainset, validset = torch.utils.data.random_split(train, [train_size,validation_size])\n",
        "trainloader = torch.utils.data.DataLoader(trainset, batch_size=batch_size, shuffle=True, num_workers=4)\n",
        "validloader = torch.utils.data.DataLoader(validset, batch_size=len(validset), shuffle=True, num_workers=4)\n",
        "\n",
        "testset     = torchvision.datasets.CIFAR10(root='./data', train=False, download=True, transform=transform)\n",
        "testloader  =  torch.utils.data.DataLoader(testset, batch_size=batch_size, shuffle=True, num_workers=4)"
      ],
      "execution_count": 4,
      "outputs": [
        {
          "output_type": "stream",
          "name": "stdout",
          "text": [
            "Downloading https://www.cs.toronto.edu/~kriz/cifar-10-python.tar.gz to ./data/cifar-10-python.tar.gz\n"
          ]
        },
        {
          "output_type": "display_data",
          "data": {
            "application/vnd.jupyter.widget-view+json": {
              "model_id": "5b73fa784a0a48dba404a7e7b9dbfda8",
              "version_minor": 0,
              "version_major": 2
            },
            "text/plain": [
              "  0%|          | 0/170498071 [00:00<?, ?it/s]"
            ]
          },
          "metadata": {}
        },
        {
          "output_type": "stream",
          "name": "stdout",
          "text": [
            "Extracting ./data/cifar-10-python.tar.gz to ./data\n",
            "Files already downloaded and verified\n"
          ]
        }
      ]
    },
    {
      "cell_type": "code",
      "metadata": {
        "colab": {
          "base_uri": "https://localhost:8080/",
          "height": 486
        },
        "id": "2G3cl0Mywttk",
        "outputId": "b5c8587b-5ef0-473a-b0e8-0cdf14fe2036"
      },
      "source": [
        "def imgshow(img):\n",
        "  img = img/2 + 0.5 \n",
        "  numpy_img = img.numpy()\n",
        "  plt.figure(figsize=(8,8))\n",
        "  plt.imshow(np.transpose(numpy_img,(1,2,0)))\n",
        "  plt.show()\n",
        "\n",
        "dataiter = iter(trainloader)\n",
        "images, labels = dataiter.next()\n",
        "\n",
        "imgshow(torchvision.utils.make_grid(images[:64]))"
      ],
      "execution_count": 9,
      "outputs": [
        {
          "output_type": "display_data",
          "data": {
            "image/png": "[encoded data removed]",
            "text/plain": [
              "<Figure size 576x576 with 1 Axes>"
            ]
          },
          "metadata": {
            "needs_background": "light"
          }
        }
      ]
    },
    {
      "cell_type": "markdown",
      "metadata": {
        "id": "FQqCklDX2rzj"
      },
      "source": [
        "# CNN Architecture\n",
        "I have used two conv layers with maxpooling. Based on literature stacking groups of conv layers and max pooling works best for classification problems with CNN. I have used 20% dropout for layer regularization. Finally after two conv-pool stacked layers we have three dense layers. The final output layer has 10 nodes for 10 different classes in CIFAR10. We have used standard SGD optimizer and Cross Entropy Loss."
      ]
    },
    {
      "cell_type": "code",
      "metadata": {
        "id": "3KGKHHFw3DrT",
        "colab": {
          "base_uri": "https://localhost:8080/"
        },
        "outputId": "796b8b4b-e500-45ec-87cc-8242a36142ad"
      },
      "source": [
        "class ConvNet(nn.Module):\n",
        "  def __init__(self):\n",
        "    super().__init__()\n",
        "    self.conv1 = nn.Conv2d(3, 16, 5, padding=\"same\")   \n",
        "    self.pool  = nn.MaxPool2d(2, 2)         \n",
        "    self.drop  = nn.Dropout(0.2)             \n",
        "    self.conv2 = nn.Conv2d(16, 64, 5, padding=\"same\")  \n",
        "    self.fc1   = nn.Linear(64*8*8, 256)\n",
        "    self.fc2   = nn.Linear(256, 64)\n",
        "    self.fc3   = nn.Linear(64, 10) \n",
        "\n",
        "  def forward(self, x):\n",
        "    x = self.conv1(x)         #output 32x32x6\n",
        "    x = F.relu(x)             #output 32x32x6\n",
        "    x = self.pool(x)          #output 16x16x6\n",
        "    x = self.conv2(x)         #output 16x16x16\n",
        "    x = F.relu(x)             #output 16x16x16\n",
        "    x = self.pool(x)          #output 8x8x16\n",
        "    x = torch.flatten(x, 1)   #flatten all dimension except batch\n",
        "    x = self.drop(F.relu(self.fc1(x)))\n",
        "    x = self.drop(F.relu(self.fc2(x)))\n",
        "    x = self.fc3(x)\n",
        "    return x\n",
        "\n",
        "model = ConvNet()\n",
        "model.to(device)\n",
        "model"
      ],
      "execution_count": 10,
      "outputs": [
        {
          "output_type": "execute_result",
          "data": {
            "text/plain": [
              "ConvNet(\n",
              "  (conv1): Conv2d(3, 16, kernel_size=(5, 5), stride=(1, 1), padding=same)\n",
              "  (pool): MaxPool2d(kernel_size=2, stride=2, padding=0, dilation=1, ceil_mode=False)\n",
              "  (drop): Dropout(p=0.2, inplace=False)\n",
              "  (conv2): Conv2d(16, 64, kernel_size=(5, 5), stride=(1, 1), padding=same)\n",
              "  (fc1): Linear(in_features=4096, out_features=256, bias=True)\n",
              "  (fc2): Linear(in_features=256, out_features=64, bias=True)\n",
              "  (fc3): Linear(in_features=64, out_features=10, bias=True)\n",
              ")"
            ]
          },
          "metadata": {},
          "execution_count": 10
        }
      ]
    },
    {
      "cell_type": "code",
      "metadata": {
        "id": "9b_qVhGBD2VH"
      },
      "source": [
        "criterion = nn.CrossEntropyLoss()\n",
        "optimizer = optim.SGD(model.parameters(), lr=0.001, momentum=0.9)"
      ],
      "execution_count": null,
      "outputs": []
    },
    {
      "cell_type": "markdown",
      "metadata": {
        "id": "T613YhTL31OA"
      },
      "source": [
        "# Training\n",
        "We perform the training with 20 epochs. Everytime we train on one batch, we measure the validation score and keep tabs on both losses and accuracies for training and validation. After each 50 iterations of batches, we check the running average of accuracies and losses and if the model improves on validation set, we then save the model state as the current best model state. After the whole training is done, we reload the saved best model state and evaluate that on training set. We finally then save model history, model best state offline for future use. "
      ]
    },
    {
      "cell_type": "code",
      "metadata": {
        "id": "PdK2dO62dEq4"
      },
      "source": [
        "#args = model path, history path\n",
        "def train_or_load(model, perform, *args):\n",
        "\n",
        "  if perform==\"train\":\n",
        "\n",
        "    best_weights = copy.deepcopy(model.state_dict())\n",
        "    best_val_acc = 0 \n",
        "    stat_in_each_batch = 50\n",
        "    EPOCHS = 20\n",
        "\n",
        "    tr_acc_hist   = []\n",
        "    tr_loss_hist  = []\n",
        "    val_loss_hist = []\n",
        "    val_acc_hist  = []\n",
        "\n",
        "    since = time.time()\n",
        "\n",
        "    for epoch in range(EPOCHS):  # loop over the dataset multiple times\n",
        "\n",
        "        tr_running_loss = 0.0\n",
        "        tr_running_corr = 0\n",
        "\n",
        "        for i, data in tqdm(enumerate(trainloader)):\n",
        "            # get the inputs; data is a list of [inputs, labels]\n",
        "            tr_inputs, tr_labels = data[0].to(device), data[1].to(device)\n",
        "\n",
        "            # zero the parameter gradients\n",
        "            optimizer.zero_grad()\n",
        "\n",
        "            # forward + backward + optimize\n",
        "            tr_outputs = model(tr_inputs)\n",
        "            loss = criterion(tr_outputs, tr_labels)\n",
        "            loss.backward()\n",
        "            optimizer.step()\n",
        "\n",
        "            # print statistics\n",
        "            tr_running_loss += loss.item() * tr_inputs.size(0)\n",
        "            _, tr_preds = torch.max(tr_outputs, 1)\n",
        "            tr_running_corr += torch.sum(tr_preds==tr_labels.data)\n",
        "\n",
        "            # #gpu memory clean\n",
        "            tr_inputs.detach()\n",
        "            tr_labels.detach()\n",
        "            tr_outputs.detach()\n",
        "\n",
        "            if (i+1) % stat_in_each_batch == 0:\n",
        "              with torch.no_grad():\n",
        "                v_loss = 0.0\n",
        "                v_corr = 0\n",
        "                for j, data in enumerate(validloader):\n",
        "                  v_inputs, v_labels = data[0].to(device), data[1].to(device)\n",
        "                  v_outputs = model(v_inputs)\n",
        "                  loss = criterion(v_outputs, v_labels)\n",
        "\n",
        "                  _, v_preds = torch.max(v_outputs, 1)\n",
        "                  v_loss += loss.item() * v_inputs.size(0)\n",
        "                  v_corr += torch.sum(v_preds==v_labels.data)\n",
        "              \n",
        "              #placeholder\n",
        "              val_acc   = v_corr/len(validloader.dataset)\n",
        "              tr_acc    = tr_running_corr / (stat_in_each_batch*batch_size) \n",
        "              val_loss  = v_loss/len(validloader.dataset)\n",
        "              tr_loss   = tr_running_loss/(stat_in_each_batch*batch_size)\n",
        "\n",
        "              #print stat\n",
        "              print(f\"\\n Epoch: {epoch} Batch: {(i+1)} Train Loss: {tr_loss} Train Acc: {tr_acc} Val Loss: {val_loss} Val Acc: {val_acc}\")\n",
        "              \n",
        "              #make sum 0\n",
        "              tr_running_loss = 0.0\n",
        "              tr_running_corr = 0\n",
        "\n",
        "              #save history\n",
        "              tr_acc_hist.append(tr_acc)\n",
        "              tr_loss_hist.append(tr_loss)\n",
        "              val_loss_hist.append(val_loss)\n",
        "              val_acc_hist.append(val_acc)\n",
        "\n",
        "              #model state transfer\n",
        "              if val_acc > best_val_acc:\n",
        "                best_val_acc = val_acc \n",
        "                best_model_wts = copy.deepcopy(model.state_dict())\n",
        "\n",
        "    time_elapsed = time.time() - since\n",
        "    print('Training complete in {:.0f}m {:.0f}s'.format(time_elapsed // 60, time_elapsed % 60))\n",
        "    print('Best Validation Accuracy: {:4f}'.format(best_val_acc))\n",
        "\n",
        "    # load best model weights\n",
        "    model.load_state_dict(best_model_wts)\n",
        "\n",
        "    #history\n",
        "    tr_acc_hist = [x.cpu().item() for x in tr_acc_hist]\n",
        "    val_acc_hist = [x.cpu().item() for x in val_acc_hist] \n",
        "    history = {\"Training Loss\": tr_loss_hist, \"Training Accuracy\": tr_acc_hist, \"Validation Loss\": val_loss_hist, \"Validation Accuracy\": val_acc_hist}\n",
        "\n",
        "    #save model\n",
        "    torch.save(model.state_dict(), args[0])\n",
        "\n",
        "    #save history\n",
        "    with open(args[1], 'wb') as f:\n",
        "      pickle.dump(history, f)\n",
        "\n",
        "\n",
        "  elif perform==\"load\":\n",
        "    PATH = args[0]\n",
        "    model.load_state_dict(torch.load(PATH))\n",
        "\n",
        "    with open(args[1], 'rb') as f:\n",
        "      history = pickle.load(f)\n",
        "\n",
        "  return model, history\n",
        "\n",
        "\n",
        "\n"
      ],
      "execution_count": null,
      "outputs": []
    },
    {
      "cell_type": "code",
      "metadata": {
        "id": "DqukWj0BzT79"
      },
      "source": [
        "#model path\n",
        "model_PATH = './drive/MyDrive/ML Project Course/HW5/cifar_net.pth'\n",
        "history_PATH = \"./drive/MyDrive/ML Project Course/HW5/history_5_1a.pkl\""
      ],
      "execution_count": null,
      "outputs": []
    },
    {
      "cell_type": "code",
      "metadata": {
        "id": "HdqmIHVJxfXs",
        "colab": {
          "base_uri": "https://localhost:8080/"
        },
        "outputId": "9c433331-c6b7-4c5f-9701-6fa3a979eb9d"
      },
      "source": [
        "model, history = train_or_load(model, \"train\", *[model_PATH, history_PATH])"
      ],
      "execution_count": null,
      "outputs": [
        {
          "output_type": "stream",
          "name": "stderr",
          "text": [
            "58it [00:02, 12.88it/s]"
          ]
        },
        {
          "output_type": "stream",
          "name": "stdout",
          "text": [
            "\n",
            " Epoch: 0 Batch: 50 Train Loss: 2.3043020486831667 Train Acc: 0.10749999433755875 Val Loss: 2.303774356842041 Val Acc: 0.10199999809265137\n"
          ]
        },
        {
          "output_type": "stream",
          "name": "stderr",
          "text": [
            "108it [00:05, 13.59it/s]"
          ]
        },
        {
          "output_type": "stream",
          "name": "stdout",
          "text": [
            "\n",
            " Epoch: 0 Batch: 100 Train Loss: 2.3017806434631347 Train Acc: 0.12109375 Val Loss: 2.3008315563201904 Val Acc: 0.125\n"
          ]
        },
        {
          "output_type": "stream",
          "name": "stderr",
          "text": [
            "157it [00:08, 13.53it/s]"
          ]
        },
        {
          "output_type": "stream",
          "name": "stdout",
          "text": [
            "\n",
            " Epoch: 0 Batch: 150 Train Loss: 2.298281469345093 Train Acc: 0.14171874523162842 Val Loss: 2.298253297805786 Val Acc: 0.13759998977184296\n"
          ]
        },
        {
          "output_type": "stream",
          "name": "stderr",
          "text": [
            "210it [00:10, 14.50it/s]"
          ]
        },
        {
          "output_type": "stream",
          "name": "stdout",
          "text": [
            "\n",
            " Epoch: 0 Batch: 200 Train Loss: 2.296352801322937 Train Acc: 0.15796874463558197 Val Loss: 2.294710159301758 Val Acc: 0.1565999984741211\n"
          ]
        },
        {
          "output_type": "stream",
          "name": "stderr",
          "text": [
            "260it [00:13, 13.19it/s]"
          ]
        },
        {
          "output_type": "stream",
          "name": "stdout",
          "text": [
            "\n",
            " Epoch: 0 Batch: 250 Train Loss: 2.291641979217529 Train Acc: 0.16359373927116394 Val Loss: 2.290208339691162 Val Acc: 0.1648000031709671\n"
          ]
        },
        {
          "output_type": "stream",
          "name": "stderr",
          "text": [
            "309it [00:15, 13.73it/s]"
          ]
        },
        {
          "output_type": "stream",
          "name": "stdout",
          "text": [
            "\n",
            " Epoch: 0 Batch: 300 Train Loss: 2.2873549842834473 Train Acc: 0.17031249403953552 Val Loss: 2.2842512130737305 Val Acc: 0.1703999936580658\n"
          ]
        },
        {
          "output_type": "stream",
          "name": "stderr",
          "text": [
            "352it [00:17, 19.70it/s]"
          ]
        },
        {
          "output_type": "stream",
          "name": "stdout",
          "text": [
            "\n",
            " Epoch: 0 Batch: 350 Train Loss: 2.2795888900756838 Train Acc: 0.17687499523162842 Val Loss: 2.275545358657837 Val Acc: 0.17059999704360962\n"
          ]
        },
        {
          "output_type": "stream",
          "name": "stderr",
          "text": [
            "\n",
            "57it [00:02, 12.54it/s]"
          ]
        },
        {
          "output_type": "stream",
          "name": "stdout",
          "text": [
            "\n",
            " Epoch: 1 Batch: 50 Train Loss: 2.268401889801025 Train Acc: 0.19093748927116394 Val Loss: 2.260305881500244 Val Acc: 0.1931999921798706\n"
          ]
        },
        {
          "output_type": "stream",
          "name": "stderr",
          "text": [
            "110it [00:05, 14.09it/s]"
          ]
        },
        {
          "output_type": "stream",
          "name": "stdout",
          "text": [
            "\n",
            " Epoch: 1 Batch: 100 Train Loss: 2.2521321678161623 Train Acc: 0.20734374225139618 Val Loss: 2.2390055656433105 Val Acc: 0.2078000009059906\n"
          ]
        },
        {
          "output_type": "stream",
          "name": "stderr",
          "text": [
            "160it [00:07, 14.58it/s]"
          ]
        },
        {
          "output_type": "stream",
          "name": "stdout",
          "text": [
            "\n",
            " Epoch: 1 Batch: 150 Train Loss: 2.2247464656829834 Train Acc: 0.21671874821186066 Val Loss: 2.208785057067871 Val Acc: 0.20999999344348907\n"
          ]
        },
        {
          "output_type": "stream",
          "name": "stderr",
          "text": [
            "211it [00:10, 14.46it/s]"
          ]
        },
        {
          "output_type": "stream",
          "name": "stdout",
          "text": [
            "\n",
            " Epoch: 1 Batch: 200 Train Loss: 2.197668972015381 Train Acc: 0.21265624463558197 Val Loss: 2.17209792137146 Val Acc: 0.21159999072551727\n"
          ]
        },
        {
          "output_type": "stream",
          "name": "stderr",
          "text": [
            "262it [00:12, 14.50it/s]"
          ]
        },
        {
          "output_type": "stream",
          "name": "stdout",
          "text": [
            "\n",
            " Epoch: 1 Batch: 250 Train Loss: 2.150694284439087 Train Acc: 0.23156249523162842 Val Loss: 2.136369228363037 Val Acc: 0.21519999206066132\n"
          ]
        },
        {
          "output_type": "stream",
          "name": "stderr",
          "text": [
            "307it [00:15, 13.86it/s]"
          ]
        },
        {
          "output_type": "stream",
          "name": "stdout",
          "text": [
            "\n",
            " Epoch: 1 Batch: 300 Train Loss: 2.1171396923065187 Train Acc: 0.22874999046325684 Val Loss: 2.101573944091797 Val Acc: 0.23119999468326569\n"
          ]
        },
        {
          "output_type": "stream",
          "name": "stderr",
          "text": [
            "352it [00:17, 20.06it/s]"
          ]
        },
        {
          "output_type": "stream",
          "name": "stdout",
          "text": [
            "\n",
            " Epoch: 1 Batch: 350 Train Loss: 2.076154062747955 Train Acc: 0.24171873927116394 Val Loss: 2.0587522983551025 Val Acc: 0.24779999256134033\n"
          ]
        },
        {
          "output_type": "stream",
          "name": "stderr",
          "text": [
            "\n",
            "63it [00:02, 16.20it/s]"
          ]
        },
        {
          "output_type": "stream",
          "name": "stdout",
          "text": [
            "\n",
            " Epoch: 2 Batch: 50 Train Loss: 2.0508669805526734 Train Acc: 0.2487500011920929 Val Loss: 2.0333776473999023 Val Acc: 0.25380000472068787\n"
          ]
        },
        {
          "output_type": "stream",
          "name": "stderr",
          "text": [
            "111it [00:05, 14.20it/s]"
          ]
        },
        {
          "output_type": "stream",
          "name": "stdout",
          "text": [
            "\n",
            " Epoch: 2 Batch: 100 Train Loss: 2.036818056106567 Train Acc: 0.2549999952316284 Val Loss: 2.012497901916504 Val Acc: 0.2572000026702881\n"
          ]
        },
        {
          "output_type": "stream",
          "name": "stderr",
          "text": [
            "161it [00:07, 14.07it/s]"
          ]
        },
        {
          "output_type": "stream",
          "name": "stdout",
          "text": [
            "\n",
            " Epoch: 2 Batch: 150 Train Loss: 2.0004431056976317 Train Acc: 0.27031248807907104 Val Loss: 1.9873414039611816 Val Acc: 0.2703999876976013\n"
          ]
        },
        {
          "output_type": "stream",
          "name": "stderr",
          "text": [
            "209it [00:10, 13.20it/s]"
          ]
        },
        {
          "output_type": "stream",
          "name": "stdout",
          "text": [
            "\n",
            " Epoch: 2 Batch: 200 Train Loss: 1.977420666217804 Train Acc: 0.28328123688697815 Val Loss: 1.9768626689910889 Val Acc: 0.2703999876976013\n"
          ]
        },
        {
          "output_type": "stream",
          "name": "stderr",
          "text": [
            "259it [00:12, 14.36it/s]"
          ]
        },
        {
          "output_type": "stream",
          "name": "stdout",
          "text": [
            "\n",
            " Epoch: 2 Batch: 250 Train Loss: 1.9711044764518737 Train Acc: 0.27734375 Val Loss: 1.9612888097763062 Val Acc: 0.274399995803833\n"
          ]
        },
        {
          "output_type": "stream",
          "name": "stderr",
          "text": [
            "308it [00:15, 14.50it/s]"
          ]
        },
        {
          "output_type": "stream",
          "name": "stdout",
          "text": [
            "\n",
            " Epoch: 2 Batch: 300 Train Loss: 1.943130943775177 Train Acc: 0.2853125035762787 Val Loss: 1.9422527551651 Val Acc: 0.2895999848842621\n"
          ]
        },
        {
          "output_type": "stream",
          "name": "stderr",
          "text": [
            "352it [00:17, 20.18it/s]"
          ]
        },
        {
          "output_type": "stream",
          "name": "stdout",
          "text": [
            "\n",
            " Epoch: 2 Batch: 350 Train Loss: 1.9243839740753175 Train Acc: 0.30265623331069946 Val Loss: 1.9232285022735596 Val Acc: 0.2913999855518341\n"
          ]
        },
        {
          "output_type": "stream",
          "name": "stderr",
          "text": [
            "\n",
            "62it [00:02, 15.41it/s]"
          ]
        },
        {
          "output_type": "stream",
          "name": "stdout",
          "text": [
            "\n",
            " Epoch: 3 Batch: 50 Train Loss: 1.9151875591278076 Train Acc: 0.3076562285423279 Val Loss: 1.905410885810852 Val Acc: 0.3041999936103821\n"
          ]
        },
        {
          "output_type": "stream",
          "name": "stderr",
          "text": [
            "112it [00:05, 14.43it/s]"
          ]
        },
        {
          "output_type": "stream",
          "name": "stdout",
          "text": [
            "\n",
            " Epoch: 3 Batch: 100 Train Loss: 1.8912871646881104 Train Acc: 0.31640625 Val Loss: 1.8877111673355103 Val Acc: 0.3100000023841858\n"
          ]
        },
        {
          "output_type": "stream",
          "name": "stderr",
          "text": [
            "160it [00:07, 15.45it/s]"
          ]
        },
        {
          "output_type": "stream",
          "name": "stdout",
          "text": [
            "\n",
            " Epoch: 3 Batch: 150 Train Loss: 1.8795630741119385 Train Acc: 0.3148437440395355 Val Loss: 1.8711689710617065 Val Acc: 0.32739999890327454\n"
          ]
        },
        {
          "output_type": "stream",
          "name": "stderr",
          "text": [
            "210it [00:10, 14.34it/s]"
          ]
        },
        {
          "output_type": "stream",
          "name": "stdout",
          "text": [
            "\n",
            " Epoch: 3 Batch: 200 Train Loss: 1.8715084743499757 Train Acc: 0.3317187428474426 Val Loss: 1.85789155960083 Val Acc: 0.32499998807907104\n"
          ]
        },
        {
          "output_type": "stream",
          "name": "stderr",
          "text": [
            "259it [00:12, 14.30it/s]"
          ]
        },
        {
          "output_type": "stream",
          "name": "stdout",
          "text": [
            "\n",
            " Epoch: 3 Batch: 250 Train Loss: 1.8470232772827149 Train Acc: 0.33781248331069946 Val Loss: 1.842923641204834 Val Acc: 0.3353999853134155\n"
          ]
        },
        {
          "output_type": "stream",
          "name": "stderr",
          "text": [
            "312it [00:15, 15.07it/s]"
          ]
        },
        {
          "output_type": "stream",
          "name": "stdout",
          "text": [
            "\n",
            " Epoch: 3 Batch: 300 Train Loss: 1.8210432291030885 Train Acc: 0.3349999785423279 Val Loss: 1.8240638971328735 Val Acc: 0.33059999346733093\n"
          ]
        },
        {
          "output_type": "stream",
          "name": "stderr",
          "text": [
            "352it [00:17, 20.05it/s]"
          ]
        },
        {
          "output_type": "stream",
          "name": "stdout",
          "text": [
            "\n",
            " Epoch: 3 Batch: 350 Train Loss: 1.80352543592453 Train Acc: 0.3473437428474426 Val Loss: 1.797057867050171 Val Acc: 0.34139999747276306\n"
          ]
        },
        {
          "output_type": "stream",
          "name": "stderr",
          "text": [
            "\n",
            "61it [00:02, 15.23it/s]"
          ]
        },
        {
          "output_type": "stream",
          "name": "stdout",
          "text": [
            "\n",
            " Epoch: 4 Batch: 50 Train Loss: 1.7859199571609496 Train Acc: 0.3478125035762787 Val Loss: 1.7803726196289062 Val Acc: 0.3531999886035919\n"
          ]
        },
        {
          "output_type": "stream",
          "name": "stderr",
          "text": [
            "109it [00:05, 14.27it/s]"
          ]
        },
        {
          "output_type": "stream",
          "name": "stdout",
          "text": [
            "\n",
            " Epoch: 4 Batch: 100 Train Loss: 1.7857488083839417 Train Acc: 0.3464062511920929 Val Loss: 1.768032193183899 Val Acc: 0.34779998660087585\n"
          ]
        },
        {
          "output_type": "stream",
          "name": "stderr",
          "text": [
            "157it [00:07, 12.91it/s]"
          ]
        },
        {
          "output_type": "stream",
          "name": "stdout",
          "text": [
            "\n",
            " Epoch: 4 Batch: 150 Train Loss: 1.757174654006958 Train Acc: 0.35984373092651367 Val Loss: 1.7584890127182007 Val Acc: 0.3612000048160553\n"
          ]
        },
        {
          "output_type": "stream",
          "name": "stderr",
          "text": [
            "207it [00:10, 13.57it/s]"
          ]
        },
        {
          "output_type": "stream",
          "name": "stdout",
          "text": [
            "\n",
            " Epoch: 4 Batch: 200 Train Loss: 1.7506220054626465 Train Acc: 0.3570312559604645 Val Loss: 1.7406283617019653 Val Acc: 0.3595999777317047\n"
          ]
        },
        {
          "output_type": "stream",
          "name": "stderr",
          "text": [
            "260it [00:12, 14.36it/s]"
          ]
        },
        {
          "output_type": "stream",
          "name": "stdout",
          "text": [
            "\n",
            " Epoch: 4 Batch: 250 Train Loss: 1.749647250175476 Train Acc: 0.3631249964237213 Val Loss: 1.7252918481826782 Val Acc: 0.37059998512268066\n"
          ]
        },
        {
          "output_type": "stream",
          "name": "stderr",
          "text": [
            "311it [00:15, 15.32it/s]"
          ]
        },
        {
          "output_type": "stream",
          "name": "stdout",
          "text": [
            "\n",
            " Epoch: 4 Batch: 300 Train Loss: 1.7213120460510254 Train Acc: 0.3657812476158142 Val Loss: 1.7254443168640137 Val Acc: 0.3675999939441681\n"
          ]
        },
        {
          "output_type": "stream",
          "name": "stderr",
          "text": [
            "352it [00:17, 19.96it/s]"
          ]
        },
        {
          "output_type": "stream",
          "name": "stdout",
          "text": [
            "\n",
            " Epoch: 4 Batch: 350 Train Loss: 1.693137104511261 Train Acc: 0.3828125 Val Loss: 1.708199381828308 Val Acc: 0.3789999783039093\n"
          ]
        },
        {
          "output_type": "stream",
          "name": "stderr",
          "text": [
            "\n",
            "61it [00:02, 14.54it/s]"
          ]
        },
        {
          "output_type": "stream",
          "name": "stdout",
          "text": [
            "\n",
            " Epoch: 5 Batch: 50 Train Loss: 1.6937779378890991 Train Acc: 0.3839062452316284 Val Loss: 1.7023203372955322 Val Acc: 0.3831999897956848\n"
          ]
        },
        {
          "output_type": "stream",
          "name": "stderr",
          "text": [
            "109it [00:05, 12.99it/s]"
          ]
        },
        {
          "output_type": "stream",
          "name": "stdout",
          "text": [
            "\n",
            " Epoch: 5 Batch: 100 Train Loss: 1.6834024953842164 Train Acc: 0.38359373807907104 Val Loss: 1.6795021295547485 Val Acc: 0.3863999843597412\n"
          ]
        },
        {
          "output_type": "stream",
          "name": "stderr",
          "text": [
            "160it [00:07, 14.62it/s]"
          ]
        },
        {
          "output_type": "stream",
          "name": "stdout",
          "text": [
            "\n",
            " Epoch: 5 Batch: 150 Train Loss: 1.6791561722755433 Train Acc: 0.39281249046325684 Val Loss: 1.6756902933120728 Val Acc: 0.38259997963905334\n"
          ]
        },
        {
          "output_type": "stream",
          "name": "stderr",
          "text": [
            "210it [00:10, 13.98it/s]"
          ]
        },
        {
          "output_type": "stream",
          "name": "stdout",
          "text": [
            "\n",
            " Epoch: 5 Batch: 200 Train Loss: 1.6683888459205627 Train Acc: 0.3851562440395355 Val Loss: 1.655805230140686 Val Acc: 0.3861999809741974\n"
          ]
        },
        {
          "output_type": "stream",
          "name": "stderr",
          "text": [
            "257it [00:12, 14.85it/s]"
          ]
        },
        {
          "output_type": "stream",
          "name": "stdout",
          "text": [
            "\n",
            " Epoch: 5 Batch: 250 Train Loss: 1.6635424971580506 Train Acc: 0.3890624940395355 Val Loss: 1.6541615724563599 Val Acc: 0.3999999761581421\n"
          ]
        },
        {
          "output_type": "stream",
          "name": "stderr",
          "text": [
            "309it [00:14, 15.38it/s]"
          ]
        },
        {
          "output_type": "stream",
          "name": "stdout",
          "text": [
            "\n",
            " Epoch: 5 Batch: 300 Train Loss: 1.6592844080924989 Train Acc: 0.3984375 Val Loss: 1.648541808128357 Val Acc: 0.4016000032424927\n"
          ]
        },
        {
          "output_type": "stream",
          "name": "stderr",
          "text": [
            "352it [00:17, 20.35it/s]"
          ]
        },
        {
          "output_type": "stream",
          "name": "stdout",
          "text": [
            "\n",
            " Epoch: 5 Batch: 350 Train Loss: 1.6547309613227845 Train Acc: 0.3934375047683716 Val Loss: 1.6383939981460571 Val Acc: 0.397599995136261\n"
          ]
        },
        {
          "output_type": "stream",
          "name": "stderr",
          "text": [
            "\n",
            "61it [00:02, 13.64it/s]"
          ]
        },
        {
          "output_type": "stream",
          "name": "stdout",
          "text": [
            "\n",
            " Epoch: 6 Batch: 50 Train Loss: 1.62312344789505 Train Acc: 0.40562498569488525 Val Loss: 1.6293163299560547 Val Acc: 0.4023999869823456\n"
          ]
        },
        {
          "output_type": "stream",
          "name": "stderr",
          "text": [
            "109it [00:05, 13.84it/s]"
          ]
        },
        {
          "output_type": "stream",
          "name": "stdout",
          "text": [
            "\n",
            " Epoch: 6 Batch: 100 Train Loss: 1.6268293857574463 Train Acc: 0.3962499797344208 Val Loss: 1.621393084526062 Val Acc: 0.4039999842643738\n"
          ]
        },
        {
          "output_type": "stream",
          "name": "stderr",
          "text": [
            "160it [00:07, 13.25it/s]"
          ]
        },
        {
          "output_type": "stream",
          "name": "stdout",
          "text": [
            "\n",
            " Epoch: 6 Batch: 150 Train Loss: 1.6087258648872376 Train Acc: 0.4154687523841858 Val Loss: 1.6098347902297974 Val Acc: 0.40779998898506165\n"
          ]
        },
        {
          "output_type": "stream",
          "name": "stderr",
          "text": [
            "208it [00:10, 12.97it/s]"
          ]
        },
        {
          "output_type": "stream",
          "name": "stdout",
          "text": [
            "\n",
            " Epoch: 6 Batch: 200 Train Loss: 1.6194824552536011 Train Acc: 0.41203123331069946 Val Loss: 1.5996856689453125 Val Acc: 0.4129999876022339\n"
          ]
        },
        {
          "output_type": "stream",
          "name": "stderr",
          "text": [
            "259it [00:12, 14.77it/s]"
          ]
        },
        {
          "output_type": "stream",
          "name": "stdout",
          "text": [
            "\n",
            " Epoch: 6 Batch: 250 Train Loss: 1.589344596862793 Train Acc: 0.42015624046325684 Val Loss: 1.597802758216858 Val Acc: 0.41419997811317444\n"
          ]
        },
        {
          "output_type": "stream",
          "name": "stderr",
          "text": [
            "307it [00:15, 13.16it/s]"
          ]
        },
        {
          "output_type": "stream",
          "name": "stdout",
          "text": [
            "\n",
            " Epoch: 6 Batch: 300 Train Loss: 1.5810699772834778 Train Acc: 0.42265623807907104 Val Loss: 1.5904502868652344 Val Acc: 0.41579997539520264\n"
          ]
        },
        {
          "output_type": "stream",
          "name": "stderr",
          "text": [
            "352it [00:17, 19.64it/s]"
          ]
        },
        {
          "output_type": "stream",
          "name": "stdout",
          "text": [
            "\n",
            " Epoch: 6 Batch: 350 Train Loss: 1.5935215950012207 Train Acc: 0.40718749165534973 Val Loss: 1.5733153820037842 Val Acc: 0.4277999997138977\n"
          ]
        },
        {
          "output_type": "stream",
          "name": "stderr",
          "text": [
            "\n",
            "62it [00:02, 14.47it/s]"
          ]
        },
        {
          "output_type": "stream",
          "name": "stdout",
          "text": [
            "\n",
            " Epoch: 7 Batch: 50 Train Loss: 1.5781918001174926 Train Acc: 0.4273437261581421 Val Loss: 1.5783799886703491 Val Acc: 0.42100000381469727\n"
          ]
        },
        {
          "output_type": "stream",
          "name": "stderr",
          "text": [
            "109it [00:05, 13.03it/s]"
          ]
        },
        {
          "output_type": "stream",
          "name": "stdout",
          "text": [
            "\n",
            " Epoch: 7 Batch: 100 Train Loss: 1.558700876235962 Train Acc: 0.4389062523841858 Val Loss: 1.5723100900650024 Val Acc: 0.4262000024318695\n"
          ]
        },
        {
          "output_type": "stream",
          "name": "stderr",
          "text": [
            "162it [00:07, 14.91it/s]"
          ]
        },
        {
          "output_type": "stream",
          "name": "stdout",
          "text": [
            "\n",
            " Epoch: 7 Batch: 150 Train Loss: 1.5580575799942016 Train Acc: 0.4314062297344208 Val Loss: 1.5570238828659058 Val Acc: 0.4293999969959259\n"
          ]
        },
        {
          "output_type": "stream",
          "name": "stderr",
          "text": [
            "209it [00:10, 13.60it/s]"
          ]
        },
        {
          "output_type": "stream",
          "name": "stdout",
          "text": [
            "\n",
            " Epoch: 7 Batch: 200 Train Loss: 1.5604153299331665 Train Acc: 0.4334374964237213 Val Loss: 1.5591760873794556 Val Acc: 0.42579999566078186\n"
          ]
        },
        {
          "output_type": "stream",
          "name": "stderr",
          "text": [
            "262it [00:12, 14.52it/s]"
          ]
        },
        {
          "output_type": "stream",
          "name": "stdout",
          "text": [
            "\n",
            " Epoch: 7 Batch: 250 Train Loss: 1.5551915287971496 Train Acc: 0.4389062523841858 Val Loss: 1.5503175258636475 Val Acc: 0.4339999854564667\n"
          ]
        },
        {
          "output_type": "stream",
          "name": "stderr",
          "text": [
            "312it [00:15, 14.08it/s]"
          ]
        },
        {
          "output_type": "stream",
          "name": "stdout",
          "text": [
            "\n",
            " Epoch: 7 Batch: 300 Train Loss: 1.5280569863319398 Train Acc: 0.44578123092651367 Val Loss: 1.5324642658233643 Val Acc: 0.44039997458457947\n"
          ]
        },
        {
          "output_type": "stream",
          "name": "stderr",
          "text": [
            "352it [00:17, 19.97it/s]"
          ]
        },
        {
          "output_type": "stream",
          "name": "stdout",
          "text": [
            "\n",
            " Epoch: 7 Batch: 350 Train Loss: 1.5501533007621766 Train Acc: 0.43359375 Val Loss: 1.5317977666854858 Val Acc: 0.4423999786376953\n"
          ]
        },
        {
          "output_type": "stream",
          "name": "stderr",
          "text": [
            "\n",
            "57it [00:02, 13.27it/s]"
          ]
        },
        {
          "output_type": "stream",
          "name": "stdout",
          "text": [
            "\n",
            " Epoch: 8 Batch: 50 Train Loss: 1.529406383037567 Train Acc: 0.4518750011920929 Val Loss: 1.526000738143921 Val Acc: 0.4389999806880951\n"
          ]
        },
        {
          "output_type": "stream",
          "name": "stderr",
          "text": [
            "110it [00:05, 13.81it/s]"
          ]
        },
        {
          "output_type": "stream",
          "name": "stdout",
          "text": [
            "\n",
            " Epoch: 8 Batch: 100 Train Loss: 1.523248448371887 Train Acc: 0.44234374165534973 Val Loss: 1.5232763290405273 Val Acc: 0.44099998474121094\n"
          ]
        },
        {
          "output_type": "stream",
          "name": "stderr",
          "text": [
            "159it [00:07, 12.88it/s]"
          ]
        },
        {
          "output_type": "stream",
          "name": "stdout",
          "text": [
            "\n",
            " Epoch: 8 Batch: 150 Train Loss: 1.5290740871429442 Train Acc: 0.4529687464237213 Val Loss: 1.5256825685501099 Val Acc: 0.436599999666214\n"
          ]
        },
        {
          "output_type": "stream",
          "name": "stderr",
          "text": [
            "208it [00:10, 13.70it/s]"
          ]
        },
        {
          "output_type": "stream",
          "name": "stdout",
          "text": [
            "\n",
            " Epoch: 8 Batch: 200 Train Loss: 1.5088115072250365 Train Acc: 0.4467187523841858 Val Loss: 1.5083509683609009 Val Acc: 0.44599997997283936\n"
          ]
        },
        {
          "output_type": "stream",
          "name": "stderr",
          "text": [
            "259it [00:12, 15.40it/s]"
          ]
        },
        {
          "output_type": "stream",
          "name": "stdout",
          "text": [
            "\n",
            " Epoch: 8 Batch: 250 Train Loss: 1.5130218076705932 Train Acc: 0.45515623688697815 Val Loss: 1.5009455680847168 Val Acc: 0.4509999752044678\n"
          ]
        },
        {
          "output_type": "stream",
          "name": "stderr",
          "text": [
            "305it [00:15, 12.16it/s]"
          ]
        },
        {
          "output_type": "stream",
          "name": "stdout",
          "text": [
            "\n",
            " Epoch: 8 Batch: 300 Train Loss: 1.4904094243049621 Train Acc: 0.45890623331069946 Val Loss: 1.5118318796157837 Val Acc: 0.44839999079704285\n"
          ]
        },
        {
          "output_type": "stream",
          "name": "stderr",
          "text": [
            "352it [00:17, 19.97it/s]"
          ]
        },
        {
          "output_type": "stream",
          "name": "stdout",
          "text": [
            "\n",
            " Epoch: 8 Batch: 350 Train Loss: 1.48131813287735 Train Acc: 0.46406248211860657 Val Loss: 1.4945229291915894 Val Acc: 0.4479999840259552\n"
          ]
        },
        {
          "output_type": "stream",
          "name": "stderr",
          "text": [
            "\n",
            "58it [00:02, 15.04it/s]"
          ]
        },
        {
          "output_type": "stream",
          "name": "stdout",
          "text": [
            "\n",
            " Epoch: 9 Batch: 50 Train Loss: 1.4932243514060974 Train Acc: 0.46140623092651367 Val Loss: 1.4982901811599731 Val Acc: 0.45399999618530273\n"
          ]
        },
        {
          "output_type": "stream",
          "name": "stderr",
          "text": [
            "109it [00:05, 14.35it/s]"
          ]
        },
        {
          "output_type": "stream",
          "name": "stdout",
          "text": [
            "\n",
            " Epoch: 9 Batch: 100 Train Loss: 1.490240488052368 Train Acc: 0.45703125 Val Loss: 1.489098072052002 Val Acc: 0.4527999758720398\n"
          ]
        },
        {
          "output_type": "stream",
          "name": "stderr",
          "text": [
            "158it [00:07, 13.47it/s]"
          ]
        },
        {
          "output_type": "stream",
          "name": "stdout",
          "text": [
            "\n",
            " Epoch: 9 Batch: 150 Train Loss: 1.4571812176704406 Train Acc: 0.4646874964237213 Val Loss: 1.4759920835494995 Val Acc: 0.46779999136924744\n"
          ]
        },
        {
          "output_type": "stream",
          "name": "stderr",
          "text": [
            "209it [00:10, 13.96it/s]"
          ]
        },
        {
          "output_type": "stream",
          "name": "stdout",
          "text": [
            "\n",
            " Epoch: 9 Batch: 200 Train Loss: 1.4841819500923157 Train Acc: 0.46015623211860657 Val Loss: 1.4766156673431396 Val Acc: 0.4619999825954437\n"
          ]
        },
        {
          "output_type": "stream",
          "name": "stderr",
          "text": [
            "258it [00:12, 13.92it/s]"
          ]
        },
        {
          "output_type": "stream",
          "name": "stdout",
          "text": [
            "\n",
            " Epoch: 9 Batch: 250 Train Loss: 1.4608602547645568 Train Acc: 0.4710937440395355 Val Loss: 1.4619089365005493 Val Acc: 0.46539998054504395\n"
          ]
        },
        {
          "output_type": "stream",
          "name": "stderr",
          "text": [
            "311it [00:15, 13.80it/s]"
          ]
        },
        {
          "output_type": "stream",
          "name": "stdout",
          "text": [
            "\n",
            " Epoch: 9 Batch: 300 Train Loss: 1.4548604702949524 Train Acc: 0.47203123569488525 Val Loss: 1.4697729349136353 Val Acc: 0.4649999737739563\n"
          ]
        },
        {
          "output_type": "stream",
          "name": "stderr",
          "text": [
            "352it [00:17, 20.17it/s]"
          ]
        },
        {
          "output_type": "stream",
          "name": "stdout",
          "text": [
            "\n",
            " Epoch: 9 Batch: 350 Train Loss: 1.449153778553009 Train Acc: 0.48374998569488525 Val Loss: 1.4814594984054565 Val Acc: 0.46459999680519104\n"
          ]
        },
        {
          "output_type": "stream",
          "name": "stderr",
          "text": [
            "\n",
            "56it [00:02, 13.15it/s]"
          ]
        },
        {
          "output_type": "stream",
          "name": "stdout",
          "text": [
            "\n",
            " Epoch: 10 Batch: 50 Train Loss: 1.4515493869781495 Train Acc: 0.47718748450279236 Val Loss: 1.4662202596664429 Val Acc: 0.4755999743938446\n"
          ]
        },
        {
          "output_type": "stream",
          "name": "stderr",
          "text": [
            "112it [00:05, 14.80it/s]"
          ]
        },
        {
          "output_type": "stream",
          "name": "stdout",
          "text": [
            "\n",
            " Epoch: 10 Batch: 100 Train Loss: 1.440869565010071 Train Acc: 0.47734373807907104 Val Loss: 1.44423246383667 Val Acc: 0.4761999845504761\n"
          ]
        },
        {
          "output_type": "stream",
          "name": "stderr",
          "text": [
            "159it [00:07, 14.25it/s]"
          ]
        },
        {
          "output_type": "stream",
          "name": "stdout",
          "text": [
            "\n",
            " Epoch: 10 Batch: 150 Train Loss: 1.4388553929328918 Train Acc: 0.47984373569488525 Val Loss: 1.4347436428070068 Val Acc: 0.4777999818325043\n"
          ]
        },
        {
          "output_type": "stream",
          "name": "stderr",
          "text": [
            "209it [00:10, 13.74it/s]"
          ]
        },
        {
          "output_type": "stream",
          "name": "stdout",
          "text": [
            "\n",
            " Epoch: 10 Batch: 200 Train Loss: 1.433996660709381 Train Acc: 0.4834374785423279 Val Loss: 1.4634747505187988 Val Acc: 0.46719998121261597\n"
          ]
        },
        {
          "output_type": "stream",
          "name": "stderr",
          "text": [
            "262it [00:12, 15.07it/s]"
          ]
        },
        {
          "output_type": "stream",
          "name": "stdout",
          "text": [
            "\n",
            " Epoch: 10 Batch: 250 Train Loss: 1.4389713597297669 Train Acc: 0.4779687523841858 Val Loss: 1.4346433877944946 Val Acc: 0.4745999872684479\n"
          ]
        },
        {
          "output_type": "stream",
          "name": "stderr",
          "text": [
            "310it [00:15, 13.80it/s]"
          ]
        },
        {
          "output_type": "stream",
          "name": "stdout",
          "text": [
            "\n",
            " Epoch: 10 Batch: 300 Train Loss: 1.3993642258644103 Train Acc: 0.5093749761581421 Val Loss: 1.419264793395996 Val Acc: 0.48579999804496765\n"
          ]
        },
        {
          "output_type": "stream",
          "name": "stderr",
          "text": [
            "352it [00:17, 19.97it/s]"
          ]
        },
        {
          "output_type": "stream",
          "name": "stdout",
          "text": [
            "\n",
            " Epoch: 10 Batch: 350 Train Loss: 1.4283437037467956 Train Acc: 0.4840624928474426 Val Loss: 1.4126147031784058 Val Acc: 0.48319998383522034\n"
          ]
        },
        {
          "output_type": "stream",
          "name": "stderr",
          "text": [
            "\n",
            "56it [00:02, 12.81it/s]"
          ]
        },
        {
          "output_type": "stream",
          "name": "stdout",
          "text": [
            "\n",
            " Epoch: 11 Batch: 50 Train Loss: 1.3919313836097718 Train Acc: 0.4946874976158142 Val Loss: 1.4237090349197388 Val Acc: 0.48339998722076416\n"
          ]
        },
        {
          "output_type": "stream",
          "name": "stderr",
          "text": [
            "111it [00:05, 13.77it/s]"
          ]
        },
        {
          "output_type": "stream",
          "name": "stdout",
          "text": [
            "\n",
            " Epoch: 11 Batch: 100 Train Loss: 1.398537793159485 Train Acc: 0.4985937476158142 Val Loss: 1.4112190008163452 Val Acc: 0.48240000009536743\n"
          ]
        },
        {
          "output_type": "stream",
          "name": "stderr",
          "text": [
            "160it [00:07, 13.73it/s]"
          ]
        },
        {
          "output_type": "stream",
          "name": "stdout",
          "text": [
            "\n",
            " Epoch: 11 Batch: 150 Train Loss: 1.3961440896987916 Train Acc: 0.49437499046325684 Val Loss: 1.419703722000122 Val Acc: 0.48420000076293945\n"
          ]
        },
        {
          "output_type": "stream",
          "name": "stderr",
          "text": [
            "211it [00:10, 14.05it/s]"
          ]
        },
        {
          "output_type": "stream",
          "name": "stdout",
          "text": [
            "\n",
            " Epoch: 11 Batch: 200 Train Loss: 1.4020914030075073 Train Acc: 0.4896875023841858 Val Loss: 1.413711667060852 Val Acc: 0.4860000014305115\n"
          ]
        },
        {
          "output_type": "stream",
          "name": "stderr",
          "text": [
            "259it [00:12, 13.56it/s]"
          ]
        },
        {
          "output_type": "stream",
          "name": "stdout",
          "text": [
            "\n",
            " Epoch: 11 Batch: 250 Train Loss: 1.4018992328643798 Train Acc: 0.49671873450279236 Val Loss: 1.3934653997421265 Val Acc: 0.49219998717308044\n"
          ]
        },
        {
          "output_type": "stream",
          "name": "stderr",
          "text": [
            "311it [00:15, 13.54it/s]"
          ]
        },
        {
          "output_type": "stream",
          "name": "stdout",
          "text": [
            "\n",
            " Epoch: 11 Batch: 300 Train Loss: 1.3998601627349854 Train Acc: 0.49015623331069946 Val Loss: 1.3933185338974 Val Acc: 0.4875999987125397\n"
          ]
        },
        {
          "output_type": "stream",
          "name": "stderr",
          "text": [
            "352it [00:17, 20.08it/s]"
          ]
        },
        {
          "output_type": "stream",
          "name": "stdout",
          "text": [
            "\n",
            " Epoch: 11 Batch: 350 Train Loss: 1.3984542489051819 Train Acc: 0.5090624690055847 Val Loss: 1.3880120515823364 Val Acc: 0.4967999756336212\n"
          ]
        },
        {
          "output_type": "stream",
          "name": "stderr",
          "text": [
            "\n",
            "62it [00:02, 14.54it/s]"
          ]
        },
        {
          "output_type": "stream",
          "name": "stdout",
          "text": [
            "\n",
            " Epoch: 12 Batch: 50 Train Loss: 1.3812324905395508 Train Acc: 0.5032812356948853 Val Loss: 1.3860130310058594 Val Acc: 0.4927999973297119\n"
          ]
        },
        {
          "output_type": "stream",
          "name": "stderr",
          "text": [
            "111it [00:05, 14.11it/s]"
          ]
        },
        {
          "output_type": "stream",
          "name": "stdout",
          "text": [
            "\n",
            " Epoch: 12 Batch: 100 Train Loss: 1.3485833525657653 Train Acc: 0.5167187452316284 Val Loss: 1.389904499053955 Val Acc: 0.49719998240470886\n"
          ]
        },
        {
          "output_type": "stream",
          "name": "stderr",
          "text": [
            "157it [00:07, 13.97it/s]"
          ]
        },
        {
          "output_type": "stream",
          "name": "stdout",
          "text": [
            "\n",
            " Epoch: 12 Batch: 150 Train Loss: 1.38752245426178 Train Acc: 0.4985937476158142 Val Loss: 1.3967945575714111 Val Acc: 0.49959999322891235\n"
          ]
        },
        {
          "output_type": "stream",
          "name": "stderr",
          "text": [
            "209it [00:10, 13.38it/s]"
          ]
        },
        {
          "output_type": "stream",
          "name": "stdout",
          "text": [
            "\n",
            " Epoch: 12 Batch: 200 Train Loss: 1.3480870056152343 Train Acc: 0.5095312595367432 Val Loss: 1.3673584461212158 Val Acc: 0.4959999918937683\n"
          ]
        },
        {
          "output_type": "stream",
          "name": "stderr",
          "text": [
            "259it [00:12, 13.78it/s]"
          ]
        },
        {
          "output_type": "stream",
          "name": "stdout",
          "text": [
            "\n",
            " Epoch: 12 Batch: 250 Train Loss: 1.3436592864990233 Train Acc: 0.5093749761581421 Val Loss: 1.3821451663970947 Val Acc: 0.498199999332428\n"
          ]
        },
        {
          "output_type": "stream",
          "name": "stderr",
          "text": [
            "310it [00:15, 14.51it/s]"
          ]
        },
        {
          "output_type": "stream",
          "name": "stdout",
          "text": [
            "\n",
            " Epoch: 12 Batch: 300 Train Loss: 1.376648588180542 Train Acc: 0.4985937476158142 Val Loss: 1.3569581508636475 Val Acc: 0.5063999891281128\n"
          ]
        },
        {
          "output_type": "stream",
          "name": "stderr",
          "text": [
            "352it [00:17, 20.09it/s]"
          ]
        },
        {
          "output_type": "stream",
          "name": "stdout",
          "text": [
            "\n",
            " Epoch: 12 Batch: 350 Train Loss: 1.3448197722434998 Train Acc: 0.5232812166213989 Val Loss: 1.352843999862671 Val Acc: 0.5054000020027161\n"
          ]
        },
        {
          "output_type": "stream",
          "name": "stderr",
          "text": [
            "\n",
            "60it [00:02, 14.60it/s]"
          ]
        },
        {
          "output_type": "stream",
          "name": "stdout",
          "text": [
            "\n",
            " Epoch: 13 Batch: 50 Train Loss: 1.3286342644691467 Train Acc: 0.524218738079071 Val Loss: 1.3597736358642578 Val Acc: 0.5115999579429626\n"
          ]
        },
        {
          "output_type": "stream",
          "name": "stderr",
          "text": [
            "111it [00:05, 14.71it/s]"
          ]
        },
        {
          "output_type": "stream",
          "name": "stdout",
          "text": [
            "\n",
            " Epoch: 13 Batch: 100 Train Loss: 1.335646595954895 Train Acc: 0.5173437595367432 Val Loss: 1.3531519174575806 Val Acc: 0.5067999958992004\n"
          ]
        },
        {
          "output_type": "stream",
          "name": "stderr",
          "text": [
            "160it [00:07, 14.12it/s]"
          ]
        },
        {
          "output_type": "stream",
          "name": "stdout",
          "text": [
            "\n",
            " Epoch: 13 Batch: 150 Train Loss: 1.312598671913147 Train Acc: 0.5315625071525574 Val Loss: 1.3561134338378906 Val Acc: 0.5101999640464783\n"
          ]
        },
        {
          "output_type": "stream",
          "name": "stderr",
          "text": [
            "210it [00:10, 13.29it/s]"
          ]
        },
        {
          "output_type": "stream",
          "name": "stdout",
          "text": [
            "\n",
            " Epoch: 13 Batch: 200 Train Loss: 1.3289603424072265 Train Acc: 0.5224999785423279 Val Loss: 1.3407117128372192 Val Acc: 0.5126000046730042\n"
          ]
        },
        {
          "output_type": "stream",
          "name": "stderr",
          "text": [
            "258it [00:12, 12.80it/s]"
          ]
        },
        {
          "output_type": "stream",
          "name": "stdout",
          "text": [
            "\n",
            " Epoch: 13 Batch: 250 Train Loss: 1.3143620920181274 Train Acc: 0.5314062237739563 Val Loss: 1.3439463376998901 Val Acc: 0.5167999863624573\n"
          ]
        },
        {
          "output_type": "stream",
          "name": "stderr",
          "text": [
            "312it [00:15, 13.77it/s]"
          ]
        },
        {
          "output_type": "stream",
          "name": "stdout",
          "text": [
            "\n",
            " Epoch: 13 Batch: 300 Train Loss: 1.3149969100952148 Train Acc: 0.5374999642372131 Val Loss: 1.332487940788269 Val Acc: 0.5151999592781067\n"
          ]
        },
        {
          "output_type": "stream",
          "name": "stderr",
          "text": [
            "352it [00:17, 19.69it/s]"
          ]
        },
        {
          "output_type": "stream",
          "name": "stdout",
          "text": [
            "\n",
            " Epoch: 13 Batch: 350 Train Loss: 1.3200335812568664 Train Acc: 0.5260937213897705 Val Loss: 1.326913595199585 Val Acc: 0.5151999592781067\n"
          ]
        },
        {
          "output_type": "stream",
          "name": "stderr",
          "text": [
            "\n",
            "61it [00:02, 14.31it/s]"
          ]
        },
        {
          "output_type": "stream",
          "name": "stdout",
          "text": [
            "\n",
            " Epoch: 14 Batch: 50 Train Loss: 1.3079686903953551 Train Acc: 0.5321874618530273 Val Loss: 1.3287431001663208 Val Acc: 0.5112000107765198\n"
          ]
        },
        {
          "output_type": "stream",
          "name": "stderr",
          "text": [
            "111it [00:05, 14.22it/s]"
          ]
        },
        {
          "output_type": "stream",
          "name": "stdout",
          "text": [
            "\n",
            " Epoch: 14 Batch: 100 Train Loss: 1.2913895487785338 Train Acc: 0.5360937118530273 Val Loss: 1.3274489641189575 Val Acc: 0.5221999883651733\n"
          ]
        },
        {
          "output_type": "stream",
          "name": "stderr",
          "text": [
            "158it [00:07, 12.65it/s]"
          ]
        },
        {
          "output_type": "stream",
          "name": "stdout",
          "text": [
            "\n",
            " Epoch: 14 Batch: 150 Train Loss: 1.3102650237083435 Train Acc: 0.5321874618530273 Val Loss: 1.3292282819747925 Val Acc: 0.5115999579429626\n"
          ]
        },
        {
          "output_type": "stream",
          "name": "stderr",
          "text": [
            "210it [00:10, 14.62it/s]"
          ]
        },
        {
          "output_type": "stream",
          "name": "stdout",
          "text": [
            "\n",
            " Epoch: 14 Batch: 200 Train Loss: 1.3029102087020874 Train Acc: 0.5348437428474426 Val Loss: 1.3156973123550415 Val Acc: 0.5257999897003174\n"
          ]
        },
        {
          "output_type": "stream",
          "name": "stderr",
          "text": [
            "259it [00:12, 14.07it/s]"
          ]
        },
        {
          "output_type": "stream",
          "name": "stdout",
          "text": [
            "\n",
            " Epoch: 14 Batch: 250 Train Loss: 1.2961829900741577 Train Acc: 0.5426562428474426 Val Loss: 1.306870937347412 Val Acc: 0.5266000032424927\n"
          ]
        },
        {
          "output_type": "stream",
          "name": "stderr",
          "text": [
            "309it [00:15, 14.37it/s]"
          ]
        },
        {
          "output_type": "stream",
          "name": "stdout",
          "text": [
            "\n",
            " Epoch: 14 Batch: 300 Train Loss: 1.2655934524536132 Train Acc: 0.546093761920929 Val Loss: 1.3058034181594849 Val Acc: 0.5338000059127808\n"
          ]
        },
        {
          "output_type": "stream",
          "name": "stderr",
          "text": [
            "352it [00:17, 19.91it/s]"
          ]
        },
        {
          "output_type": "stream",
          "name": "stdout",
          "text": [
            "\n",
            " Epoch: 14 Batch: 350 Train Loss: 1.2651710677146912 Train Acc: 0.5459374785423279 Val Loss: 1.2971328496932983 Val Acc: 0.5306000113487244\n"
          ]
        },
        {
          "output_type": "stream",
          "name": "stderr",
          "text": [
            "\n",
            "57it [00:02, 13.87it/s]"
          ]
        },
        {
          "output_type": "stream",
          "name": "stdout",
          "text": [
            "\n",
            " Epoch: 15 Batch: 50 Train Loss: 1.2811388206481933 Train Acc: 0.5392187237739563 Val Loss: 1.3075652122497559 Val Acc: 0.5313999652862549\n"
          ]
        },
        {
          "output_type": "stream",
          "name": "stderr",
          "text": [
            "112it [00:05, 15.59it/s]"
          ]
        },
        {
          "output_type": "stream",
          "name": "stdout",
          "text": [
            "\n",
            " Epoch: 15 Batch: 100 Train Loss: 1.2603825187683106 Train Acc: 0.559374988079071 Val Loss: 1.2830965518951416 Val Acc: 0.5335999727249146\n"
          ]
        },
        {
          "output_type": "stream",
          "name": "stderr",
          "text": [
            "160it [00:07, 13.45it/s]"
          ]
        },
        {
          "output_type": "stream",
          "name": "stdout",
          "text": [
            "\n",
            " Epoch: 15 Batch: 150 Train Loss: 1.2743377375602722 Train Acc: 0.5428124666213989 Val Loss: 1.295756220817566 Val Acc: 0.5315999984741211\n"
          ]
        },
        {
          "output_type": "stream",
          "name": "stderr",
          "text": [
            "208it [00:10, 12.82it/s]"
          ]
        },
        {
          "output_type": "stream",
          "name": "stdout",
          "text": [
            "\n",
            " Epoch: 15 Batch: 200 Train Loss: 1.2452244782447814 Train Acc: 0.5509374737739563 Val Loss: 1.293155550956726 Val Acc: 0.5343999862670898\n"
          ]
        },
        {
          "output_type": "stream",
          "name": "stderr",
          "text": [
            "258it [00:12, 12.96it/s]"
          ]
        },
        {
          "output_type": "stream",
          "name": "stdout",
          "text": [
            "\n",
            " Epoch: 15 Batch: 250 Train Loss: 1.2490719985961913 Train Acc: 0.55078125 Val Loss: 1.2818646430969238 Val Acc: 0.5291999578475952\n"
          ]
        },
        {
          "output_type": "stream",
          "name": "stderr",
          "text": [
            "310it [00:15, 14.21it/s]"
          ]
        },
        {
          "output_type": "stream",
          "name": "stdout",
          "text": [
            "\n",
            " Epoch: 15 Batch: 300 Train Loss: 1.2364092111587524 Train Acc: 0.5601562261581421 Val Loss: 1.288907527923584 Val Acc: 0.5320000052452087\n"
          ]
        },
        {
          "output_type": "stream",
          "name": "stderr",
          "text": [
            "352it [00:17, 19.83it/s]"
          ]
        },
        {
          "output_type": "stream",
          "name": "stdout",
          "text": [
            "\n",
            " Epoch: 15 Batch: 350 Train Loss: 1.2498809361457826 Train Acc: 0.5496875047683716 Val Loss: 1.2890971899032593 Val Acc: 0.5291999578475952\n"
          ]
        },
        {
          "output_type": "stream",
          "name": "stderr",
          "text": [
            "\n",
            "58it [00:02, 14.54it/s]"
          ]
        },
        {
          "output_type": "stream",
          "name": "stdout",
          "text": [
            "\n",
            " Epoch: 16 Batch: 50 Train Loss: 1.2366370463371277 Train Acc: 0.5615624785423279 Val Loss: 1.2582427263259888 Val Acc: 0.543999969959259\n"
          ]
        },
        {
          "output_type": "stream",
          "name": "stderr",
          "text": [
            "111it [00:05, 13.21it/s]"
          ]
        },
        {
          "output_type": "stream",
          "name": "stdout",
          "text": [
            "\n",
            " Epoch: 16 Batch: 100 Train Loss: 1.2370854687690735 Train Acc: 0.5609374642372131 Val Loss: 1.2710026502609253 Val Acc: 0.5453999638557434\n"
          ]
        },
        {
          "output_type": "stream",
          "name": "stderr",
          "text": [
            "161it [00:07, 14.99it/s]"
          ]
        },
        {
          "output_type": "stream",
          "name": "stdout",
          "text": [
            "\n",
            " Epoch: 16 Batch: 150 Train Loss: 1.2420059180259704 Train Acc: 0.5503124594688416 Val Loss: 1.279412031173706 Val Acc: 0.5381999611854553\n"
          ]
        },
        {
          "output_type": "stream",
          "name": "stderr",
          "text": [
            "209it [00:10, 13.42it/s]"
          ]
        },
        {
          "output_type": "stream",
          "name": "stdout",
          "text": [
            "\n",
            " Epoch: 16 Batch: 200 Train Loss: 1.2313368439674377 Train Acc: 0.5553125143051147 Val Loss: 1.2568745613098145 Val Acc: 0.5475999712944031\n"
          ]
        },
        {
          "output_type": "stream",
          "name": "stderr",
          "text": [
            "259it [00:12, 13.62it/s]"
          ]
        },
        {
          "output_type": "stream",
          "name": "stdout",
          "text": [
            "\n",
            " Epoch: 16 Batch: 250 Train Loss: 1.2256843805313111 Train Acc: 0.5589062571525574 Val Loss: 1.2616307735443115 Val Acc: 0.5425999760627747\n"
          ]
        },
        {
          "output_type": "stream",
          "name": "stderr",
          "text": [
            "312it [00:15, 14.77it/s]"
          ]
        },
        {
          "output_type": "stream",
          "name": "stdout",
          "text": [
            "\n",
            " Epoch: 16 Batch: 300 Train Loss: 1.2197473156452179 Train Acc: 0.5682812333106995 Val Loss: 1.2667293548583984 Val Acc: 0.5493999719619751\n"
          ]
        },
        {
          "output_type": "stream",
          "name": "stderr",
          "text": [
            "352it [00:17, 19.94it/s]"
          ]
        },
        {
          "output_type": "stream",
          "name": "stdout",
          "text": [
            "\n",
            " Epoch: 16 Batch: 350 Train Loss: 1.2296639227867125 Train Acc: 0.5621874928474426 Val Loss: 1.2461678981781006 Val Acc: 0.5547999739646912\n"
          ]
        },
        {
          "output_type": "stream",
          "name": "stderr",
          "text": [
            "\n",
            "60it [00:02, 14.43it/s]"
          ]
        },
        {
          "output_type": "stream",
          "name": "stdout",
          "text": [
            "\n",
            " Epoch: 17 Batch: 50 Train Loss: 1.2304170227050781 Train Acc: 0.5628125071525574 Val Loss: 1.2596852779388428 Val Acc: 0.545799970626831\n"
          ]
        },
        {
          "output_type": "stream",
          "name": "stderr",
          "text": [
            "107it [00:05, 12.44it/s]"
          ]
        },
        {
          "output_type": "stream",
          "name": "stdout",
          "text": [
            "\n",
            " Epoch: 17 Batch: 100 Train Loss: 1.2295512557029724 Train Acc: 0.5567187666893005 Val Loss: 1.2522592544555664 Val Acc: 0.543999969959259\n"
          ]
        },
        {
          "output_type": "stream",
          "name": "stderr",
          "text": [
            "162it [00:07, 13.74it/s]"
          ]
        },
        {
          "output_type": "stream",
          "name": "stdout",
          "text": [
            "\n",
            " Epoch: 17 Batch: 150 Train Loss: 1.1969948506355286 Train Acc: 0.5782812237739563 Val Loss: 1.236115574836731 Val Acc: 0.5577999949455261\n"
          ]
        },
        {
          "output_type": "stream",
          "name": "stderr",
          "text": [
            "211it [00:10, 13.51it/s]"
          ]
        },
        {
          "output_type": "stream",
          "name": "stdout",
          "text": [
            "\n",
            " Epoch: 17 Batch: 200 Train Loss: 1.1825404584407806 Train Acc: 0.5757812261581421 Val Loss: 1.240191102027893 Val Acc: 0.5503999590873718\n"
          ]
        },
        {
          "output_type": "stream",
          "name": "stderr",
          "text": [
            "259it [00:12, 13.44it/s]"
          ]
        },
        {
          "output_type": "stream",
          "name": "stdout",
          "text": [
            "\n",
            " Epoch: 17 Batch: 250 Train Loss: 1.1726541864871978 Train Acc: 0.5859375 Val Loss: 1.2251828908920288 Val Acc: 0.5618000030517578\n"
          ]
        },
        {
          "output_type": "stream",
          "name": "stderr",
          "text": [
            "306it [00:15, 13.11it/s]"
          ]
        },
        {
          "output_type": "stream",
          "name": "stdout",
          "text": [
            "\n",
            " Epoch: 17 Batch: 300 Train Loss: 1.2247761225700378 Train Acc: 0.5631250143051147 Val Loss: 1.256486177444458 Val Acc: 0.5461999773979187\n"
          ]
        },
        {
          "output_type": "stream",
          "name": "stderr",
          "text": [
            "352it [00:17, 19.64it/s]"
          ]
        },
        {
          "output_type": "stream",
          "name": "stdout",
          "text": [
            "\n",
            " Epoch: 17 Batch: 350 Train Loss: 1.204745192527771 Train Acc: 0.5754687190055847 Val Loss: 1.241731882095337 Val Acc: 0.5491999983787537\n"
          ]
        },
        {
          "output_type": "stream",
          "name": "stderr",
          "text": [
            "\n",
            "61it [00:02, 15.16it/s]"
          ]
        },
        {
          "output_type": "stream",
          "name": "stdout",
          "text": [
            "\n",
            " Epoch: 18 Batch: 50 Train Loss: 1.1650397050380707 Train Acc: 0.5767187476158142 Val Loss: 1.2345281839370728 Val Acc: 0.5568000078201294\n"
          ]
        },
        {
          "output_type": "stream",
          "name": "stderr",
          "text": [
            "113it [00:05, 14.85it/s]"
          ]
        },
        {
          "output_type": "stream",
          "name": "stdout",
          "text": [
            "\n",
            " Epoch: 18 Batch: 100 Train Loss: 1.167798490524292 Train Acc: 0.5779687166213989 Val Loss: 1.243648886680603 Val Acc: 0.5550000071525574\n"
          ]
        },
        {
          "output_type": "stream",
          "name": "stderr",
          "text": [
            "161it [00:07, 13.47it/s]"
          ]
        },
        {
          "output_type": "stream",
          "name": "stdout",
          "text": [
            "\n",
            " Epoch: 18 Batch: 150 Train Loss: 1.18734250664711 Train Acc: 0.571093738079071 Val Loss: 1.2309787273406982 Val Acc: 0.5636000037193298\n"
          ]
        },
        {
          "output_type": "stream",
          "name": "stderr",
          "text": [
            "209it [00:10, 13.49it/s]"
          ]
        },
        {
          "output_type": "stream",
          "name": "stdout",
          "text": [
            "\n",
            " Epoch: 18 Batch: 200 Train Loss: 1.1886187255382539 Train Acc: 0.577343761920929 Val Loss: 1.2090586423873901 Val Acc: 0.5627999901771545\n"
          ]
        },
        {
          "output_type": "stream",
          "name": "stderr",
          "text": [
            "261it [00:12, 15.03it/s]"
          ]
        },
        {
          "output_type": "stream",
          "name": "stdout",
          "text": [
            "\n",
            " Epoch: 18 Batch: 250 Train Loss: 1.1826611399650573 Train Acc: 0.5951562523841858 Val Loss: 1.222088098526001 Val Acc: 0.5622000098228455\n"
          ]
        },
        {
          "output_type": "stream",
          "name": "stderr",
          "text": [
            "310it [00:15, 14.51it/s]"
          ]
        },
        {
          "output_type": "stream",
          "name": "stdout",
          "text": [
            "\n",
            " Epoch: 18 Batch: 300 Train Loss: 1.150362082719803 Train Acc: 0.592968761920929 Val Loss: 1.2011686563491821 Val Acc: 0.5751999616622925\n"
          ]
        },
        {
          "output_type": "stream",
          "name": "stderr",
          "text": [
            "352it [00:17, 19.82it/s]"
          ]
        },
        {
          "output_type": "stream",
          "name": "stdout",
          "text": [
            "\n",
            " Epoch: 18 Batch: 350 Train Loss: 1.163737916946411 Train Acc: 0.5793749690055847 Val Loss: 1.2181928157806396 Val Acc: 0.5619999766349792\n"
          ]
        },
        {
          "output_type": "stream",
          "name": "stderr",
          "text": [
            "\n",
            "62it [00:02, 15.15it/s]"
          ]
        },
        {
          "output_type": "stream",
          "name": "stdout",
          "text": [
            "\n",
            " Epoch: 19 Batch: 50 Train Loss: 1.1500142550468444 Train Acc: 0.5924999713897705 Val Loss: 1.2057750225067139 Val Acc: 0.5643999576568604\n"
          ]
        },
        {
          "output_type": "stream",
          "name": "stderr",
          "text": [
            "111it [00:05, 13.99it/s]"
          ]
        },
        {
          "output_type": "stream",
          "name": "stdout",
          "text": [
            "\n",
            " Epoch: 19 Batch: 100 Train Loss: 1.1420618104934692 Train Acc: 0.5940625071525574 Val Loss: 1.2085888385772705 Val Acc: 0.5659999847412109\n"
          ]
        },
        {
          "output_type": "stream",
          "name": "stderr",
          "text": [
            "160it [00:07, 13.47it/s]"
          ]
        },
        {
          "output_type": "stream",
          "name": "stdout",
          "text": [
            "\n",
            " Epoch: 19 Batch: 150 Train Loss: 1.1455285608768464 Train Acc: 0.5931249856948853 Val Loss: 1.1965707540512085 Val Acc: 0.5676000118255615\n"
          ]
        },
        {
          "output_type": "stream",
          "name": "stderr",
          "text": [
            "210it [00:10, 14.47it/s]"
          ]
        },
        {
          "output_type": "stream",
          "name": "stdout",
          "text": [
            "\n",
            " Epoch: 19 Batch: 200 Train Loss: 1.1579508101940155 Train Acc: 0.5942187309265137 Val Loss: 1.2015118598937988 Val Acc: 0.5699999928474426\n"
          ]
        },
        {
          "output_type": "stream",
          "name": "stderr",
          "text": [
            "260it [00:12, 14.83it/s]"
          ]
        },
        {
          "output_type": "stream",
          "name": "stdout",
          "text": [
            "\n",
            " Epoch: 19 Batch: 250 Train Loss: 1.1313413286209106 Train Acc: 0.5881249904632568 Val Loss: 1.198152780532837 Val Acc: 0.5712000131607056\n"
          ]
        },
        {
          "output_type": "stream",
          "name": "stderr",
          "text": [
            "309it [00:15, 13.43it/s]"
          ]
        },
        {
          "output_type": "stream",
          "name": "stdout",
          "text": [
            "\n",
            " Epoch: 19 Batch: 300 Train Loss: 1.157658885717392 Train Acc: 0.5881249904632568 Val Loss: 1.1907178163528442 Val Acc: 0.5767999887466431\n"
          ]
        },
        {
          "output_type": "stream",
          "name": "stderr",
          "text": [
            "352it [00:17, 19.74it/s]"
          ]
        },
        {
          "output_type": "stream",
          "name": "stdout",
          "text": [
            "\n",
            " Epoch: 19 Batch: 350 Train Loss: 1.1550774824619294 Train Acc: 0.5837500095367432 Val Loss: 1.2038291692733765 Val Acc: 0.5701999664306641\n",
            "Training complete in 5m 56s\n",
            "Best Validation Accuracy: 0.576800\n"
          ]
        },
        {
          "output_type": "stream",
          "name": "stderr",
          "text": [
            "\n"
          ]
        }
      ]
    },
    {
      "cell_type": "markdown",
      "metadata": {
        "id": "6Fq2rgzq4kLo"
      },
      "source": [
        "# Performance Evaluation\n",
        "For training we got around 58% accuracy whereas in validation we got 57% accuracy. \n",
        "\n",
        "**Challenge:** The model performance obviously has room for improvement. The problem I faced with model tweaking and hyperparameter tuning is GPU runtime shortage. Colab doesn't offer free unlimited GPU and has cap limit on GPU usage. So it was very hard to tweak and retrain and check model everytime on this limited GPU capacity. Also, on CPU, it is near to impossible to train even a small vanilla CNN like this within a small time window. \\\\"
      ]
    },
    {
      "cell_type": "markdown",
      "metadata": {
        "id": "B_gm52yJ5zGy"
      },
      "source": [
        "## Performance on Test Data\n",
        "On test data we also achieved around 57% accuracy, so model doesn't suffer from overfitting. "
      ]
    },
    {
      "cell_type": "code",
      "metadata": {
        "colab": {
          "base_uri": "https://localhost:8080/"
        },
        "id": "tH8aIo69WwBx",
        "outputId": "5152c614-55ca-4d40-8937-089cfbad585c"
      },
      "source": [
        "#Test Performance \n",
        "with torch.no_grad():\n",
        "  test_loss = 0.0\n",
        "  test_correct = 0\n",
        "\n",
        "  for i, data in tqdm(enumerate(testloader)):\n",
        "    te_inputs, te_labels = data[0].to(device), data[1].to(device)\n",
        "    te_outputs = model(te_inputs)\n",
        "    te_loss = criterion(te_outputs, te_labels)\n",
        "    test_loss += te_loss.item() * te_inputs.size(0)\n",
        "\n",
        "    _, te_pred = torch.max(te_outputs.data, 1)\n",
        "    test_correct += (te_pred == te_labels).sum().item()\n",
        "\n",
        "print(f\"\\nTest Loss: {test_loss/len(testloader.dataset):0.05f} Test Accuracy: {test_correct/len(testset):0.05f}\")\n",
        "    "
      ],
      "execution_count": null,
      "outputs": [
        {
          "output_type": "stream",
          "name": "stderr",
          "text": [
            "79it [00:01, 45.61it/s]"
          ]
        },
        {
          "output_type": "stream",
          "name": "stdout",
          "text": [
            "\n",
            "Test Loss: 1.19325 Test Accuracy: 0.57750\n"
          ]
        },
        {
          "output_type": "stream",
          "name": "stderr",
          "text": [
            "\n"
          ]
        }
      ]
    },
    {
      "cell_type": "markdown",
      "metadata": {
        "id": "EQm62gRxxlUo"
      },
      "source": [
        "## Plot History\n",
        "If we look at the trend at the loss graph, it decreases monotonically. And in the accuracy graph, in increases monotonically. I can infer that this trend would continue and performance would have developed more if I had the resources to train the network more."
      ]
    },
    {
      "cell_type": "code",
      "metadata": {
        "colab": {
          "base_uri": "https://localhost:8080/"
        },
        "id": "S1s6yv8lxkw5",
        "outputId": "2889e6a0-5963-4e52-f3bd-53ff6cc23368"
      },
      "source": [
        "history.keys()"
      ],
      "execution_count": null,
      "outputs": [
        {
          "output_type": "execute_result",
          "data": {
            "text/plain": [
              "dict_keys(['Training Loss', 'Training Accuracy', 'Validation Loss', 'Validation Accuracy'])"
            ]
          },
          "metadata": {},
          "execution_count": 12
        }
      ]
    },
    {
      "cell_type": "code",
      "metadata": {
        "colab": {
          "base_uri": "https://localhost:8080/",
          "height": 265
        },
        "id": "XeyGuW2thW52",
        "outputId": "350f240e-f5c2-4bbb-ee24-8b50ecf3fe34"
      },
      "source": [
        "plt.plot(history[\"Training Accuracy\"], label=\"Training Accuracy\", color=\"red\")\n",
        "plt.plot(history[\"Validation Accuracy\"], label=\"Validation Accuracy\", color=\"green\")\n",
        "plt.legend()\n",
        "plt.show()"
      ],
      "execution_count": null,
      "outputs": [
        {
          "output_type": "display_data",
          "data": {
            "image/png": "[encoded data removed]",
            "text/plain": [
              "<Figure size 432x288 with 1 Axes>"
            ]
          },
          "metadata": {
            "needs_background": "light"
          }
        }
      ]
    },
    {
      "cell_type": "code",
      "metadata": {
        "colab": {
          "base_uri": "https://localhost:8080/",
          "height": 265
        },
        "id": "mE06CrS3hY30",
        "outputId": "72c050d5-f0c1-406a-c375-7903068d5457"
      },
      "source": [
        "plt.plot(history[\"Training Loss\"], label=\"Training Loss\", color=\"red\")\n",
        "plt.plot(history[\"Validation Loss\"], label=\"Validation Loss\", color=\"green\")\n",
        "plt.legend()\n",
        "plt.show()"
      ],
      "execution_count": null,
      "outputs": [
        {
          "output_type": "display_data",
          "data": {
            "image/png": "[encoded data removed]",
            "text/plain": [
              "<Figure size 432x288 with 1 Axes>"
            ]
          },
          "metadata": {
            "needs_background": "light"
          }
        }
      ]
    },
    {
      "cell_type": "markdown",
      "metadata": {
        "id": "akEfQkoqyNCh"
      },
      "source": [
        "## Heatmap\n",
        "This heatmap gives an idea how the model is performing on each class. Heatmap is produced using test data."
      ]
    },
    {
      "cell_type": "code",
      "metadata": {
        "id": "yTCEz2jqco0G"
      },
      "source": [
        "classes = trainset.dataset.classes\n",
        "heatmap = pd.DataFrame(data=0,index=classes,columns=classes)"
      ],
      "execution_count": null,
      "outputs": []
    },
    {
      "cell_type": "code",
      "metadata": {
        "id": "xT4wRnb0c5Hw"
      },
      "source": [
        "import seaborn as sns\n",
        "with torch.no_grad():\n",
        "    for images, labels in testloader:\n",
        "        images, labels = images.to(device), labels.to(device)\n",
        "        outputs = model(images)\n",
        "        _, predicted = torch.max(outputs.data, 1)\n",
        "        for k in range(len(labels)):\n",
        "            true_label = labels[k].item()\n",
        "            predicted_label = predicted[k].item()\n",
        "            heatmap.iloc[true_label,predicted_label] += 1"
      ],
      "execution_count": null,
      "outputs": []
    },
    {
      "cell_type": "code",
      "metadata": {
        "colab": {
          "base_uri": "https://localhost:8080/",
          "height": 529
        },
        "id": "j5u9KCLugBaF",
        "outputId": "9db409d3-bca7-41c8-9a62-7218f4271053"
      },
      "source": [
        "_, ax = plt.subplots(figsize=(10, 8))\n",
        "ax = sns.heatmap(heatmap, annot=True, fmt=\"d\")\n",
        "plt.show()"
      ],
      "execution_count": null,
      "outputs": [
        {
          "output_type": "display_data",
          "data": {
            "image/png": "[encoded data removed]",
            "text/plain": [
              "<Figure size 720x576 with 2 Axes>"
            ]
          },
          "metadata": {
            "needs_background": "light"
          }
        }
      ]
    }
  ]
}