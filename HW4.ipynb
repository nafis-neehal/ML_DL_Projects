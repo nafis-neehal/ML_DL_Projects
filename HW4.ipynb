{
  "nbformat": 4,
  "nbformat_minor": 0,
  "metadata": {
    "colab": {
      "name": "HW4",
      "provenance": [],
      "collapsed_sections": [],
      "authorship_tag": "ABX9TyM7LpswUxV7tfXhBn7luSTl",
      "include_colab_link": true
    },
    "kernelspec": {
      "display_name": "Python 3",
      "name": "python3"
    },
    "language_info": {
      "name": "python"
    },
    "accelerator": "TPU"
  },
  "cells": [
    {
      "cell_type": "markdown",
      "metadata": {
        "id": "view-in-github",
        "colab_type": "text"
      },
      "source": [
        "<a href=\"https://colab.research.google.com/github/nafis-neehal/ML_PROJ_RPI/blob/main/HW4.ipynb\" target=\"_parent\"><img src=\"https://colab.research.google.com/assets/colab-badge.svg\" alt=\"Open In Colab\"/></a>"
      ]
    },
    {
      "cell_type": "markdown",
      "metadata": {
        "id": "W3r7G-zFoX0_"
      },
      "source": [
        "#Task 1: Seq-to-Seq models with RNN and GRU for French-English Machine Translation"
      ]
    },
    {
      "cell_type": "markdown",
      "metadata": {
        "id": "PlGgcX_gc5c9"
      },
      "source": [
        "## Imports and Installs\n",
        "We use French to English Translation dataset for this problem. There are around 3.5k translated sentence pairs from french to english language. We use Pyter3 for TER Score calculate to evaluate machine translation quality besides BLEU score implementation in torchtext. \\\\\n",
        "\n",
        "Data Source: https://download.pytorch.org/tutorial/data.zip"
      ]
    },
    {
      "cell_type": "code",
      "metadata": {
        "id": "uENkMD5vcHgS"
      },
      "source": [
        "# from google.colab import drive\n",
        "# drive.mount('/content/drive')"
      ],
      "execution_count": null,
      "outputs": []
    },
    {
      "cell_type": "code",
      "metadata": {
        "id": "y0hAa8D8VuVV"
      },
      "source": [
        "# ! pip install pyter3"
      ],
      "execution_count": null,
      "outputs": []
    },
    {
      "cell_type": "code",
      "metadata": {
        "id": "jsRSHKFjdCRM"
      },
      "source": [
        "from __future__ import unicode_literals, print_function, division\n",
        "from io import open\n",
        "import unicodedata\n",
        "import string\n",
        "import re\n",
        "import random\n",
        "from tqdm import tqdm\n",
        "\n",
        "import numpy as np\n",
        "import pandas as pd\n",
        "import torch\n",
        "import torch.nn as nn\n",
        "from torch import optim\n",
        "import torch.nn.functional as F\n",
        "from torchtext.data.metrics import bleu_score\n",
        "\n",
        "import pyter \n",
        "import matplotlib.pyplot as plt\n",
        "plt.switch_backend('agg')\n",
        "import matplotlib.ticker as ticker\n",
        "\n",
        "%matplotlib inline \n",
        "\n",
        "device = torch.device(\"cuda\" if torch.cuda.is_available() else \"cpu\")"
      ],
      "execution_count": null,
      "outputs": []
    },
    {
      "cell_type": "markdown",
      "metadata": {
        "id": "peWW4rxsXB2b"
      },
      "source": [
        "## Language Class and Processing\n",
        "\n",
        "Language Class objects hold relevant information about the two languages - English and French that we are dealing with. \n",
        "* word2index = mapping each unique word to unique index values\n",
        "* index2word = mapping each unique index to unique words\n",
        "* word2count = frequency of each word\n"
      ]
    },
    {
      "cell_type": "code",
      "metadata": {
        "id": "vdebb5j0skiA"
      },
      "source": [
        "SOS_token = 0 #denotes starting of a sentence\n",
        "EOS_token = 1 #denotes end of a sentence\n",
        "\n",
        "\"\"\"\n",
        "Language class - object contains information for each language\n",
        "\"\"\"\n",
        "class Lang:\n",
        "    def __init__(self, name):\n",
        "        self.name = name\n",
        "        self.word2index = {}\n",
        "        self.word2count = {}\n",
        "        self.index2word = {0: \"SOS\", 1: \"EOS\"}\n",
        "        self.n_words = 2  # Count SOS and EOS\n",
        "    \"\"\"\n",
        "    Split the sentence into words, spaced by 'whitespace'\n",
        "    \"\"\"\n",
        "    def addNewSentencence(self, sentence):\n",
        "        for word in sentence.split(' '):\n",
        "            self.addWord(word)\n",
        "    \"\"\"\n",
        "    Update word, index mapping and corresponding counts\n",
        "    \"\"\"\n",
        "    def addWord(self, word):\n",
        "        if word not in self.word2index:\n",
        "            self.word2index[word] = self.n_words\n",
        "            self.word2count[word] = 1\n",
        "            self.index2word[self.n_words] = word\n",
        "            self.n_words += 1\n",
        "        else:\n",
        "            self.word2count[word] += 1"
      ],
      "execution_count": null,
      "outputs": []
    },
    {
      "cell_type": "code",
      "metadata": {
        "id": "Hk5tn0tLswJx"
      },
      "source": [
        "\"\"\"\n",
        "Transform Unicode characters to ASCII values\n",
        "\"\"\"\n",
        "def unicodeToAscii(s):\n",
        "    return ''.join(\n",
        "        c for c in unicodedata.normalize('NFD', s)\n",
        "        if unicodedata.category(c) != 'Mn'\n",
        "    )\n",
        "\n",
        "\"\"\"\n",
        "Convert them to Lowercase, trim, and remove common punctuation characters\n",
        "\"\"\"\n",
        "def processString(s):\n",
        "    s = unicodeToAscii(s.lower().strip())\n",
        "    s = re.sub(r\"([.!?])\", r\" \\1\", s)\n",
        "    s = re.sub(r\"[^a-zA-Z.!?]+\", r\" \", s)\n",
        "    return s"
      ],
      "execution_count": null,
      "outputs": []
    },
    {
      "cell_type": "code",
      "metadata": {
        "id": "Dqg3Wzews0Yu"
      },
      "source": [
        "\"\"\"\n",
        "Default: Input = French, Output = English\n",
        "This function reads the French and English sentences in two different vars and \n",
        "then feed them into Class Lang to obtain corresponding information\n",
        "\"\"\"\n",
        "\n",
        "def readLanguages(lang1, lang2, reverse=False):\n",
        "    print(\"Reading lines...\")\n",
        "\n",
        "    # Read the file and split into lines\n",
        "    lines = open('./drive/MyDrive/ML Project Course/HW4/DATA/%s-%s.txt' % (lang1, lang2), encoding='utf-8').\\\n",
        "        read().strip().split('\\n')\n",
        "\n",
        "    # Split every line into pairs and normalize\n",
        "    pairs = [[processString(s) for s in l.split('\\t')] for l in lines]\n",
        "\n",
        "    # Reverse pairs, make Lang instances\n",
        "    if reverse:\n",
        "        pairs = [list(reversed(p)) for p in pairs]\n",
        "        input_lang = Lang(lang2)\n",
        "        output_lang = Lang(lang1)\n",
        "    else:\n",
        "        input_lang = Lang(lang1)\n",
        "        output_lang = Lang(lang2)\n",
        "\n",
        "    return input_lang, output_lang, pairs"
      ],
      "execution_count": null,
      "outputs": []
    },
    {
      "cell_type": "markdown",
      "metadata": {
        "id": "m3D7OeuffwKN"
      },
      "source": [
        "## Language Max Length and Prefixes\n",
        "We are only opting for lines with max_length 10 words. And the lines have to start with these pre-defined prefixes. This is just to simply the problem. "
      ]
    },
    {
      "cell_type": "code",
      "metadata": {
        "id": "vMUc3LjCs2Uc"
      },
      "source": [
        "MAX_LENGTH = 10\n",
        "\n",
        "eng_prefixes = (\n",
        "    \"i am \", \"i m \",\n",
        "    \"he is\", \"he s \",\n",
        "    \"she is\", \"she s \",\n",
        "    \"you are\", \"you re \",\n",
        "    \"we are\", \"we re \",\n",
        "    \"they are\", \"they re \"\n",
        ")\n",
        "\n",
        "#filter out and discard those pairs where at least one is greater than max_length\n",
        "def filterPair(p):\n",
        "    return len(p[0].split(' ')) < MAX_LENGTH and \\\n",
        "        len(p[1].split(' ')) < MAX_LENGTH and \\\n",
        "        p[1].startswith(eng_prefixes)\n",
        "\n",
        "def filterPairs(pairs):\n",
        "    return [pair for pair in pairs if filterPair(pair)]"
      ],
      "execution_count": null,
      "outputs": []
    },
    {
      "cell_type": "code",
      "metadata": {
        "id": "FkkxDsRstENN"
      },
      "source": [
        "\"\"\"\n",
        "Full Processing function\n",
        "\"\"\"\n",
        "\n",
        "def finalizeData(lang1, lang2, reverse=False):\n",
        "    input_lang, output_lang, pairs = readLanguages(lang1, lang2, reverse)\n",
        "    print(\"Read %s sentence pairs\" % len(pairs))\n",
        "    pairs = filterPairs(pairs)\n",
        "    print(\"Trimmed to %s sentence pairs\" % len(pairs))\n",
        "    print(\"Counting words...\")\n",
        "    for pair in pairs:\n",
        "        input_lang.addNewSentence(pair[0])\n",
        "        output_lang.addNewSentence(pair[1])\n",
        "    print(\"Counted words:\")\n",
        "    print(input_lang.name, input_lang.n_words)\n",
        "    print(output_lang.name, output_lang.n_words)\n",
        "    return input_lang, output_lang, pairs\n"
      ],
      "execution_count": null,
      "outputs": []
    },
    {
      "cell_type": "markdown",
      "metadata": {
        "id": "2KbixF9fXT6T"
      },
      "source": [
        "## Load Data from Language File"
      ]
    },
    {
      "cell_type": "code",
      "metadata": {
        "colab": {
          "base_uri": "https://localhost:8080/"
        },
        "id": "PGz9qWr0XSFv",
        "outputId": "6f58178b-55f5-4b48-f00a-02722445d170"
      },
      "source": [
        "input_lang, output_lang, pairs = finalizeData('eng', 'fra', True)"
      ],
      "execution_count": null,
      "outputs": [
        {
          "output_type": "stream",
          "name": "stdout",
          "text": [
            "Reading lines...\n",
            "Read 135842 sentence pairs\n",
            "Trimmed to 10599 sentence pairs\n",
            "Counting words...\n",
            "Counted words:\n",
            "fra 4345\n",
            "eng 2803\n",
            "['il est en danger grave .', 'he s in grave danger .']\n"
          ]
        }
      ]
    },
    {
      "cell_type": "markdown",
      "metadata": {
        "id": "m-CZ8RBpgMED"
      },
      "source": [
        "### Sample"
      ]
    },
    {
      "cell_type": "code",
      "metadata": {
        "colab": {
          "base_uri": "https://localhost:8080/"
        },
        "id": "xOGtiPJFgN9g",
        "outputId": "5d3723a0-fd43-4658-c9d5-08c058f5ba7f"
      },
      "source": [
        "print(random.choice(pairs))"
      ],
      "execution_count": null,
      "outputs": [
        {
          "output_type": "stream",
          "name": "stdout",
          "text": [
            "['ils sont tous la .', 'they re all here .']\n"
          ]
        }
      ]
    },
    {
      "cell_type": "markdown",
      "metadata": {
        "id": "ZsRbyEWNXbmJ"
      },
      "source": [
        "## Split into Train, Validation and Test\n",
        "\n",
        "For this, we take 80% of the total data pairs into training and leave the 20% for test. We then further take 90% of the training data into final training set and take the rest 10% into evaluation set."
      ]
    },
    {
      "cell_type": "code",
      "metadata": {
        "id": "Ao4M9EeKJHDl"
      },
      "source": [
        "def slice_list(total):\n",
        "\n",
        "  random.shuffle(total)\n",
        "\n",
        "  train_shape = int(len(total)*0.80)\n",
        "  test_shape = len(total) - train_shape \n",
        "  \n",
        "  train_shape, validation_shape = int(train_shape*0.90), int(train_shape - train_shape*0.90)\n",
        "\n",
        "  train, validation, test = total[:train_shape], total[train_shape:train_shape+validation_shape], total[train_shape+validation_shape:]\n",
        "\n",
        "  return train, validation, test\n",
        "\n",
        "train_pairs, validation_pairs, test_pairs = slice_list(pairs)"
      ],
      "execution_count": null,
      "outputs": []
    },
    {
      "cell_type": "markdown",
      "metadata": {
        "id": "xErwGk4LXjeZ"
      },
      "source": [
        "## Indexing Functions and Helpers"
      ]
    },
    {
      "cell_type": "code",
      "metadata": {
        "id": "QlBniVZxv862"
      },
      "source": [
        "\"\"\"\n",
        "Given a sentence and corresponding language, this function returns a list of\n",
        "indexes in vocab for those word in the sentence.\n",
        "\"\"\"\n",
        "def indexesFromSentence(lang, sentence):\n",
        "    return [lang.word2index[word] for word in sentence.split(' ')]\n",
        "\n",
        "\"\"\"\n",
        "Returns a tensor of indexes of a sentences along with <EOS> tag added at the \n",
        "end of the sentence.\n",
        "\"\"\"\n",
        "def tensorFromSentence(lang, sentence):\n",
        "    indexes = indexesFromSentence(lang, sentence)\n",
        "    indexes.append(EOS_token)\n",
        "    return torch.tensor(indexes, dtype=torch.long, device=device).view(-1, 1)\n",
        "\n",
        "\"\"\"\n",
        "Converts two sentences into their corresponding tensors and return those two\n",
        "tensors.\n",
        "\"\"\"\n",
        "def tensorsFromPair(pair):\n",
        "    input_tensor = tensorFromSentence(input_lang, pair[0])\n",
        "    target_tensor = tensorFromSentence(output_lang, pair[1])\n",
        "    return (input_tensor, target_tensor)"
      ],
      "execution_count": null,
      "outputs": []
    },
    {
      "cell_type": "code",
      "metadata": {
        "id": "tP-_A0duEY1N"
      },
      "source": [
        "\"\"\"\n",
        "Helper functions:\n",
        "convertToMinutes: converts seconds -> minutes + seconds (remaining)\n",
        "timeFrom: Calculates remaining time\n",
        "\"\"\"\n",
        "import time\n",
        "import math\n",
        "\n",
        "def convertToMinutes(s):\n",
        "    m = math.floor(s / 60)\n",
        "    s -= m * 60\n",
        "    return '%dm %ds' % (m, s)\n",
        "\n",
        "\n",
        "def timeFrom(since, percent):\n",
        "    now = time.time()\n",
        "    s = now - since\n",
        "    es = s / (percent)\n",
        "    rs = es - s\n",
        "    return '%s (- %s)' % (convertToMinutes(s), convertToMinutes(rs))"
      ],
      "execution_count": null,
      "outputs": []
    },
    {
      "cell_type": "markdown",
      "metadata": {
        "id": "yS6g3qJRXoMy"
      },
      "source": [
        "## Encoder and Decoder Class"
      ]
    },
    {
      "cell_type": "code",
      "metadata": {
        "colab": {
          "base_uri": "https://localhost:8080/",
          "height": 431
        },
        "id": "mZDfdQDMhuCD",
        "outputId": "e45f1965-93e5-449b-e5da-ec21cb4608e9"
      },
      "source": [
        "from IPython.display import Image\n",
        "Image(filename='./drive/MyDrive/ML Project Course/HW4/seq.jpeg') "
      ],
      "execution_count": null,
      "outputs": [
        {
          "output_type": "execute_result",
          "data": {
            "image/jpeg": "[encoded data removed]",
            "text/plain": [
              "<IPython.core.display.Image object>"
            ]
          },
          "metadata": {},
          "execution_count": 40
        }
      ]
    },
    {
      "cell_type": "code",
      "metadata": {
        "id": "zeYE9xTVvp79"
      },
      "source": [
        "class EncoderRNNClass(nn.Module):\n",
        "    def __init__(self, input_size, hidden_size, rnn_architecture):\n",
        "        super(EncoderRNNClass, self).__init__()\n",
        "        self.hidden_size = hidden_size\n",
        "\n",
        "        self.embedding_layer = nn.Embedding(input_size, hidden_size)\n",
        "        self.rnn_layer = rnn_architecture(hidden_size, hidden_size)\n",
        "\n",
        "    def forward(self, input, hidden):\n",
        "        embedded = self.embedding_layer(input).view(1, 1, -1)\n",
        "        output = embedded\n",
        "        output, hidden = self.rnn_layer(output, hidden)\n",
        "        return output, hidden\n",
        "\n",
        "    def initHidden(self):\n",
        "        return torch.zeros(1, 1, self.hidden_size, device=device)"
      ],
      "execution_count": null,
      "outputs": []
    },
    {
      "cell_type": "code",
      "metadata": {
        "id": "v-mx0Wcfvqwx"
      },
      "source": [
        "class DecoderRNNClass(nn.Module):\n",
        "    def __init__(self, hidden_size, output_size, rnn_architecture):\n",
        "        super(DecoderRNNClass, self).__init__()\n",
        "        self.hidden_size = hidden_size\n",
        "\n",
        "        self.embedding_layer = nn.Embedding(output_size, hidden_size)\n",
        "        self.rnn_layer = rnn_architecture(hidden_size, hidden_size)\n",
        "        self.out = nn.Linear(hidden_size, output_size)\n",
        "        self.softmax = nn.LogSoftmax(dim=1)\n",
        "\n",
        "    def forward(self, input, hidden):\n",
        "        output = self.embedding_layer(input).view(1, 1, -1)\n",
        "        output = F.relu(output)\n",
        "        output, hidden = self.rnn_layer(output, hidden)\n",
        "        output = self.softmax(self.out(output[0]))\n",
        "        return output, hidden\n",
        "\n",
        "    def initHidden(self):\n",
        "        return torch.zeros(1, 1, self.hidden_size, device=device)"
      ],
      "execution_count": null,
      "outputs": []
    },
    {
      "cell_type": "markdown",
      "metadata": {
        "id": "77hTR2T7XtzZ"
      },
      "source": [
        "## Train and Train Iterations"
      ]
    },
    {
      "cell_type": "code",
      "metadata": {
        "id": "S6OQXb9ey6EE"
      },
      "source": [
        "# one Train Loop\n",
        "def train(input_tensor, target_tensor, encoder, decoder, encoder_optimizer, decoder_optimizer, criterion, max_length=MAX_LENGTH):\n",
        "    \n",
        "    #init hidden with zeros\n",
        "    encoder_hidden = encoder.initHidden()\n",
        "\n",
        "    #clear gradients\n",
        "    encoder_optimizer.zero_grad()\n",
        "    decoder_optimizer.zero_grad()\n",
        "\n",
        "    #lenghts of input and target\n",
        "    input_length = input_tensor.size(0)\n",
        "    target_length = target_tensor.size(0)\n",
        "\n",
        "    #encoded output holder\n",
        "    encoder_outputs = torch.zeros(max_length, encoder.hidden_size, device=device)\n",
        "\n",
        "    #init loss\n",
        "    loss = 0\n",
        "\n",
        "    #save encoded outputs for each input tensor/words\n",
        "    for ei in range(input_length):\n",
        "        encoder_output, encoder_hidden = encoder(\n",
        "            input_tensor[ei], encoder_hidden)\n",
        "        encoder_outputs[ei] = encoder_output[0, 0]\n",
        "\n",
        "    #decode input init\n",
        "    decoder_input = torch.tensor([[SOS_token]], device=device)\n",
        "\n",
        "    #decoder hidden 1st = last hidden state of encoder\n",
        "    decoder_hidden = encoder_hidden\n",
        "\n",
        "    #Teacher forcing technique (Read in Pytorch tutorials): \n",
        "    #Feed the target as the next input\n",
        "    for di in range(target_length):\n",
        "        decoder_output, decoder_hidden = decoder(\n",
        "            decoder_input, decoder_hidden)\n",
        "        loss += criterion(decoder_output, target_tensor[di])\n",
        "        decoder_input = target_tensor[di]  # Teacher forcing\n",
        "\n",
        "    #calculate gradients\n",
        "    loss.backward()\n",
        "\n",
        "    #update encoder and decoder params\n",
        "    encoder_optimizer.step()\n",
        "    decoder_optimizer.step()\n",
        "\n",
        "    #return loss\n",
        "    return loss.item() / target_length"
      ],
      "execution_count": null,
      "outputs": []
    },
    {
      "cell_type": "code",
      "metadata": {
        "id": "AwSYKXgREVE1"
      },
      "source": [
        "def trainIters(encoder, decoder, n_iters, print_every=1000, plot_every=100, learning_rate=0.01):\n",
        "    start = time.time()\n",
        "    plot_losses = []\n",
        "    print_loss_total = 0  # Reset every print_every\n",
        "    plot_loss_total = 0  # Reset every plot_every\n",
        "\n",
        "    #SGD optimizer\n",
        "    encoder_optimizer = optim.SGD(encoder.parameters(), lr=learning_rate)\n",
        "    decoder_optimizer = optim.SGD(decoder.parameters(), lr=learning_rate)\n",
        "\n",
        "    #data - training pairs - convert each sentence pair to corresponding tensors\n",
        "    training_pairs = [tensorsFromPair(random.choice(train_pairs))\n",
        "                      for i in range(n_iters)]\n",
        "    \n",
        "    #negative log likelihood loss\n",
        "    criterion = nn.NLLLoss()  #https://pytorch.org/docs/stable/generated/torch.nn.NLLLoss.html\n",
        "\n",
        "    #each epoch\n",
        "    for iter in tqdm(range(1, n_iters + 1)):\n",
        "\n",
        "        training_pair = training_pairs[iter - 1]\n",
        "        input_tensor = training_pair[0]\n",
        "        target_tensor = training_pair[1]\n",
        "\n",
        "        loss = train(input_tensor, target_tensor, encoder,\n",
        "                     decoder, encoder_optimizer, decoder_optimizer, criterion)\n",
        "        print_loss_total += loss\n",
        "        plot_loss_total += loss\n",
        "\n",
        "        #save loss history for printing\n",
        "        if iter % print_every == 0:\n",
        "            print_loss_avg = print_loss_total / print_every\n",
        "            print_loss_total = 0\n",
        "            print('Loss: %.4f' % print_loss_avg)\n",
        "\n",
        "        #save loss history for\n",
        "        if iter % plot_every == 0:\n",
        "            plot_loss_avg = plot_loss_total / plot_every\n",
        "            plot_losses.append(plot_loss_avg)\n",
        "            plot_loss_total = 0\n",
        "\n",
        "    return plot_losses "
      ],
      "execution_count": null,
      "outputs": []
    },
    {
      "cell_type": "code",
      "metadata": {
        "id": "U9mzv1vjFFvO"
      },
      "source": [
        "#plots epoch VS loss curve\n",
        "def showPlot(points, title):\n",
        "    plt.figure()\n",
        "    fig, ax = plt.subplots()\n",
        "    # this locator puts ticks at regular intervals\n",
        "    loc = ticker.MultipleLocator(base=0.2)\n",
        "    ax.yaxis.set_major_locator(loc)\n",
        "    ax.set_xlabel(\"Epochs\")\n",
        "    ax.set_ylabel(\"NLL Loss\")\n",
        "    ax.set_title(title)\n",
        "    plt.plot(points, color='red')\n",
        "    plt.show()"
      ],
      "execution_count": null,
      "outputs": []
    },
    {
      "cell_type": "markdown",
      "metadata": {
        "id": "SJ1AD5q5X--Z"
      },
      "source": [
        "## Evaluation Functions"
      ]
    },
    {
      "cell_type": "code",
      "metadata": {
        "id": "rEkSXG7VRhLB"
      },
      "source": [
        "\"\"\"\n",
        "Generate predicted output translations\n",
        "\"\"\"\n",
        "def evaluate(encoder, decoder, sentence, max_length=MAX_LENGTH):\n",
        "    with torch.no_grad():\n",
        "        input_tensor = tensorFromSentence(input_lang, sentence)\n",
        "        input_length = input_tensor.size()[0]\n",
        "        encoder_hidden = encoder.initHidden()\n",
        "\n",
        "        encoder_outputs = torch.zeros(max_length, encoder.hidden_size, device=device)\n",
        "\n",
        "        for ei in range(input_length):\n",
        "            encoder_output, encoder_hidden = encoder(input_tensor[ei],\n",
        "                                                     encoder_hidden)\n",
        "            encoder_outputs[ei] += encoder_output[0, 0]\n",
        "\n",
        "        decoder_input = torch.tensor([[SOS_token]], device=device)  # SOS\n",
        "\n",
        "        decoder_hidden = encoder_hidden\n",
        "\n",
        "        decoded_words = []\n",
        "\n",
        "        for di in range(max_length):\n",
        "            decoder_output, decoder_hidden = decoder(\n",
        "                decoder_input, decoder_hidden)\n",
        "\n",
        "            topv, topi = decoder_output.data.topk(1)\n",
        "            if topi.item() == EOS_token:\n",
        "                decoded_words.append('<EOS>')\n",
        "                break\n",
        "            else:\n",
        "                decoded_words.append(output_lang.index2word[topi.item()])\n",
        "\n",
        "            decoder_input = topi.squeeze().detach()\n",
        "\n",
        "        return decoded_words"
      ],
      "execution_count": null,
      "outputs": []
    },
    {
      "cell_type": "code",
      "metadata": {
        "id": "qou9Vju7TPVb"
      },
      "source": [
        "\"\"\"\n",
        "Randomly select one sentence pair and visualize and compare the translated\n",
        "output and target output. Gives a literary notion about how really good the \n",
        "translation is doing.\n",
        "\"\"\"\n",
        "def randomVisualPresentation(encoder, decoder, eval_pairs, n=10):\n",
        "    for i in range(n):\n",
        "        pair = random.choice(eval_pairs)\n",
        "        print('Source:', pair[0])\n",
        "        print('Target:', pair[1])\n",
        "        output_words = evaluate(encoder, decoder, pair[0])\n",
        "        output_sentence = ' '.join(output_words)\n",
        "        print('Predicted:', output_sentence)\n",
        "        print('')"
      ],
      "execution_count": null,
      "outputs": []
    },
    {
      "cell_type": "code",
      "metadata": {
        "id": "tYSUgNA05YYb"
      },
      "source": [
        "\"\"\"\n",
        "Evaluate BLEU score for translation - selected random samples\n",
        "BLEU Score Range by Google: https://cloud.google.com/translate/automl/docs/evaluate\n",
        "<.10    = almost useless\n",
        ".10-.19 = Hard to get the gist\n",
        ".20-.29 = The gist is clear, but has significant grammatical errors\n",
        ".30-.39 = Understandable to good translations\n",
        ".40-.50 = High Quality Translations\n",
        ".50-.60 = Very high quality, adequate, and fluent translations\n",
        ">0.60   = Quality often better than human \n",
        "\"\"\"\n",
        "def evaluateBLEU(encoder, decoder, eval_pairs, n=10, max_n=4, print_on=True):\n",
        "    reference_corpus = []\n",
        "    candidate_corpus = []\n",
        "    for i in range(n):\n",
        "        pair = random.choice(eval_pairs)\n",
        "        reference_corpus.append(pair[1].split(' '))\n",
        "        output_words = evaluate(encoder, decoder, pair[0])\n",
        "        output_sentence = ' '.join(output_words).replace('<EOS>','')\n",
        "        candidate_corpus.append(output_sentence.split(' '))\n",
        "        #prints\n",
        "        if print_on:\n",
        "          print('Source:', pair[0].split(' '))\n",
        "          print('Target:', pair[1].split(' '))\n",
        "          print('Predicted:', output_sentence.split(' '))\n",
        "          print('')\n",
        "    bleu_score_calc = bleu_score(candidate_corpus, reference_corpus, max_n=max_n, weights=np.repeat(1/max_n, max_n).tolist())\n",
        "    print(f\"Bleu Score for Corpus Size {len(reference_corpus)} is {bleu_score_calc:0.5f}\")"
      ],
      "execution_count": null,
      "outputs": []
    },
    {
      "cell_type": "code",
      "metadata": {
        "id": "5dnf-CjMSSjK"
      },
      "source": [
        "\"\"\"\n",
        "Translation Error Rate (TER) is a character-based automatic metric for measuring \n",
        "the number of edit operations needed to transform the machine-translated output \n",
        "into a human translated reference. It has been proposed as an alternative to the \n",
        "BLEU score for evaluating the quality of MT, but it is more commonly applied as \n",
        "a way of calculating edit-distance, used to assess the post-editing effort.\n",
        "\"\"\"\n",
        "def evaluateTER(encoder, decoder, eval_pairs, n=10, print_on=True):\n",
        "\n",
        "    sum_of_TER = 0\n",
        "\n",
        "    for i in range(n):\n",
        "        pair = random.choice(eval_pairs)\n",
        "        reference = pair[1].split(' ')\n",
        "\n",
        "        output_words = evaluate(encoder, decoder, pair[0])\n",
        "        output_sentence = ' '.join(output_words).replace('<EOS>','')\n",
        "        candidate = output_sentence.split(' ')\n",
        "        \n",
        "        #prints\n",
        "        if print_on:\n",
        "          print('Source:', pair[0].split(' '))\n",
        "          print('Target:', reference)\n",
        "          print('Predicted:', candidate)\n",
        "          print('')\n",
        "\n",
        "        sum_of_TER += pyter.ter(candidate, reference)\n",
        "    \n",
        "    print(f\"Mean TER Score is {sum_of_TER/n:0.5f}\")"
      ],
      "execution_count": null,
      "outputs": []
    },
    {
      "cell_type": "markdown",
      "metadata": {
        "id": "Sm_TBkg1Zu8N"
      },
      "source": [
        "## Task 1a: Performance Visualization of RNN"
      ]
    },
    {
      "cell_type": "code",
      "metadata": {
        "colab": {
          "base_uri": "https://localhost:8080/"
        },
        "id": "z4_jXpHgZy5Y",
        "outputId": "81063e90-9f7b-4c8d-c6fc-0535bce804d3"
      },
      "source": [
        "hidden_size = 256\n",
        "encoder1 = EncoderRNNClass(input_lang.n_words, hidden_size,nn.RNN).to(device)\n",
        "decoder1 = DecoderRNNClass(hidden_size, output_lang.n_words,nn.RNN).to(device)\n",
        "\n",
        "losses = runTraining(encoder1, decoder1, 20000, print_every=1000)"
      ],
      "execution_count": null,
      "outputs": [
        {
          "output_type": "stream",
          "name": "stderr",
          "text": [
            "  5%|▌         | 1001/20000 [01:03<21:09, 14.97it/s]"
          ]
        },
        {
          "output_type": "stream",
          "name": "stdout",
          "text": [
            "Loss: 3.4757\n"
          ]
        },
        {
          "output_type": "stream",
          "name": "stderr",
          "text": [
            " 10%|█         | 2003/20000 [02:13<21:37, 13.87it/s]"
          ]
        },
        {
          "output_type": "stream",
          "name": "stdout",
          "text": [
            "Loss: 3.1798\n"
          ]
        },
        {
          "output_type": "stream",
          "name": "stderr",
          "text": [
            " 15%|█▌        | 3001/20000 [03:15<18:26, 15.37it/s]"
          ]
        },
        {
          "output_type": "stream",
          "name": "stdout",
          "text": [
            "Loss: 2.9796\n"
          ]
        },
        {
          "output_type": "stream",
          "name": "stderr",
          "text": [
            " 20%|██        | 4002/20000 [04:18<14:42, 18.13it/s]"
          ]
        },
        {
          "output_type": "stream",
          "name": "stdout",
          "text": [
            "Loss: 2.8874\n"
          ]
        },
        {
          "output_type": "stream",
          "name": "stderr",
          "text": [
            " 25%|██▌       | 5002/20000 [05:16<15:05, 16.56it/s]"
          ]
        },
        {
          "output_type": "stream",
          "name": "stdout",
          "text": [
            "Loss: 2.8177\n"
          ]
        },
        {
          "output_type": "stream",
          "name": "stderr",
          "text": [
            " 30%|███       | 6003/20000 [06:14<12:35, 18.53it/s]"
          ]
        },
        {
          "output_type": "stream",
          "name": "stdout",
          "text": [
            "Loss: 2.7522\n"
          ]
        },
        {
          "output_type": "stream",
          "name": "stderr",
          "text": [
            " 35%|███▌      | 7003/20000 [07:11<12:23, 17.47it/s]"
          ]
        },
        {
          "output_type": "stream",
          "name": "stdout",
          "text": [
            "Loss: 2.7211\n"
          ]
        },
        {
          "output_type": "stream",
          "name": "stderr",
          "text": [
            " 40%|████      | 8004/20000 [08:07<09:58, 20.04it/s]"
          ]
        },
        {
          "output_type": "stream",
          "name": "stdout",
          "text": [
            "Loss: 2.7153\n"
          ]
        },
        {
          "output_type": "stream",
          "name": "stderr",
          "text": [
            " 45%|████▌     | 9003/20000 [09:00<09:11, 19.94it/s]"
          ]
        },
        {
          "output_type": "stream",
          "name": "stdout",
          "text": [
            "Loss: 2.8399\n"
          ]
        },
        {
          "output_type": "stream",
          "name": "stderr",
          "text": [
            " 50%|█████     | 10002/20000 [09:48<08:32, 19.51it/s]"
          ]
        },
        {
          "output_type": "stream",
          "name": "stdout",
          "text": [
            "Loss: 2.7676\n"
          ]
        },
        {
          "output_type": "stream",
          "name": "stderr",
          "text": [
            " 55%|█████▌    | 11003/20000 [10:38<07:13, 20.77it/s]"
          ]
        },
        {
          "output_type": "stream",
          "name": "stdout",
          "text": [
            "Loss: 2.6978\n"
          ]
        },
        {
          "output_type": "stream",
          "name": "stderr",
          "text": [
            " 60%|██████    | 12003/20000 [11:26<06:19, 21.09it/s]"
          ]
        },
        {
          "output_type": "stream",
          "name": "stdout",
          "text": [
            "Loss: 2.6679\n"
          ]
        },
        {
          "output_type": "stream",
          "name": "stderr",
          "text": [
            " 65%|██████▌   | 13004/20000 [12:13<05:06, 22.86it/s]"
          ]
        },
        {
          "output_type": "stream",
          "name": "stdout",
          "text": [
            "Loss: 2.6653\n"
          ]
        },
        {
          "output_type": "stream",
          "name": "stderr",
          "text": [
            " 70%|███████   | 14003/20000 [13:02<04:45, 20.97it/s]"
          ]
        },
        {
          "output_type": "stream",
          "name": "stdout",
          "text": [
            "Loss: 2.6060\n"
          ]
        },
        {
          "output_type": "stream",
          "name": "stderr",
          "text": [
            " 75%|███████▌  | 15003/20000 [13:51<04:10, 19.95it/s]"
          ]
        },
        {
          "output_type": "stream",
          "name": "stdout",
          "text": [
            "Loss: 2.7523\n"
          ]
        },
        {
          "output_type": "stream",
          "name": "stderr",
          "text": [
            " 80%|████████  | 16002/20000 [14:41<04:23, 15.20it/s]"
          ]
        },
        {
          "output_type": "stream",
          "name": "stdout",
          "text": [
            "Loss: 2.6511\n"
          ]
        },
        {
          "output_type": "stream",
          "name": "stderr",
          "text": [
            " 85%|████████▌ | 17005/20000 [15:33<02:12, 22.68it/s]"
          ]
        },
        {
          "output_type": "stream",
          "name": "stdout",
          "text": [
            "Loss: 2.6348\n"
          ]
        },
        {
          "output_type": "stream",
          "name": "stderr",
          "text": [
            " 90%|█████████ | 18003/20000 [16:22<01:36, 20.61it/s]"
          ]
        },
        {
          "output_type": "stream",
          "name": "stdout",
          "text": [
            "Loss: 2.5399\n"
          ]
        },
        {
          "output_type": "stream",
          "name": "stderr",
          "text": [
            " 95%|█████████▌| 19004/20000 [17:11<00:42, 23.28it/s]"
          ]
        },
        {
          "output_type": "stream",
          "name": "stdout",
          "text": [
            "Loss: 2.5856\n"
          ]
        },
        {
          "output_type": "stream",
          "name": "stderr",
          "text": [
            "100%|██████████| 20000/20000 [17:59<00:00, 18.53it/s]"
          ]
        },
        {
          "output_type": "stream",
          "name": "stdout",
          "text": [
            "Loss: 2.5612\n"
          ]
        },
        {
          "output_type": "stream",
          "name": "stderr",
          "text": [
            "\n"
          ]
        }
      ]
    },
    {
      "cell_type": "code",
      "metadata": {
        "colab": {
          "base_uri": "https://localhost:8080/",
          "height": 313
        },
        "id": "Z4kHSOCRZ8CX",
        "outputId": "9b3a8ee1-761c-43c3-d5ad-26af2a083dab"
      },
      "source": [
        "showPlot(losses, \"Epoch VS Loss for RNN\")"
      ],
      "execution_count": null,
      "outputs": [
        {
          "output_type": "display_data",
          "data": {
            "text/plain": [
              "<Figure size 432x288 with 0 Axes>"
            ]
          },
          "metadata": {}
        },
        {
          "output_type": "display_data",
          "data": {
            "image/png": "[encoded data removed]",
            "text/plain": [
              "<Figure size 432x288 with 1 Axes>"
            ]
          },
          "metadata": {
            "needs_background": "light"
          }
        }
      ]
    },
    {
      "cell_type": "code",
      "metadata": {
        "colab": {
          "base_uri": "https://localhost:8080/"
        },
        "id": "x7nD8TpaaAgF",
        "outputId": "a47e28d8-0804-4d84-a85b-51885e68aa27"
      },
      "source": [
        "randomVisualPresentation(encoder1, decoder1, test_pairs)"
      ],
      "execution_count": null,
      "outputs": [
        {
          "output_type": "stream",
          "name": "stdout",
          "text": [
            "Source: je suis en retard sur le programme .\n",
            "Target: i m behind schedule .\n",
            "Predicted: i m not you to leave your father . <EOS>\n",
            "\n",
            "Source: il n a jamais ete amoureux auparavant .\n",
            "Target: he s never been in love before .\n",
            "Predicted: he is eager to go there . <EOS>\n",
            "\n",
            "Source: je suis le capitaine .\n",
            "Target: i m the captain .\n",
            "Predicted: i m going to . that . <EOS>\n",
            "\n",
            "Source: je ne suis pas ton fils .\n",
            "Target: i m not your son .\n",
            "Predicted: i m not you to leave your father . <EOS>\n",
            "\n",
            "Source: tu es toujours vivante .\n",
            "Target: you re still alive .\n",
            "Predicted: you re very . <EOS>\n",
            "\n",
            "Source: il se plaint toujours de la nourriture .\n",
            "Target: he s always complaining about the food .\n",
            "Predicted: he is eager to go there . <EOS>\n",
            "\n",
            "Source: je ne vais pas porter ca .\n",
            "Target: i m not wearing this .\n",
            "Predicted: i m not you to leave your father . <EOS>\n",
            "\n",
            "Source: j ai le meme age .\n",
            "Target: i am the same age .\n",
            "Predicted: i m going to . that . <EOS>\n",
            "\n",
            "Source: tu vas bien .\n",
            "Target: you re all right .\n",
            "Predicted: you re a good person . <EOS>\n",
            "\n",
            "Source: je suis musulman .\n",
            "Target: i am a muslim .\n",
            "Predicted: i m from you . <EOS>\n",
            "\n"
          ]
        }
      ]
    },
    {
      "cell_type": "markdown",
      "metadata": {
        "id": "3a-RRdazq5rS"
      },
      "source": [
        "## Evaluate on Validation Set"
      ]
    },
    {
      "cell_type": "code",
      "metadata": {
        "colab": {
          "base_uri": "https://localhost:8080/"
        },
        "id": "bAUhrxfQq5Zb",
        "outputId": "c6791ed0-624c-4258-bef6-41fd81e16c6e"
      },
      "source": [
        "evaluateBLEU(encoder1, decoder1, validation_pairs, n=100, max_n=1, print_on=False)\n",
        "evaluateTER(encoder1, decoder1, validation_pairs, n=100, print_on=False)"
      ],
      "execution_count": null,
      "outputs": [
        {
          "output_type": "stream",
          "name": "stdout",
          "text": [
            "Bleu Score for Corpus Size 100 is 0.23537\n",
            "Mean TER Score is 0.88053\n"
          ]
        }
      ]
    },
    {
      "cell_type": "markdown",
      "metadata": {
        "id": "jBSk5Ux_q2aj"
      },
      "source": [
        "## Evaluate on Test Set"
      ]
    },
    {
      "cell_type": "code",
      "metadata": {
        "colab": {
          "base_uri": "https://localhost:8080/"
        },
        "id": "BBawC8ZmaC5-",
        "outputId": "436f6585-1d7c-42a2-baff-700c1fdc0a85"
      },
      "source": [
        "evaluateBLEU(encoder1, decoder1, test_pairs, n=100, max_n=1, print_on=False)\n",
        "evaluateTER(encoder1, decoder1, test_pairs, n=100, print_on=False)"
      ],
      "execution_count": null,
      "outputs": [
        {
          "output_type": "stream",
          "name": "stdout",
          "text": [
            "Bleu Score for Corpus Size 100 is 0.22327\n",
            "Mean TER Score is 0.83560\n"
          ]
        }
      ]
    },
    {
      "cell_type": "markdown",
      "metadata": {
        "id": "CFHRcOWRYFGb"
      },
      "source": [
        "## Task 1b: Performance Visualization of GRU\n"
      ]
    },
    {
      "cell_type": "code",
      "metadata": {
        "colab": {
          "base_uri": "https://localhost:8080/"
        },
        "id": "3jNkWaRKFP3p",
        "outputId": "735bb00e-5d70-43aa-8e0c-29a161891306"
      },
      "source": [
        "hidden_size = 256\n",
        "encoder2 = EncoderRNNClass(input_lang.n_words, hidden_size,nn.GRU).to(device)\n",
        "decoder2 = DecoderRNNClass(hidden_size, output_lang.n_words,nn.GRU).to(device)\n",
        "\n",
        "losses2 = runTraining(encoder2, decoder2, 20000, print_every=1000)"
      ],
      "execution_count": null,
      "outputs": [
        {
          "output_type": "stream",
          "name": "stderr",
          "text": [
            "  5%|▌         | 1003/20000 [01:13<20:12, 15.66it/s]"
          ]
        },
        {
          "output_type": "stream",
          "name": "stdout",
          "text": [
            "Loss: 3.4507\n"
          ]
        },
        {
          "output_type": "stream",
          "name": "stderr",
          "text": [
            " 10%|█         | 2001/20000 [02:26<19:29, 15.40it/s]"
          ]
        },
        {
          "output_type": "stream",
          "name": "stdout",
          "text": [
            "Loss: 3.0082\n"
          ]
        },
        {
          "output_type": "stream",
          "name": "stderr",
          "text": [
            " 15%|█▌        | 3001/20000 [03:41<23:43, 11.95it/s]"
          ]
        },
        {
          "output_type": "stream",
          "name": "stdout",
          "text": [
            "Loss: 2.8602\n"
          ]
        },
        {
          "output_type": "stream",
          "name": "stderr",
          "text": [
            " 20%|██        | 4001/20000 [04:57<22:20, 11.93it/s]"
          ]
        },
        {
          "output_type": "stream",
          "name": "stdout",
          "text": [
            "Loss: 2.7210\n"
          ]
        },
        {
          "output_type": "stream",
          "name": "stderr",
          "text": [
            " 25%|██▌       | 5001/20000 [06:12<17:15, 14.49it/s]"
          ]
        },
        {
          "output_type": "stream",
          "name": "stdout",
          "text": [
            "Loss: 2.5428\n"
          ]
        },
        {
          "output_type": "stream",
          "name": "stderr",
          "text": [
            " 30%|███       | 6001/20000 [07:27<17:41, 13.19it/s]"
          ]
        },
        {
          "output_type": "stream",
          "name": "stdout",
          "text": [
            "Loss: 2.4579\n"
          ]
        },
        {
          "output_type": "stream",
          "name": "stderr",
          "text": [
            " 35%|███▌      | 7001/20000 [08:40<16:38, 13.02it/s]"
          ]
        },
        {
          "output_type": "stream",
          "name": "stdout",
          "text": [
            "Loss: 2.3953\n"
          ]
        },
        {
          "output_type": "stream",
          "name": "stderr",
          "text": [
            " 40%|████      | 8003/20000 [09:53<12:17, 16.26it/s]"
          ]
        },
        {
          "output_type": "stream",
          "name": "stdout",
          "text": [
            "Loss: 2.3209\n"
          ]
        },
        {
          "output_type": "stream",
          "name": "stderr",
          "text": [
            " 45%|████▌     | 9001/20000 [11:06<14:10, 12.93it/s]"
          ]
        },
        {
          "output_type": "stream",
          "name": "stdout",
          "text": [
            "Loss: 2.2600\n"
          ]
        },
        {
          "output_type": "stream",
          "name": "stderr",
          "text": [
            " 50%|█████     | 10001/20000 [12:24<13:41, 12.17it/s]"
          ]
        },
        {
          "output_type": "stream",
          "name": "stdout",
          "text": [
            "Loss: 2.1441\n"
          ]
        },
        {
          "output_type": "stream",
          "name": "stderr",
          "text": [
            " 55%|█████▌    | 11001/20000 [13:43<11:05, 13.52it/s]"
          ]
        },
        {
          "output_type": "stream",
          "name": "stdout",
          "text": [
            "Loss: 2.0839\n"
          ]
        },
        {
          "output_type": "stream",
          "name": "stderr",
          "text": [
            " 60%|██████    | 12001/20000 [15:06<11:10, 11.92it/s]"
          ]
        },
        {
          "output_type": "stream",
          "name": "stdout",
          "text": [
            "Loss: 2.0750\n"
          ]
        },
        {
          "output_type": "stream",
          "name": "stderr",
          "text": [
            " 65%|██████▌   | 13001/20000 [16:28<10:09, 11.48it/s]"
          ]
        },
        {
          "output_type": "stream",
          "name": "stdout",
          "text": [
            "Loss: 1.9805\n"
          ]
        },
        {
          "output_type": "stream",
          "name": "stderr",
          "text": [
            " 70%|███████   | 14001/20000 [18:01<08:04, 12.37it/s]"
          ]
        },
        {
          "output_type": "stream",
          "name": "stdout",
          "text": [
            "Loss: 1.9175\n"
          ]
        },
        {
          "output_type": "stream",
          "name": "stderr",
          "text": [
            " 75%|███████▌  | 15001/20000 [19:35<08:07, 10.26it/s]"
          ]
        },
        {
          "output_type": "stream",
          "name": "stdout",
          "text": [
            "Loss: 1.8703\n"
          ]
        },
        {
          "output_type": "stream",
          "name": "stderr",
          "text": [
            " 80%|████████  | 16001/20000 [21:07<05:43, 11.64it/s]"
          ]
        },
        {
          "output_type": "stream",
          "name": "stdout",
          "text": [
            "Loss: 1.7886\n"
          ]
        },
        {
          "output_type": "stream",
          "name": "stderr",
          "text": [
            " 85%|████████▌ | 17001/20000 [22:38<04:04, 12.26it/s]"
          ]
        },
        {
          "output_type": "stream",
          "name": "stdout",
          "text": [
            "Loss: 1.7604\n"
          ]
        },
        {
          "output_type": "stream",
          "name": "stderr",
          "text": [
            " 90%|█████████ | 18003/20000 [23:58<02:20, 14.25it/s]"
          ]
        },
        {
          "output_type": "stream",
          "name": "stdout",
          "text": [
            "Loss: 1.6503\n"
          ]
        },
        {
          "output_type": "stream",
          "name": "stderr",
          "text": [
            " 95%|█████████▌| 19001/20000 [25:15<01:15, 13.31it/s]"
          ]
        },
        {
          "output_type": "stream",
          "name": "stdout",
          "text": [
            "Loss: 1.7086\n"
          ]
        },
        {
          "output_type": "stream",
          "name": "stderr",
          "text": [
            "100%|██████████| 20000/20000 [26:35<00:00, 12.53it/s]"
          ]
        },
        {
          "output_type": "stream",
          "name": "stdout",
          "text": [
            "Loss: 1.5973\n"
          ]
        },
        {
          "output_type": "stream",
          "name": "stderr",
          "text": [
            "\n"
          ]
        }
      ]
    },
    {
      "cell_type": "code",
      "metadata": {
        "colab": {
          "base_uri": "https://localhost:8080/",
          "height": 313
        },
        "id": "cNfxvfOpTYCO",
        "outputId": "cb1a7caf-a695-41a2-eb8a-4df85e646332"
      },
      "source": [
        "showPlot(losses2, \"Epoch VS Loss for GRU\")"
      ],
      "execution_count": null,
      "outputs": [
        {
          "output_type": "display_data",
          "data": {
            "text/plain": [
              "<Figure size 432x288 with 0 Axes>"
            ]
          },
          "metadata": {}
        },
        {
          "output_type": "display_data",
          "data": {
            "image/png": "[encoded data removed]",
            "text/plain": [
              "<Figure size 432x288 with 1 Axes>"
            ]
          },
          "metadata": {
            "needs_background": "light"
          }
        }
      ]
    },
    {
      "cell_type": "code",
      "metadata": {
        "colab": {
          "base_uri": "https://localhost:8080/"
        },
        "id": "eBzNQJq7SHq3",
        "outputId": "4fbf2288-fc42-4cf2-c2a9-522576f550d8"
      },
      "source": [
        "randomVisualPresentation(encoder2, decoder2, test_pairs)"
      ],
      "execution_count": null,
      "outputs": [
        {
          "output_type": "stream",
          "name": "stdout",
          "text": [
            "Source: il va avoir un choc .\n",
            "Target: he s in for a shock .\n",
            "Predicted: he s going to a a . . <EOS>\n",
            "\n",
            "Source: elles ne viennent pas .\n",
            "Target: they re not coming .\n",
            "Predicted: they re not dead . <EOS>\n",
            "\n",
            "Source: je suis interesse par l anglais .\n",
            "Target: i am interested in english .\n",
            "Predicted: i am in in of . <EOS>\n",
            "\n",
            "Source: nous allons manquer de faire ceci .\n",
            "Target: we re going to miss doing this .\n",
            "Predicted: we are going to have in that . <EOS>\n",
            "\n",
            "Source: j essaye quelque chose de nouveau .\n",
            "Target: i m trying something new .\n",
            "Predicted: i m from of . . <EOS>\n",
            "\n",
            "Source: c est un homme de parole .\n",
            "Target: he s a man of his word .\n",
            "Predicted: he is a man of of . <EOS>\n",
            "\n",
            "Source: tu as toujours quelque chose a me reprocher .\n",
            "Target: you are always finding fault with me .\n",
            "Predicted: you re going to go . <EOS>\n",
            "\n",
            "Source: je n en suis pas sur .\n",
            "Target: i m not sure about it .\n",
            "Predicted: i m not sure . <EOS>\n",
            "\n",
            "Source: c est un vieil ami a moi .\n",
            "Target: he is an old friend of mine .\n",
            "Predicted: he s an to me a teacher . <EOS>\n",
            "\n",
            "Source: elle n a pas tort .\n",
            "Target: she s got a point .\n",
            "Predicted: she is not dead . <EOS>\n",
            "\n"
          ]
        }
      ]
    },
    {
      "cell_type": "markdown",
      "metadata": {
        "id": "0sIOAlciqi8o"
      },
      "source": [
        "## Evaluate on Validation Set"
      ]
    },
    {
      "cell_type": "code",
      "metadata": {
        "colab": {
          "base_uri": "https://localhost:8080/"
        },
        "id": "9zhK7fSRqjG2",
        "outputId": "fbf997d5-6ba0-4aab-bd39-343032437ae6"
      },
      "source": [
        "evaluateBLEU(encoder2, decoder2, validation_pairs, n=100, max_n=1, print_on=False)\n",
        "evaluateTER(encoder2, decoder2, validation_pairs, n=100, print_on=False)"
      ],
      "execution_count": null,
      "outputs": [
        {
          "output_type": "stream",
          "name": "stdout",
          "text": [
            "Bleu Score for Corpus Size 100 is 0.30303\n",
            "Mean TER Score is 0.60027\n"
          ]
        }
      ]
    },
    {
      "cell_type": "markdown",
      "metadata": {
        "id": "QwH89591qRL4"
      },
      "source": [
        "## Evaluate on Test Set"
      ]
    },
    {
      "cell_type": "code",
      "metadata": {
        "colab": {
          "base_uri": "https://localhost:8080/"
        },
        "id": "mM9OF4HA6g-b",
        "outputId": "37386b38-100a-47fe-f574-f65136a0b3e9"
      },
      "source": [
        "evaluateBLEU(encoder2, decoder2, test_pairs, n=100, max_n=1, print_on=False)\n",
        "evaluateTER(encoder2, decoder2, test_pairs, n=100, print_on=False)"
      ],
      "execution_count": null,
      "outputs": [
        {
          "output_type": "stream",
          "name": "stdout",
          "text": [
            "Bleu Score for Corpus Size 100 is 0.30229\n",
            "Mean TER Score is 0.60369\n"
          ]
        }
      ]
    },
    {
      "cell_type": "markdown",
      "metadata": {
        "id": "h04DtbQcqITZ"
      },
      "source": [
        "## Discussion\n",
        "If we look at the results:\n",
        "1. RNN\n",
        "  * Validation\n",
        "    * Bleu(maximize): 0.23\n",
        "    * TER (minimize): 0.88\n",
        "  * Test\n",
        "    * Bleu(maximize): 0.22\n",
        "    * TER (minimize): 0.83\n",
        "2. GRU\n",
        "  * Validation\n",
        "    * Bleu(maximize): 0.30\n",
        "    * TER (minimize): 0.60\n",
        "  * Test\n",
        "    * Bleu(maximize): 0.30\n",
        "    * TER (minimize): 0.61\n",
        "\n",
        "We can see that there is a significant performance improvement after using GRUs instead of vanilla RNN cells. This performance difference becomes specially prominent when the sentence length becomes longer (experimented with tweaking the MAX_LENGTH parameter of language). GRUs perform better because they have the ability to keep memory/state from previous activations rather than replacing the entire activation like a vanilla RNN. Also, reason behind choosing GRU over LSTM was because GRUs perform better than LSTMs when we have lower number of training samples.\n",
        "\n",
        "Besides quality of translation, if we simply observe the loss reduction, there also GRUs outperform plain RNN.\n",
        "\n",
        "Source: https://medium.com/paper-club/grus-vs-lstms-e9d8e2484848"
      ]
    },
    {
      "cell_type": "markdown",
      "metadata": {
        "id": "wSYY8TuQfL7f"
      },
      "source": [
        "# Task 2: Glove Embedding using Torchtext for pairwise similarity and dissimilarity\n",
        "GloVe is an unsupervised learning algorithm for obtaining vector representations for words. Training is performed on aggregated global word-word co-occurrence statistics from a corpus, and the resulting representations showcase interesting linear substructures of the word vector space.\n",
        "Source: https://nlp.stanford.edu/projects/glove/"
      ]
    },
    {
      "cell_type": "code",
      "metadata": {
        "id": "-Nsi_LmBfLKa"
      },
      "source": [
        "import torch\n",
        "import torchtext"
      ],
      "execution_count": null,
      "outputs": []
    },
    {
      "cell_type": "code",
      "metadata": {
        "colab": {
          "base_uri": "https://localhost:8080/"
        },
        "id": "y4VTVgCcfSv9",
        "outputId": "9af78fa5-3ff3-42e0-926c-9d46bf66a804"
      },
      "source": [
        "glove = torchtext.vocab.GloVe(name='6B', dim=100)"
      ],
      "execution_count": null,
      "outputs": [
        {
          "output_type": "stream",
          "name": "stderr",
          "text": [
            ".vector_cache/glove.6B.zip: 862MB [02:40, 5.38MB/s]                           \n",
            "100%|█████████▉| 399999/400000 [00:18<00:00, 21182.85it/s]\n"
          ]
        }
      ]
    },
    {
      "cell_type": "markdown",
      "metadata": {
        "id": "lSEN48oHupb3"
      },
      "source": [
        "## Similarity and Dissimilarity Metric\n",
        "\n",
        "For similarity we used Cosine similarity implemented in Pytorch. For dissimilarity, we used Frobenius norm.\n",
        "Frobenius norm on the embedding space defines how far away are the two projected word-vectors are - which correlates with the notion of dissimilarity."
      ]
    },
    {
      "cell_type": "code",
      "metadata": {
        "id": "YQ9ksnycfvxg"
      },
      "source": [
        "def compare_words():\n",
        "  w1 = input(\"Enter First Word: \")\n",
        "  w2 = input(\"Enter Second Word: \")\n",
        "  gw1 = glove[w1]\n",
        "  gw2 = glove[w2]\n",
        "  print(f\"Cosine Similarity: {torch.cosine_similarity(gw1.unsqueeze(0), gw2.unsqueeze(0)).numpy()[0]:0.5f}\")\n",
        "  print(f\"Eucildean Distance: {torch.norm(gw1-gw2).numpy():0.5f}\")"
      ],
      "execution_count": null,
      "outputs": []
    },
    {
      "cell_type": "markdown",
      "metadata": {
        "id": "T_p86fzRz7Ny"
      },
      "source": [
        "## RUN"
      ]
    },
    {
      "cell_type": "code",
      "metadata": {
        "colab": {
          "base_uri": "https://localhost:8080/"
        },
        "id": "Hb4GZt3LhYVB",
        "outputId": "139dd5db-8ab8-4c90-802c-06d8f1d1013e"
      },
      "source": [
        "try:\n",
        "    while True:\n",
        "        compare_words()\n",
        "\n",
        "except KeyboardInterrupt:\n",
        "    print(\"Press Ctrl-C to terminate while statement\")\n",
        "    pass"
      ],
      "execution_count": null,
      "outputs": [
        {
          "output_type": "stream",
          "name": "stdout",
          "text": [
            "Enter First Word: cat\n",
            "Enter Second Word: dog\n",
            "Cosine Similarity: 0.87981\n",
            "Eucildean Distance: 2.68113\n",
            "Press Ctrl-C to terminate while statement\n"
          ]
        }
      ]
    },
    {
      "cell_type": "markdown",
      "metadata": {
        "id": "M5RNSwYeWmyg"
      },
      "source": [
        "# References\n",
        "\n"
      ]
    },
    {
      "cell_type": "markdown",
      "metadata": {
        "id": "VbAygtgLau_J"
      },
      "source": [
        "Sources and Tutorials:\n",
        "1. https://towardsdatascience.com/17-types-of-similarity-and-dissimilarity-measures-used-in-data-science-3eb914d2681\n",
        "2. https://pytorch.org/text/stable/index.html\n",
        "3. https://pytorch.org/text/stable/data_metrics.html\n",
        "4. https://pytorch.org/text/stable/vocab.html (GloVE pre-trained word embedding)\n",
        "5. https://pytorch.org/tutorials/intermediate/seq2seq_translation_tutorial.html \n",
        "6. https://towardsdatascience.com/language-translation-with-rnns-d84d43b40571\n",
        "7. http://www.adeveloperdiary.com/data-science/deep-learning/nlp/machine-translation-recurrent-neural-network-pytorch/\n",
        "8. https://pytorch.org/tutorials/beginner/torchtext_translation_tutorial.html\n",
        "9. https://www.analyticsvidhya.com/blog/2020/03/pretrained-word-embeddings-nlp/\n",
        "10. https://towardsdatascience.com/a-comprehensive-guide-to-neural-machine-translation-using-seq2sequence-modelling-using-pytorch-41c9b84ba350 \n",
        "11. https://www.nltk.org/_modules/nltk/translate/bleu_score.html"
      ]
    }
  ]
}