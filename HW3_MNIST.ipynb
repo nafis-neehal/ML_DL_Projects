{
  "nbformat": 4,
  "nbformat_minor": 0,
  "metadata": {
    "colab": {
      "name": "HW3_MNIST",
      "provenance": [],
      "collapsed_sections": [],
      "toc_visible": true,
      "authorship_tag": "ABX9TyOez+4iwk2SuYg66HeBYZJM",
      "include_colab_link": true
    },
    "kernelspec": {
      "name": "python3",
      "display_name": "Python 3"
    },
    "language_info": {
      "name": "python"
    }
  },
  "cells": [
    {
      "cell_type": "markdown",
      "metadata": {
        "id": "view-in-github",
        "colab_type": "text"
      },
      "source": [
        "<a href=\"https://colab.research.google.com/github/nafis-neehal/ML_PROJ_RPI/blob/main/HW3_MNIST.ipynb\" target=\"_parent\"><img src=\"https://colab.research.google.com/assets/colab-badge.svg\" alt=\"Open In Colab\"/></a>"
      ]
    },
    {
      "cell_type": "code",
      "metadata": {
        "id": "CKaMwwvDpByt"
      },
      "source": [
        "# from google.colab import drive\n",
        "# drive.mount('/content/drive')"
      ],
      "execution_count": 1,
      "outputs": []
    },
    {
      "cell_type": "markdown",
      "metadata": {
        "id": "D9E_1g5Ct2Op"
      },
      "source": [
        "#Dataset Description\n",
        "\n",
        "For this problem, I have used the very famous MNIST dataset, and wanted to explore the performance of a vanilally 2-Layer Neural Network on MNIST. It has handwritten digit samples for all the english digits 0-9. For training, we have 60,000 samples and for test, we have 10,000 samples. I download it from the default pytorch dataset collection. \\\\\n",
        "**Objective:** Classify handwritten digits correctly, as many as possible. \\\\\n",
        "**Loss:** For this multiclass classification problem, we use an extesion of cross-entropy loss. \\\\\n",
        "**State-of-the-art Accuracy:** 99.84% on test set [Paper: https://paperswithcode.com/paper/a-branching-and-merging-convolutional-network]"
      ]
    },
    {
      "cell_type": "markdown",
      "metadata": {
        "id": "MDkM2SFVibtG"
      },
      "source": [
        "#Import Libraries\n",
        "\n",
        "For solving this problem, we use Pytorch Framework. \\\\\n",
        "Resources:\n",
        "\n",
        "*   Pytorch implementation of Neural Networks: https://pytorch.org/docs/stable/nn.html\n",
        "*   Pytorch loss functions: https://pytorch.org/docs/stable/nn.html#loss-functions\n",
        "*   Pytorch Optimizer for SGD (ADAM implementation): https://pytorch.org/docs/stable/optim.html \n",
        "*   Pytorch calculating gradients with Autograd: https://pytorch.org/tutorials/beginner/blitz/autograd_tutorial.html \n",
        "*   Pytorch dataset and dataloader utility for mini-batch training: https://pytorch.org/tutorials/beginner/basics/data_tutorial.html\n"
      ]
    },
    {
      "cell_type": "code",
      "metadata": {
        "colab": {
          "base_uri": "https://localhost:8080/"
        },
        "id": "tReSS-ytc4xq",
        "outputId": "4ddb6bde-22c7-4aeb-87fb-56462f28c4c4"
      },
      "source": [
        "import torch\n",
        "import tensorflow as tf\n",
        "import torch.nn as nn\n",
        "import torch.nn.functional as F\n",
        "from torch.utils.data import DataLoader\n",
        "from torchvision import datasets, transforms\n",
        "\n",
        "import numpy as np\n",
        "import pandas as pd\n",
        "import matplotlib.pyplot as plt \n",
        "import time\n",
        "\n",
        "from sklearn.model_selection import train_test_split\n",
        "\n",
        "torch.manual_seed(101)"
      ],
      "execution_count": 2,
      "outputs": [
        {
          "output_type": "execute_result",
          "data": {
            "text/plain": [
              "<torch._C.Generator at 0x7fea2d58fef0>"
            ]
          },
          "metadata": {},
          "execution_count": 2
        }
      ]
    },
    {
      "cell_type": "markdown",
      "metadata": {
        "id": "xMOyfwXEjapo"
      },
      "source": [
        "# Import Train and Test Data\n",
        "We download the MNIST data locally and apply transformation (transforming them all to tensor) by default. We can add normalization and standardization and other stuffs here too."
      ]
    },
    {
      "cell_type": "code",
      "metadata": {
        "colab": {
          "base_uri": "https://localhost:8080/"
        },
        "id": "UxVEclHmdTPX",
        "outputId": "4cf2a379-6ae7-48bc-d21a-e4e131be9636"
      },
      "source": [
        "Transform = transforms.ToTensor()\n",
        "train = datasets.MNIST(root=\"./DATA\", train=True, download=True, transform=Transform)\n",
        "test = datasets.MNIST(root=\"./DATA\", train=False, download=True, transform=Transform)"
      ],
      "execution_count": 3,
      "outputs": [
        {
          "output_type": "stream",
          "name": "stderr",
          "text": [
            "/usr/local/lib/python3.7/dist-packages/torchvision/datasets/mnist.py:498: UserWarning: The given NumPy array is not writeable, and PyTorch does not support non-writeable tensors. This means you can write to the underlying (supposedly non-writeable) NumPy array using the tensor. You may want to copy the array to protect its data or make it writeable before converting it to a tensor. This type of warning will be suppressed for the rest of this program. (Triggered internally at  /pytorch/torch/csrc/utils/tensor_numpy.cpp:180.)\n",
            "  return torch.from_numpy(parsed.astype(m[2], copy=False)).view(*s)\n"
          ]
        }
      ]
    },
    {
      "cell_type": "markdown",
      "metadata": {
        "id": "ZPrRDG5ejhhv"
      },
      "source": [
        "#Data Analysis\n",
        "We will do some exploratory analysis here - "
      ]
    },
    {
      "cell_type": "markdown",
      "metadata": {
        "id": "3MsZP4n0r3yu"
      },
      "source": [
        "## Show Sample Data"
      ]
    },
    {
      "cell_type": "code",
      "metadata": {
        "colab": {
          "base_uri": "https://localhost:8080/",
          "height": 317
        },
        "id": "PLGivpUoeRh0",
        "outputId": "9141d2ab-e59b-4d03-9ca9-9d8ecd852445"
      },
      "source": [
        "image, label = train[0]\n",
        "print(\"Shape:\", image.shape, '\\nLabel:', label)\n",
        "plt.imshow(image.reshape((28,28)), cmap='gray')"
      ],
      "execution_count": 4,
      "outputs": [
        {
          "output_type": "stream",
          "name": "stdout",
          "text": [
            "Shape: torch.Size([1, 28, 28]) \n",
            "Label: 5\n"
          ]
        },
        {
          "output_type": "execute_result",
          "data": {
            "text/plain": [
              "<matplotlib.image.AxesImage at 0x7fe9d45407d0>"
            ]
          },
          "metadata": {},
          "execution_count": 4
        },
        {
          "output_type": "display_data",
          "data": {
            "image/png": "[encoded data removed]",
            "text/plain": [
              "<Figure size 432x288 with 1 Axes>"
            ]
          },
          "metadata": {
            "needs_background": "light"
          }
        }
      ]
    },
    {
      "cell_type": "markdown",
      "metadata": {
        "id": "YfOAghNur6GS"
      },
      "source": [
        "## Show Class Labels with Value Counts for Imbalance\n",
        "Here, the dataset is very well refined, so classes are very balanced."
      ]
    },
    {
      "cell_type": "code",
      "metadata": {
        "colab": {
          "base_uri": "https://localhost:8080/"
        },
        "id": "AtCcvX1gqsRm",
        "outputId": "37f64619-9d6a-4332-df3f-1737968f4f88"
      },
      "source": [
        "values, counts = torch.unique(train.train_labels, return_counts=True)\n",
        "[print(x[0].numpy(), x[1].numpy()) for x in list(zip(values, counts))];"
      ],
      "execution_count": 34,
      "outputs": [
        {
          "output_type": "stream",
          "name": "stdout",
          "text": [
            "0 5923\n",
            "1 6742\n",
            "2 5958\n",
            "3 6131\n",
            "4 5842\n",
            "5 5421\n",
            "6 5918\n",
            "7 6265\n",
            "8 5851\n",
            "9 5949\n"
          ]
        },
        {
          "output_type": "stream",
          "name": "stderr",
          "text": [
            "/usr/local/lib/python3.7/dist-packages/torchvision/datasets/mnist.py:52: UserWarning: train_labels has been renamed targets\n",
            "  warnings.warn(\"train_labels has been renamed targets\")\n"
          ]
        }
      ]
    },
    {
      "cell_type": "markdown",
      "metadata": {
        "id": "Vtl-BC7gjlKz"
      },
      "source": [
        "## Split Training Data into 80-20 Training and Validation\n",
        "So finally, we have - \n",
        "\n",
        "*   48,000 training samples\n",
        "*   12,000 validation samples\n",
        "*   10,000 test samples\n",
        "\n"
      ]
    },
    {
      "cell_type": "code",
      "metadata": {
        "colab": {
          "base_uri": "https://localhost:8080/"
        },
        "id": "hXnU8K9QZ4iu",
        "outputId": "943d1a8d-5acd-44e1-9b32-2bda3554bc11"
      },
      "source": [
        "X_train_flatten = torch.reshape(train.data, [60000, 784]).numpy()\n",
        "y_train = train.train_labels.numpy()"
      ],
      "execution_count": 5,
      "outputs": [
        {
          "output_type": "stream",
          "name": "stderr",
          "text": [
            "/usr/local/lib/python3.7/dist-packages/torchvision/datasets/mnist.py:52: UserWarning: train_labels has been renamed targets\n",
            "  warnings.warn(\"train_labels has been renamed targets\")\n"
          ]
        }
      ]
    },
    {
      "cell_type": "code",
      "metadata": {
        "id": "X4oA9Poyaurh"
      },
      "source": [
        "X_train, X_val, y_train, y_val = train_test_split(X_train_flatten, y_train, test_size=0.20, random_state=42)"
      ],
      "execution_count": 6,
      "outputs": []
    },
    {
      "cell_type": "code",
      "metadata": {
        "id": "OE0iMpkHbHlF"
      },
      "source": [
        "train_data = np.concatenate((X_train, y_train.reshape(y_train.shape[0],1)), axis=1)\n",
        "val_data = np.concatenate((X_val, y_val.reshape(y_val.shape[0],1)), axis=1)"
      ],
      "execution_count": 7,
      "outputs": []
    },
    {
      "cell_type": "markdown",
      "metadata": {
        "id": "btudyK5PjyIu"
      },
      "source": [
        "## Data Loaders for Mini-Batch Processing"
      ]
    },
    {
      "cell_type": "code",
      "metadata": {
        "id": "tz9rxGt5cVCp"
      },
      "source": [
        "train_loader = DataLoader(train_data, batch_size=100, shuffle=True)\n",
        "valid_loader = DataLoader(val_data, batch_size=500, shuffle=False)\n",
        "test_loader = DataLoader(test, batch_size=500, shuffle=False)"
      ],
      "execution_count": 8,
      "outputs": []
    },
    {
      "cell_type": "markdown",
      "metadata": {
        "id": "VVdVNMIbj3sd"
      },
      "source": [
        "#Deep Neural Network Architecture\n",
        "\n",
        "For this network, I have one hidden layer (dim=128) and one output layer (dim=10, one for each class), both of them are linear in nature. On the hidden layer, I apply ReLU activation, and on the output layer I apply softmax (multi-classification). I also use drouput as a regularization scheme with 20% droupout probability"
      ]
    },
    {
      "cell_type": "code",
      "metadata": {
        "id": "5uuMpSxZe4ou"
      },
      "source": [
        "class DNN(nn.Module):\n",
        "  def __init__(self, input_size=784, output_size=10):\n",
        "    super().__init__()\n",
        "    self.h1 = nn.Linear(input_size, 128)\n",
        "    self.output = nn.Linear(128, output_size)\n",
        "    self.dropout = nn.Dropout(0.2)\n",
        "  \n",
        "  def forward(self, X):\n",
        "    X = F.relu(self.h1(X))\n",
        "    X = self.dropout(X)\n",
        "    X = self.output(X)\n",
        "    return F.log_softmax(X, dim=1)"
      ],
      "execution_count": 9,
      "outputs": []
    },
    {
      "cell_type": "code",
      "metadata": {
        "colab": {
          "base_uri": "https://localhost:8080/"
        },
        "id": "FVbhfYezfN-N",
        "outputId": "16f93927-61b2-438a-834c-8cf1c039db36"
      },
      "source": [
        "model = DNN()\n",
        "print(model)"
      ],
      "execution_count": 10,
      "outputs": [
        {
          "output_type": "stream",
          "name": "stdout",
          "text": [
            "DNN(\n",
            "  (h1): Linear(in_features=784, out_features=128, bias=True)\n",
            "  (output): Linear(in_features=128, out_features=10, bias=True)\n",
            "  (dropout): Dropout(p=0.2, inplace=False)\n",
            ")\n"
          ]
        }
      ]
    },
    {
      "cell_type": "markdown",
      "metadata": {
        "id": "mGQmLz7hj9Tl"
      },
      "source": [
        "#Loss function and optimizer\n",
        "\n",
        "Cross Entropy Loss Function for Multiclass Problem: $$ -\\sum_{c=1}^{M}y_{o,c}log(p_{o,c})$$\n",
        "Where,\n",
        "\n",
        "\n",
        "*   M - number of classes\n",
        "*   log - natural log\n",
        "*   y - binary indicator (0 or 1) if class label c is the correct classification for observation o\n",
        "*   p - predicted probability observation o is of class c"
      ]
    },
    {
      "cell_type": "code",
      "metadata": {
        "id": "7vobNTRRf-XB"
      },
      "source": [
        "criterion = nn.CrossEntropyLoss()\n",
        "optimizer = torch.optim.Adam(model.parameters(), lr=0.001)"
      ],
      "execution_count": 11,
      "outputs": []
    },
    {
      "cell_type": "markdown",
      "metadata": {
        "id": "ELFs5JlPj_ar"
      },
      "source": [
        "# Model Training\n",
        "We train this model for 10 epochs. In each epoch, there are mini-batches of 100 samples. So in total there will be 480 epochs for each batch. The model will train on the whole 48,000 training samples for 10 times. Training and Validation losses and accuracies are saved for each epoch accordingly.\n",
        "\n"
      ]
    },
    {
      "cell_type": "code",
      "metadata": {
        "colab": {
          "base_uri": "https://localhost:8080/"
        },
        "id": "M2g76S7PgfWc",
        "outputId": "d7a2b6f9-012f-4c54-f0a3-8ae4dc2d14a7"
      },
      "source": [
        "#lists and params\n",
        "epochs = 10\n",
        "train_losses = []\n",
        "val_losses = []\n",
        "train_acc = []\n",
        "val_acc = []\n",
        "\n",
        "for i in range(epochs):\n",
        "  trn_corr = 0\n",
        "  val_corr = 0\n",
        "\n",
        "  #run the training batches\n",
        "  for b, sample in enumerate(train_loader):\n",
        "    b+=1\n",
        "\n",
        "    #split data and labels\n",
        "    Xtr, ytr = sample[:,:-1], sample[:,-1]\n",
        "\n",
        "    #apply the model\n",
        "    y_pred = model(Xtr.view(100,-1).float()) #flatten x_train\n",
        "    loss = criterion(y_pred, ytr)\n",
        "\n",
        "    #calculate correct predictions\n",
        "    predicted = torch.max(y_pred.data, 1)[1]\n",
        "    batch_corr = (predicted == ytr).sum()\n",
        "    trn_corr += batch_corr\n",
        "\n",
        "    #update params\n",
        "    optimizer.zero_grad()\n",
        "    loss.backward()\n",
        "    optimizer.step()\n",
        "\n",
        "    #print results\n",
        "    if b%480 == 0:\n",
        "      print(f'epoch: {i} batch: {b} [{100*b*(i+1):6}/480000] Train loss: {loss.item():0.5f} Train accuracy: {trn_corr.item()*100/48000:0.5f}%')\n",
        "\n",
        "  train_losses.append(loss)\n",
        "  train_acc.append(trn_corr.item()*100/48000)\n",
        "\n",
        "  #run the test batches\n",
        "  with torch.no_grad(): #don't calculate the gradients during testing\n",
        "    for b,v_sample in enumerate(valid_loader):\n",
        "\n",
        "      #split data and labels\n",
        "      Xv, yv = v_sample[:,:-1], v_sample[:,-1]\n",
        "      \n",
        "      #apply the model]\n",
        "      y_pred_v = model(Xv.view(500, -1).float()) #flatten X_val\n",
        "\n",
        "      #tally the number of correct predictions\n",
        "      predicted = torch.max(y_pred_v.data, 1)[1]\n",
        "      val_corr += (predicted == yv).sum()\n",
        "\n",
        "  #update test loss and accuracy for the epoch\n",
        "  loss = criterion(y_pred_v, yv)\n",
        "  val_losses.append(loss)\n",
        "  val_acc.append(val_corr.item()*100/12000)"
      ],
      "execution_count": 12,
      "outputs": [
        {
          "output_type": "stream",
          "name": "stdout",
          "text": [
            "epoch: 0 batch: 480 [ 48000/480000] Train loss: 0.29996 Train accuracy: 85.15000%\n",
            "epoch: 1 batch: 480 [ 96000/480000] Train loss: 0.22542 Train accuracy: 91.60625%\n",
            "epoch: 2 batch: 480 [144000/480000] Train loss: 0.15055 Train accuracy: 93.10208%\n",
            "epoch: 3 batch: 480 [192000/480000] Train loss: 0.14953 Train accuracy: 93.82917%\n",
            "epoch: 4 batch: 480 [240000/480000] Train loss: 0.13415 Train accuracy: 94.27083%\n",
            "epoch: 5 batch: 480 [288000/480000] Train loss: 0.17610 Train accuracy: 94.53333%\n",
            "epoch: 6 batch: 480 [336000/480000] Train loss: 0.19721 Train accuracy: 94.52083%\n",
            "epoch: 7 batch: 480 [384000/480000] Train loss: 0.22063 Train accuracy: 94.80625%\n",
            "epoch: 8 batch: 480 [432000/480000] Train loss: 0.22268 Train accuracy: 94.77292%\n",
            "epoch: 9 batch: 480 [480000/480000] Train loss: 0.09474 Train accuracy: 94.94167%\n"
          ]
        }
      ]
    },
    {
      "cell_type": "markdown",
      "metadata": {
        "id": "FD6J2a3MkMfO"
      },
      "source": [
        "# Performance on Validation and Test Set"
      ]
    },
    {
      "cell_type": "code",
      "metadata": {
        "colab": {
          "base_uri": "https://localhost:8080/"
        },
        "id": "ft-1OzT5ekoF",
        "outputId": "92de1209-d0d4-4eac-b59f-f9fe00169fc5"
      },
      "source": [
        "y_pred_test = model(test.data.view(10000, -1).float())\n",
        "predicted_test = torch.max(y_pred_test.data, 1)[1]\n",
        "test_accuracy = (predicted_test == test.test_labels).sum().item()*100/10000"
      ],
      "execution_count": 14,
      "outputs": [
        {
          "output_type": "stream",
          "name": "stderr",
          "text": [
            "/usr/local/lib/python3.7/dist-packages/torchvision/datasets/mnist.py:57: UserWarning: test_labels has been renamed targets\n",
            "  warnings.warn(\"test_labels has been renamed targets\")\n"
          ]
        }
      ]
    },
    {
      "cell_type": "code",
      "metadata": {
        "colab": {
          "base_uri": "https://localhost:8080/"
        },
        "id": "hkGgiwnFi6Bu",
        "outputId": "34c03aad-bc64-43e2-9bc6-e9ced31d6a64"
      },
      "source": [
        "print(f'Final Validation accuracy: {val_acc[-1]:0.2f}%')"
      ],
      "execution_count": 18,
      "outputs": [
        {
          "output_type": "stream",
          "name": "stdout",
          "text": [
            "Validation accuracy: 93.60%\n"
          ]
        }
      ]
    },
    {
      "cell_type": "code",
      "metadata": {
        "colab": {
          "base_uri": "https://localhost:8080/"
        },
        "id": "CztRqXlVfRmY",
        "outputId": "8e7f32a5-e06a-4c2b-cbf6-3cad2936ddc2"
      },
      "source": [
        "print(f'Final Test Accuracy:{test_accuracy:0.2f}%', )"
      ],
      "execution_count": 19,
      "outputs": [
        {
          "output_type": "stream",
          "name": "stdout",
          "text": [
            "Test Accuracy:93.93%\n"
          ]
        }
      ]
    },
    {
      "cell_type": "code",
      "metadata": {
        "colab": {
          "base_uri": "https://localhost:8080/",
          "height": 353
        },
        "id": "xsnRtMq5mhG3",
        "outputId": "b318bb79-758b-4526-8297-867b45c4e260"
      },
      "source": [
        "f = plt.figure(figsize=(20,5))\n",
        "ax = f.add_subplot(121)\n",
        "ax2 = f.add_subplot(122)\n",
        "\n",
        "ax.plot(train_losses, label=\"Training loss\")\n",
        "ax.plot(val_losses, label=\"Validation loss\")\n",
        "ax.set_title(\"Loss at the end of each epoch\")\n",
        "ax.legend()\n",
        "\n",
        "ax2.plot(train_acc, label=\"Training acc\")\n",
        "ax2.plot(val_acc, label=\"Validation acc\")\n",
        "ax2.set_title('Accuracy at the end of each epoch')\n",
        "ax2.legend()"
      ],
      "execution_count": 16,
      "outputs": [
        {
          "output_type": "execute_result",
          "data": {
            "text/plain": [
              "<matplotlib.legend.Legend at 0x7fe9d407f110>"
            ]
          },
          "metadata": {},
          "execution_count": 16
        },
        {
          "output_type": "display_data",
          "data": {
            "image/png": "[encoded data removed]",
            "text/plain": [
              "<Figure size 1440x360 with 2 Axes>"
            ]
          },
          "metadata": {
            "needs_background": "light"
          }
        }
      ]
    },
    {
      "cell_type": "markdown",
      "metadata": {
        "id": "122Vku-NyDx3"
      },
      "source": [
        "# Discussions\n",
        "**Result:** We get final accuracy about 94% on the Test set, which is not bad at all comparing the vanilla miniman 2-layer architecture we have here. The state of the art architecture used CNN + Homogeneous Filter Capsules for achieving 99.8% accuracy. \\\\\n",
        "**Hyperparameter Selection:** The main hyperparameter mainly here was the number of epochs and learning rate. I chose these based on trial-and-error on several values. For number of epochs I tried [5,10,20, 50, 100] and for learning rate I tried [0.0001, 0.0003, 0.001, 0.003, 0.01, 0.03]. The best parameters were used from this search. In future I plan to use Hyperparameter tuner like Optuna/Hyperopt for these. \\\\\n",
        "**Regularization:** I used dropout regularization on neural network with 20% dropout probability. For small networks with small number of parameters, dropout usually works better than complex regularization schemes like L1/L2/Elastic Net. \\\\\n",
        "**GD Optimization:** I used Adam gradient descent optimization algorithm, just based on the popular choice in literature."
      ]
    }
  ]
}